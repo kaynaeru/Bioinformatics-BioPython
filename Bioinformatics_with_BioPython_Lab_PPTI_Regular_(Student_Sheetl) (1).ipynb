{
  "cells": [
    {
      "cell_type": "markdown",
      "metadata": {
        "id": "80tgd3_QZrqr"
      },
      "source": [
        "###### SCIE6062 Computational Biology: Bioinformatics using Biopython"
      ]
    },
    {
      "cell_type": "markdown",
      "metadata": {
        "id": "permBQOGZrq0"
      },
      "source": [
        "## Introduction to BioPython\n",
        "\n",
        "\n",
        "### What is BioPython?\n",
        "Biopython is a set of freely available tools for biological computation written in Python by an international team of developers. It is a distributed collaborative effort to develop Python libraries and applications which address the needs of current and future work in bioinformatics. The source code is made available under the Biopython License, which is extremely liberal and compatible with almost every license in the world.\n",
        "http://biopython.org/DIST/docs/tutorial/Tutorial.pdf\n",
        "\n",
        "![](https://drive.google.com/uc?export=view&id=1UlZt4j65UAWDVnvI5X0iKjm3VsVUoaLd)\n",
        "\n",
        "\n",
        "#### Common Applications\n",
        "+ For sequence analysis (DNA,RNA)\n",
        "+ To do transcription and translation of DNA (Protein Synthesis)\n",
        "+ Querying and Access BioInformatic Databases\n",
        "    - Entrez, BLAST,GenBank,etc\n",
        "+ 3D Structure analysis\n",
        "+ ATGATCTCGTAA\n",
        "+ ATTAAAGGTTTATACCTTCCCAGGTAACAAACCAACCAACTTTCGATCTCTTGTAGATCTGTTCTCTAAA\n",
        "\n",
        "\n",
        "#### Common Questions in BioInformatics\n",
        "+ How to create a sequence?\n",
        "+ How to Protein Synthesis (Transcription,Translation)?\n",
        "+ How to Find GC content and Molecular weights of a protein or DNA?\n",
        "+ How to Convert protein sequence from one-letter to three-letter code and vice versa?\n",
        "+ How to find the Frequency of Nucleotide,Amino Acids,etc?\n",
        "+ How to do Sequence Alignment?\n",
        "+ How to do Similarity and homology analysis?\n",
        "+ etc"
      ]
    },
    {
      "cell_type": "markdown",
      "metadata": {
        "id": "WA5E7KefZrq2"
      },
      "source": [
        "#### Features of BioPython\n",
        "[](Biopython_featuresdiagram.png)\n",
        "![](https://drive.google.com/uc?export=view&id=1U-M19NFryjlGtHZTXbVV2_BMTU2vGI8Q)\n",
        "\n",
        "+ [https://coggle.it/diagram/XYlLv7styC7WAgJM/t/biopython-tutorial]"
      ]
    },
    {
      "cell_type": "markdown",
      "metadata": {
        "id": "isksyVZvZrq3"
      },
      "source": [
        "## Lab 1 : Introduction to DNA Sequence\n",
        "\n",
        "#### Check biopython installation"
      ]
    },
    {
      "cell_type": "code",
      "execution_count": null,
      "metadata": {
        "colab": {
          "base_uri": "https://localhost:8080/"
        },
        "id": "M6B0rEEUZrq3",
        "outputId": "6b477452-b86f-4832-83b0-8255c4b9702a"
      },
      "outputs": [
        {
          "output_type": "stream",
          "name": "stdout",
          "text": [
            "Collecting biopython\n",
            "  Downloading biopython-1.83-cp310-cp310-manylinux_2_17_x86_64.manylinux2014_x86_64.whl (3.1 MB)\n",
            "\u001b[2K     \u001b[90m━━━━━━━━━━━━━━━━━━━━━━━━━━━━━━━━━━━━━━━━\u001b[0m \u001b[32m3.1/3.1 MB\u001b[0m \u001b[31m10.1 MB/s\u001b[0m eta \u001b[36m0:00:00\u001b[0m\n",
            "\u001b[?25hRequirement already satisfied: numpy in /usr/local/lib/python3.10/dist-packages (from biopython) (1.25.2)\n",
            "Installing collected packages: biopython\n",
            "Successfully installed biopython-1.83\n"
          ]
        }
      ],
      "source": [
        "#Installation (try !pip for native anaconda distribution or pip for google colab)\n",
        "!pip install biopython\n"
      ]
    },
    {
      "cell_type": "code",
      "execution_count": null,
      "metadata": {
        "colab": {
          "base_uri": "https://localhost:8080/"
        },
        "id": "KJaGmf29Wpod",
        "outputId": "0bcf393a-45ee-4470-9319-b0be3c80029b"
      },
      "outputs": [
        {
          "output_type": "stream",
          "name": "stdout",
          "text": [
            "Mounted at /content/PraktikumBiologi\n"
          ]
        }
      ],
      "source": [
        "# Connect Google Drive to Colab\n",
        "from google.colab import drive\n",
        "drive.mount('/content/PraktikumBiologi')"
      ]
    },
    {
      "cell_type": "code",
      "execution_count": null,
      "metadata": {
        "id": "YOjQCzT6Zrq5"
      },
      "outputs": [],
      "source": [
        "# Load Bioinformatic Pkgs\n",
        "import Bio"
      ]
    },
    {
      "cell_type": "code",
      "execution_count": null,
      "metadata": {
        "id": "MM-qNwpa7I-c"
      },
      "outputs": [],
      "source": []
    },
    {
      "cell_type": "code",
      "execution_count": null,
      "metadata": {
        "colab": {
          "base_uri": "https://localhost:8080/"
        },
        "id": "-A_87zH2Zrq6",
        "outputId": "db82c788-8db2-4954-cf0e-3b8d9555cde2",
        "scrolled": false
      },
      "outputs": [
        {
          "data": {
            "text/plain": [
              "['BiopythonDeprecationWarning',\n",
              " 'BiopythonExperimentalWarning',\n",
              " 'BiopythonParserWarning',\n",
              " 'BiopythonWarning',\n",
              " 'Data',\n",
              " 'MissingExternalDependencyError',\n",
              " 'MissingPythonDependencyError',\n",
              " 'Seq',\n",
              " 'SeqUtils',\n",
              " 'StreamModeError',\n",
              " '__builtins__',\n",
              " '__cached__',\n",
              " '__doc__',\n",
              " '__file__',\n",
              " '__loader__',\n",
              " '__name__',\n",
              " '__package__',\n",
              " '__path__',\n",
              " '__spec__',\n",
              " '__version__',\n",
              " '_parent_dir',\n",
              " 'os',\n",
              " 'warnings']"
            ]
          },
          "execution_count": 6,
          "metadata": {},
          "output_type": "execute_result"
        }
      ],
      "source": [
        "# Methods and Attributes\n",
        "dir(Bio)"
      ]
    },
    {
      "cell_type": "markdown",
      "metadata": {
        "id": "9vYGrp4QZrq7"
      },
      "source": [
        "#### Sequence Analysis\n",
        "+ DNA and RNA Sequence\n",
        "    - A Adenine\n",
        "    - C Cytosine\n",
        "    - G Guanine\n",
        "    - T Thymine\n",
        "    - U Uracil * RNA\n",
        "    \n",
        "\n",
        "+ DNA Structure\n",
        "\n",
        "![](https://drive.google.com/uc?export=view&id=1Q79Lo8pb305Lyv2ORnikIQpj2UC2wgw2)\n"
      ]
    },
    {
      "cell_type": "markdown",
      "metadata": {
        "id": "alaKZ7AeZrq8"
      },
      "source": [
        "#### Working with Sequences"
      ]
    },
    {
      "cell_type": "code",
      "execution_count": null,
      "metadata": {
        "id": "qSaAmj7eZrq9"
      },
      "outputs": [],
      "source": [
        "from Bio.Seq import Seq"
      ]
    },
    {
      "cell_type": "code",
      "execution_count": null,
      "metadata": {
        "colab": {
          "base_uri": "https://localhost:8080/"
        },
        "id": "TP5MhDG98DYF",
        "outputId": "e1af4260-021e-41f7-8ef9-4929415ea309"
      },
      "outputs": [
        {
          "name": "stdout",
          "output_type": "stream",
          "text": [
            "Requirement already satisfied: biopython in /usr/local/lib/python3.10/dist-packages (1.83)\n",
            "Requirement already satisfied: numpy in /usr/local/lib/python3.10/dist-packages (from biopython) (1.23.5)\n"
          ]
        }
      ],
      "source": [
        "!pip install biopython"
      ]
    },
    {
      "cell_type": "code",
      "execution_count": null,
      "metadata": {
        "colab": {
          "base_uri": "https://localhost:8080/"
        },
        "id": "6qfsyClqZrq9",
        "outputId": "69ed746b-3c65-4030-de0a-91e58b7a8c0b"
      },
      "outputs": [
        {
          "data": {
            "text/plain": [
              "['__abstractmethods__',\n",
              " '__add__',\n",
              " '__annotations__',\n",
              " '__array_ufunc__',\n",
              " '__bytes__',\n",
              " '__class__',\n",
              " '__contains__',\n",
              " '__delattr__',\n",
              " '__dict__',\n",
              " '__dir__',\n",
              " '__doc__',\n",
              " '__eq__',\n",
              " '__format__',\n",
              " '__ge__',\n",
              " '__getattribute__',\n",
              " '__getitem__',\n",
              " '__gt__',\n",
              " '__hash__',\n",
              " '__imul__',\n",
              " '__init__',\n",
              " '__init_subclass__',\n",
              " '__iter__',\n",
              " '__le__',\n",
              " '__len__',\n",
              " '__lt__',\n",
              " '__module__',\n",
              " '__mul__',\n",
              " '__ne__',\n",
              " '__new__',\n",
              " '__radd__',\n",
              " '__reduce__',\n",
              " '__reduce_ex__',\n",
              " '__repr__',\n",
              " '__rmul__',\n",
              " '__setattr__',\n",
              " '__sizeof__',\n",
              " '__slots__',\n",
              " '__str__',\n",
              " '__subclasshook__',\n",
              " '__weakref__',\n",
              " '_abc_impl',\n",
              " '_data',\n",
              " 'back_transcribe',\n",
              " 'complement',\n",
              " 'complement_rna',\n",
              " 'count',\n",
              " 'count_overlap',\n",
              " 'defined',\n",
              " 'defined_ranges',\n",
              " 'endswith',\n",
              " 'find',\n",
              " 'index',\n",
              " 'islower',\n",
              " 'isupper',\n",
              " 'join',\n",
              " 'lower',\n",
              " 'lstrip',\n",
              " 'removeprefix',\n",
              " 'removesuffix',\n",
              " 'replace',\n",
              " 'reverse_complement',\n",
              " 'reverse_complement_rna',\n",
              " 'rfind',\n",
              " 'rindex',\n",
              " 'rsplit',\n",
              " 'rstrip',\n",
              " 'search',\n",
              " 'split',\n",
              " 'startswith',\n",
              " 'strip',\n",
              " 'transcribe',\n",
              " 'translate',\n",
              " 'upper']"
            ]
          },
          "execution_count": 12,
          "metadata": {},
          "output_type": "execute_result"
        }
      ],
      "source": [
        "# Methods of Seq\n",
        "dir(Seq)"
      ]
    },
    {
      "cell_type": "code",
      "execution_count": null,
      "metadata": {
        "colab": {
          "base_uri": "https://localhost:8080/"
        },
        "id": "Z_x9hKqDZrq-",
        "outputId": "ee212081-12f0-4235-ff24-945680eaf885"
      },
      "outputs": [
        {
          "data": {
            "text/plain": [
              "Seq('ATGATCTCGTAA')"
            ]
          },
          "execution_count": 14,
          "metadata": {},
          "output_type": "execute_result"
        }
      ],
      "source": [
        "# Create A simple sequences\n",
        "seq1 = Seq('ATGATCTCGTAA')\n",
        "seq1"
      ]
    },
    {
      "cell_type": "code",
      "execution_count": null,
      "metadata": {
        "colab": {
          "base_uri": "https://localhost:8080/"
        },
        "id": "ZVZQc0fxZrq_",
        "outputId": "5cec0f99-493e-432e-a219-db06ac1a603f"
      },
      "outputs": [
        {
          "data": {
            "text/plain": [
              "Seq('AUGUUCUCGUAA')"
            ]
          },
          "execution_count": 37,
          "metadata": {},
          "output_type": "execute_result"
        }
      ],
      "source": [
        "# Create an RNA\n",
        "rna1 = Seq('AUGUUCUCGUAA')\n",
        "rna1"
      ]
    },
    {
      "cell_type": "code",
      "execution_count": null,
      "metadata": {
        "colab": {
          "base_uri": "https://localhost:8080/"
        },
        "id": "9bvbP7JBZrrA",
        "outputId": "a1606b58-aa99-4514-b75f-5aebc84c6104"
      },
      "outputs": [
        {
          "data": {
            "text/plain": [
              "Seq('MIT')"
            ]
          },
          "execution_count": 38,
          "metadata": {},
          "output_type": "execute_result"
        }
      ],
      "source": [
        "# Creating a Protein seq\n",
        "protein_a = Seq('MIT')\n",
        "protein_a"
      ]
    },
    {
      "cell_type": "markdown",
      "metadata": {
        "id": "jErhPegFZrrA"
      },
      "source": [
        "#### Sequence Manipulation\n",
        "+ Indexing/Slicing\n",
        "+ Join 2 Sequences\n",
        "+ Find a Codon in a sequence (Optional)\n",
        "+ Count the number of Nucleotides\n",
        "+ Find the number of times a patten repeat\n",
        "+ Subsequence Search\n",
        "+ Plot the Nucleotide/ Base frequency"
      ]
    },
    {
      "cell_type": "code",
      "execution_count": null,
      "metadata": {
        "colab": {
          "base_uri": "https://localhost:8080/"
        },
        "id": "y3hrKz8oZrrB",
        "outputId": "08b2aa4d-e8a0-4449-a10b-e3830f77de53"
      },
      "outputs": [
        {
          "data": {
            "text/plain": [
              "12"
            ]
          },
          "execution_count": 15,
          "metadata": {},
          "output_type": "execute_result"
        }
      ],
      "source": [
        "# Length of our seq\n",
        "len(seq1)\n"
      ]
    },
    {
      "cell_type": "code",
      "execution_count": null,
      "metadata": {
        "colab": {
          "base_uri": "https://localhost:8080/"
        },
        "id": "5_6-Ns6aZrrB",
        "outputId": "064ab8d9-57d4-4d3a-e227-294b446eb573"
      },
      "outputs": [
        {
          "data": {
            "text/plain": [
              "12"
            ]
          },
          "execution_count": 16,
          "metadata": {},
          "output_type": "execute_result"
        }
      ],
      "source": [
        "len('ATGATCTCGTAA')"
      ]
    },
    {
      "cell_type": "code",
      "execution_count": null,
      "metadata": {
        "colab": {
          "base_uri": "https://localhost:8080/"
        },
        "id": "DHzEX7wEZrrB",
        "outputId": "8e26d8b7-82c8-4f75-8271-e9d58126acd1"
      },
      "outputs": [
        {
          "data": {
            "text/plain": [
              "Seq('ATG')"
            ]
          },
          "execution_count": 18,
          "metadata": {},
          "output_type": "execute_result"
        }
      ],
      "source": [
        "# Slicing\n",
        "seq1[0:3]"
      ]
    },
    {
      "cell_type": "code",
      "execution_count": null,
      "metadata": {
        "colab": {
          "base_uri": "https://localhost:8080/"
        },
        "id": "ibggYpqTZrrC",
        "outputId": "372b26a8-8719-4c40-df43-fca3f4b2c53c"
      },
      "outputs": [
        {
          "data": {
            "text/plain": [
              "Seq('AATGCTCTAGTA')"
            ]
          },
          "execution_count": 20,
          "metadata": {},
          "output_type": "execute_result"
        }
      ],
      "source": [
        "# Reverse\n",
        "seq1[::-1]"
      ]
    },
    {
      "cell_type": "code",
      "execution_count": null,
      "metadata": {
        "id": "govjN5OQZrrC"
      },
      "outputs": [],
      "source": [
        "seq2 = Seq('ATGATCTCGTGG')"
      ]
    },
    {
      "cell_type": "code",
      "execution_count": null,
      "metadata": {
        "colab": {
          "base_uri": "https://localhost:8080/"
        },
        "id": "6XaPhvbcZrrD",
        "outputId": "56dfde6f-cc54-4dac-cdf1-fa7780012df5"
      },
      "outputs": [
        {
          "data": {
            "text/plain": [
              "Seq('ATGATCATGATCTCGTGG')"
            ]
          },
          "execution_count": 22,
          "metadata": {},
          "output_type": "execute_result"
        }
      ],
      "source": [
        "# Join Seq\n",
        "seq1[0:6] + seq2"
      ]
    },
    {
      "cell_type": "code",
      "execution_count": null,
      "metadata": {
        "colab": {
          "base_uri": "https://localhost:8080/"
        },
        "id": "aVI46MrJZrrD",
        "outputId": "abfdde69-7a77-4927-d9d9-b2ab143af71a"
      },
      "outputs": [
        {
          "data": {
            "text/plain": [
              "2"
            ]
          },
          "execution_count": 24,
          "metadata": {},
          "output_type": "execute_result"
        }
      ],
      "source": [
        "# Find the number of Nucleotides/Base within our seq\n",
        "# Count\n",
        "seq1.count('G')"
      ]
    },
    {
      "cell_type": "code",
      "execution_count": null,
      "metadata": {
        "colab": {
          "base_uri": "https://localhost:8080/"
        },
        "id": "AsPvuC6vynjd",
        "outputId": "6678bf1d-71c9-4949-c82b-3faef5838e2a"
      },
      "outputs": [
        {
          "data": {
            "text/plain": [
              "4"
            ]
          },
          "execution_count": 43,
          "metadata": {},
          "output_type": "execute_result"
        }
      ],
      "source": [
        "seq1.count('A')"
      ]
    },
    {
      "cell_type": "code",
      "execution_count": null,
      "metadata": {
        "colab": {
          "base_uri": "https://localhost:8080/"
        },
        "id": "sKzQ9SdcZrrE",
        "outputId": "a036de5c-53a0-4a4f-e03e-a0626a84399c"
      },
      "outputs": [
        {
          "data": {
            "text/plain": [
              "1"
            ]
          },
          "execution_count": 25,
          "metadata": {},
          "output_type": "execute_result"
        }
      ],
      "source": [
        "# Count the number of codon (3B) within a seq\n",
        "seq1.count('ATG')"
      ]
    },
    {
      "cell_type": "code",
      "execution_count": null,
      "metadata": {
        "colab": {
          "base_uri": "https://localhost:8080/"
        },
        "id": "Y_hir105ZrrE",
        "outputId": "4872f33a-a5fa-425b-cc59-f427dd284479"
      },
      "outputs": [
        {
          "data": {
            "text/plain": [
              "2"
            ]
          },
          "execution_count": 29,
          "metadata": {},
          "output_type": "execute_result"
        }
      ],
      "source": [
        "# Find the position/location of a nucleotide\n",
        "seq1.find('G')"
      ]
    },
    {
      "cell_type": "code",
      "execution_count": null,
      "metadata": {
        "colab": {
          "base_uri": "https://localhost:8080/"
        },
        "id": "St0avENZZrrF",
        "outputId": "503f72e1-6831-490e-8981-6e5ef04d1ef7"
      },
      "outputs": [
        {
          "data": {
            "text/plain": [
              "Seq('ATGATCTCGTAA')"
            ]
          },
          "execution_count": 30,
          "metadata": {},
          "output_type": "execute_result"
        }
      ],
      "source": [
        "seq1"
      ]
    },
    {
      "cell_type": "code",
      "execution_count": null,
      "metadata": {
        "colab": {
          "base_uri": "https://localhost:8080/"
        },
        "id": "F1GlXI1MwPa2",
        "outputId": "632f82e8-395e-4904-ebd4-5e6b7e4ba803"
      },
      "outputs": [
        {
          "data": {
            "text/plain": [
              "8"
            ]
          },
          "execution_count": 31,
          "metadata": {},
          "output_type": "execute_result"
        }
      ],
      "source": [
        "# Find the position/location of a nucleotide from the right\n",
        "seq1.rfind('G')"
      ]
    },
    {
      "cell_type": "code",
      "execution_count": null,
      "metadata": {
        "colab": {
          "base_uri": "https://localhost:8080/"
        },
        "id": "ufe3KwLnZrrF",
        "outputId": "a39330ab-2f1b-4a3f-970c-f68cbf702c6f",
        "scrolled": true
      },
      "outputs": [
        {
          "data": {
            "text/plain": [
              "2"
            ]
          },
          "execution_count": 32,
          "metadata": {},
          "output_type": "execute_result"
        }
      ],
      "source": [
        "# Find the location/index using index\n",
        "seq1.index('G')"
      ]
    },
    {
      "cell_type": "code",
      "execution_count": null,
      "metadata": {
        "colab": {
          "base_uri": "https://localhost:8080/"
        },
        "id": "5NW-jUE4ZrrF",
        "outputId": "3ffe3fd9-b7aa-4187-ad94-acf591af2b2e",
        "scrolled": true
      },
      "outputs": [
        {
          "data": {
            "text/plain": [
              "8"
            ]
          },
          "execution_count": 33,
          "metadata": {},
          "output_type": "execute_result"
        }
      ],
      "source": [
        "# Find the location/index using index\n",
        "seq1.rindex('G')"
      ]
    },
    {
      "cell_type": "markdown",
      "metadata": {
        "id": "2ROka1NOZrrG"
      },
      "source": [
        "#### Subsequences\n",
        "+ Search for a DNA subseq in sequence, return list of [subseq, positions]"
      ]
    },
    {
      "cell_type": "code",
      "execution_count": null,
      "metadata": {
        "id": "jsy6BWTgZrrG"
      },
      "outputs": [],
      "source": [
        "# import nt_search from Bio.SeqUtils package\n",
        "from Bio.SeqUtils import nt_search"
      ]
    },
    {
      "cell_type": "code",
      "execution_count": null,
      "metadata": {
        "id": "-OAiB6bVZrrG"
      },
      "outputs": [],
      "source": [
        "# create main and subsequence\n",
        "main_seq = Seq('ACTATT')\n",
        "subseq = Seq('ATT')"
      ]
    },
    {
      "cell_type": "code",
      "execution_count": null,
      "metadata": {
        "colab": {
          "base_uri": "https://localhost:8080/"
        },
        "id": "z0SGfa_9ZrrG",
        "outputId": "fa9b646d-6ce5-40a0-ab05-60844e0dc001"
      },
      "outputs": [
        {
          "data": {
            "text/plain": [
              "['ATT', 3]"
            ]
          },
          "execution_count": 36,
          "metadata": {},
          "output_type": "execute_result"
        }
      ],
      "source": [
        "# Search the subsequence from main sequence\n",
        "nt_search(str(main_seq), str(subseq))"
      ]
    },
    {
      "cell_type": "markdown",
      "metadata": {
        "id": "2kLotrLRZrrH"
      },
      "source": [
        "#### Plot of Frequency of Nucleotides/Base"
      ]
    },
    {
      "cell_type": "code",
      "execution_count": null,
      "metadata": {
        "colab": {
          "base_uri": "https://localhost:8080/"
        },
        "id": "VlkbIYJOZrrH",
        "outputId": "d9cc2900-9370-49e1-e146-fa03d3ddd24b"
      },
      "outputs": [
        {
          "name": "stdout",
          "output_type": "stream",
          "text": [
            "Requirement already satisfied: matplotlib in /usr/local/lib/python3.10/dist-packages (3.7.1)\n",
            "Requirement already satisfied: contourpy>=1.0.1 in /usr/local/lib/python3.10/dist-packages (from matplotlib) (1.2.0)\n",
            "Requirement already satisfied: cycler>=0.10 in /usr/local/lib/python3.10/dist-packages (from matplotlib) (0.12.1)\n",
            "Requirement already satisfied: fonttools>=4.22.0 in /usr/local/lib/python3.10/dist-packages (from matplotlib) (4.47.2)\n",
            "Requirement already satisfied: kiwisolver>=1.0.1 in /usr/local/lib/python3.10/dist-packages (from matplotlib) (1.4.5)\n",
            "Requirement already satisfied: numpy>=1.20 in /usr/local/lib/python3.10/dist-packages (from matplotlib) (1.23.5)\n",
            "Requirement already satisfied: packaging>=20.0 in /usr/local/lib/python3.10/dist-packages (from matplotlib) (23.2)\n",
            "Requirement already satisfied: pillow>=6.2.0 in /usr/local/lib/python3.10/dist-packages (from matplotlib) (9.4.0)\n",
            "Requirement already satisfied: pyparsing>=2.3.1 in /usr/local/lib/python3.10/dist-packages (from matplotlib) (3.1.1)\n",
            "Requirement already satisfied: python-dateutil>=2.7 in /usr/local/lib/python3.10/dist-packages (from matplotlib) (2.8.2)\n",
            "Requirement already satisfied: six>=1.5 in /usr/local/lib/python3.10/dist-packages (from python-dateutil>=2.7->matplotlib) (1.16.0)\n"
          ]
        }
      ],
      "source": [
        "#Install matplotlib\n",
        "!pip install matplotlib"
      ]
    },
    {
      "cell_type": "code",
      "execution_count": null,
      "metadata": {
        "id": "9eSshHTGZrrH"
      },
      "outputs": [],
      "source": [
        "# import matplotlib.pyplot and assign as plt\n",
        "import matplotlib.pyplot as plt"
      ]
    },
    {
      "cell_type": "code",
      "execution_count": null,
      "metadata": {
        "id": "PQSPe7UPZrrI"
      },
      "outputs": [],
      "source": [
        "# import Counter function from from collections package\n",
        "from collections import Counter"
      ]
    },
    {
      "cell_type": "code",
      "execution_count": null,
      "metadata": {
        "id": "9_Kv8zqpZrrI"
      },
      "outputs": [],
      "source": [
        "# create sequence and count the Nucletide frequency\n",
        "dna_seq = Seq('ATGATCTCGTAA')"
      ]
    },
    {
      "cell_type": "code",
      "execution_count": null,
      "metadata": {
        "colab": {
          "base_uri": "https://localhost:8080/"
        },
        "id": "wv3xZ40vy8HG",
        "outputId": "f2689e4b-2a3e-4232-b432-c62412712688"
      },
      "outputs": [
        {
          "data": {
            "text/plain": [
              "Counter({'A': 4, 'T': 4, 'G': 2, 'C': 2})"
            ]
          },
          "execution_count": 46,
          "metadata": {},
          "output_type": "execute_result"
        }
      ],
      "source": [
        "dna_freq = Counter(dna_seq)\n",
        "dna_freq"
      ]
    },
    {
      "cell_type": "code",
      "execution_count": null,
      "metadata": {
        "colab": {
          "base_uri": "https://localhost:8080/",
          "height": 447
        },
        "id": "Vz8guAGCZrrI",
        "outputId": "369c4a17-1450-4929-a4fd-90bebc0caf22"
      },
      "outputs": [
        {
          "data": {
            "text/plain": [
              "<BarContainer object of 4 artists>"
            ]
          },
          "execution_count": 47,
          "metadata": {},
          "output_type": "execute_result"
        },
        {
          "data": {
            "image/png": "[encoded data removed]",
            "text/plain": [
              "<Figure size 640x480 with 1 Axes>"
            ]
          },
          "metadata": {},
          "output_type": "display_data"
        }
      ],
      "source": [
        "# plot the DNA sequence Nucletide frequency\n",
        "plt.bar(dna_freq.keys(), dna_freq.values())"
      ]
    },
    {
      "cell_type": "code",
      "execution_count": null,
      "metadata": {
        "colab": {
          "base_uri": "https://localhost:8080/"
        },
        "id": "eqUl1oIc0Z_E",
        "outputId": "312537f3-1603-4ce8-ca00-084564b7c577"
      },
      "outputs": [
        {
          "data": {
            "text/plain": [
              "Seq('ATGCATGGTGCGCGA')"
            ]
          },
          "execution_count": 52,
          "metadata": {},
          "output_type": "execute_result"
        }
      ],
      "source": [
        "# @title Exercise LAB 1\n",
        "# Seq1 = 'ATGCATGGTGCGCGA'\n",
        "# Seq2 = 'ATTTGTGCTCCTGGA'\n",
        "\n",
        "dna_seq1 = Seq('ATGCATGGTGCGCGA')\n",
        "dna_seq1"
      ]
    },
    {
      "cell_type": "code",
      "execution_count": null,
      "metadata": {
        "colab": {
          "base_uri": "https://localhost:8080/"
        },
        "id": "-GHKuZMz0aTT",
        "outputId": "104fc51c-b9b9-4c55-d3b9-05510be74182"
      },
      "outputs": [
        {
          "data": {
            "text/plain": [
              "Seq('ATTTGTGCTCCTGGA')"
            ]
          },
          "execution_count": 54,
          "metadata": {},
          "output_type": "execute_result"
        }
      ],
      "source": [
        "dna_seq2 = Seq('ATTTGTGCTCCTGGA')\n",
        "dna_seq2"
      ]
    },
    {
      "cell_type": "code",
      "execution_count": null,
      "metadata": {
        "colab": {
          "base_uri": "https://localhost:8080/"
        },
        "id": "414UQESX0an_",
        "outputId": "71636f18-279d-4cf0-8ed4-10f3b4008afc"
      },
      "outputs": [
        {
          "data": {
            "text/plain": [
              "Counter({'A': 3, 'T': 3, 'G': 6, 'C': 3})"
            ]
          },
          "execution_count": 55,
          "metadata": {},
          "output_type": "execute_result"
        }
      ],
      "source": [
        "dna_freq1 = Counter(dna_seq1)\n",
        "dna_freq1"
      ]
    },
    {
      "cell_type": "code",
      "execution_count": null,
      "metadata": {
        "colab": {
          "base_uri": "https://localhost:8080/"
        },
        "id": "N3dcOYvk1JJu",
        "outputId": "26b3f7e7-b4a9-436d-f760-892b817e89a3"
      },
      "outputs": [
        {
          "data": {
            "text/plain": [
              "Counter({'A': 2, 'T': 6, 'G': 4, 'C': 3})"
            ]
          },
          "execution_count": 56,
          "metadata": {},
          "output_type": "execute_result"
        }
      ],
      "source": [
        "dna_freq2 = Counter(dna_seq2)\n",
        "dna_freq2"
      ]
    },
    {
      "cell_type": "code",
      "execution_count": null,
      "metadata": {
        "colab": {
          "base_uri": "https://localhost:8080/",
          "height": 447
        },
        "id": "mr1LC1pw1O8A",
        "outputId": "7aedf5f5-ef83-4b0c-88a7-15213e5f6207"
      },
      "outputs": [
        {
          "data": {
            "text/plain": [
              "<BarContainer object of 4 artists>"
            ]
          },
          "execution_count": 58,
          "metadata": {},
          "output_type": "execute_result"
        },
        {
          "data": {
            "image/png": "[encoded data removed]",
            "text/plain": [
              "<Figure size 640x480 with 1 Axes>"
            ]
          },
          "metadata": {},
          "output_type": "display_data"
        }
      ],
      "source": [
        "# Plot Seq 1\n",
        "plt.bar(dna_freq1.keys(), dna_freq1.values())"
      ]
    },
    {
      "cell_type": "code",
      "execution_count": null,
      "metadata": {
        "colab": {
          "base_uri": "https://localhost:8080/",
          "height": 447
        },
        "id": "21ZzZiBk1dO2",
        "outputId": "69a8a758-c36e-4cd3-b489-ce7ff333fe69"
      },
      "outputs": [
        {
          "data": {
            "text/plain": [
              "<BarContainer object of 4 artists>"
            ]
          },
          "execution_count": 59,
          "metadata": {},
          "output_type": "execute_result"
        },
        {
          "data": {
            "image/png": "[encoded data removed]",
            "text/plain": [
              "<Figure size 640x480 with 1 Axes>"
            ]
          },
          "metadata": {},
          "output_type": "display_data"
        }
      ],
      "source": [
        "# Plot Seq 2\n",
        "plt.bar(dna_freq2.keys(), dna_freq2.values())"
      ]
    },
    {
      "cell_type": "markdown",
      "metadata": {
        "id": "qdZWcOlRZrrI"
      },
      "source": [
        "## LAB 2 DNA Composition Analysis"
      ]
    },
    {
      "cell_type": "markdown",
      "metadata": {
        "id": "gm9kM39KZrrJ"
      },
      "source": [
        "#### GC Contents In DNA\n",
        "+ GC-content (or guanine-cytosine content) is the percentage of nitrogenous bases in a DNA or RNA molecule\n",
        "that are either Guanine (G) or Cytosine (C)\n",
        "\n",
        "A=T\n",
        "G=-C\n",
        "\n",
        "#### Usefulness\n",
        "+ In polymerase chain reaction (PCR) experiments, the GC-content of short oligonucleotides known as primers is often used to predict their annealing temperature to the template DNA.\n",
        "+ A higher GC-content level indicates a relatively higher melting temperature.\n",
        "+ DNA with low GC-content is less stable than DNA with high GC-content\n",
        "+ High GC content DNA can make it difficult to perform PCR amplication due to difficulty in designing a primer long enough to provide great specifity\n",
        "\n"
      ]
    },
    {
      "cell_type": "code",
      "execution_count": null,
      "metadata": {
        "id": "MuOnlktBZrrJ"
      },
      "outputs": [],
      "source": [
        "# import GC function from Bio.SeqUtils Package\n",
        "from Bio.SeqUtils import gc_fraction"
      ]
    },
    {
      "cell_type": "code",
      "execution_count": null,
      "metadata": {
        "id": "D1KI-3SUZrrJ"
      },
      "outputs": [],
      "source": [
        "#Create DNA Sequence and run GC function\n",
        "dna_seq"
      ]
    },
    {
      "cell_type": "code",
      "execution_count": null,
      "metadata": {
        "id": "w05OocQqt5AS"
      },
      "outputs": [],
      "source": [
        "GC(dna_seq)"
      ]
    },
    {
      "cell_type": "code",
      "execution_count": null,
      "metadata": {
        "id": "vu32h1WRZrrK"
      },
      "outputs": [],
      "source": [
        "# Method 2 : create a customized GC Counter function I"
      ]
    },
    {
      "cell_type": "code",
      "execution_count": null,
      "metadata": {
        "id": "p-YF5ULMZrrK"
      },
      "outputs": [],
      "source": [
        "# Method 3 : create a customized GC Counter function II\n"
      ]
    },
    {
      "cell_type": "markdown",
      "metadata": {
        "id": "TgQliRz1ZrrM"
      },
      "source": [
        "#### AT Contents in DNA\n",
        "+ AT content is the percentage of nitrogenous bases in a DNA or RNA molecule that are either Adenine (A) or Thymine (T)\n",
        "+ AT base pairing yields only 2 hydrogen bonds"
      ]
    },
    {
      "cell_type": "code",
      "execution_count": null,
      "metadata": {
        "id": "OyFZwOizZrrM"
      },
      "outputs": [],
      "source": [
        "# Method : create a customized AT Counter function\n"
      ]
    },
    {
      "cell_type": "markdown",
      "metadata": {
        "id": "mUZUzLnOZrrM"
      },
      "source": [
        "#### Melting  Point of DNA\n",
        "+ Higher GC means high melting point\n",
        "+ Tm_Wallace: 'Rule of thumb'\n",
        "+ Tm_GC: Empirical formulas based on GC content. Salt and mismatch corrections can be included.\n",
        "+ Tm_NN: Calculation based on nearest neighbor thermodynamics. Several tables for DNA/DNA, DNA/RNA and RNA/RNA hybridizations are included. Correction for mismatches, dangling ends, salt concentration and other additives are available."
      ]
    },
    {
      "cell_type": "code",
      "execution_count": null,
      "metadata": {
        "id": "ekkW3MOTZrrN"
      },
      "outputs": [],
      "source": [
        "# import MeltingTemp function from from Bio.SeqUtils packages\n"
      ]
    },
    {
      "cell_type": "code",
      "execution_count": null,
      "metadata": {
        "id": "-EYrSaaAZrrO"
      },
      "outputs": [],
      "source": [
        "#Calculate GC Content from DNA sequence\n"
      ]
    },
    {
      "cell_type": "code",
      "execution_count": null,
      "metadata": {
        "id": "aSpacMO9ZrrO"
      },
      "outputs": [],
      "source": [
        "# check for the melting point using wallace\n"
      ]
    },
    {
      "cell_type": "code",
      "execution_count": null,
      "metadata": {
        "id": "msjzaTlLZrrO"
      },
      "outputs": [],
      "source": [
        "# Check for the melting point using GC content\n"
      ]
    },
    {
      "cell_type": "markdown",
      "metadata": {
        "id": "aJco9MfSZrrO"
      },
      "source": [
        "#### Excersise\n",
        "+ Which of the following sequence will have the highest GC?\n",
        "+ contoh 1 = 'ATGCATGGTGCGCGA'\n",
        "+ contoh 2 = 'ATTTGTGCTCCTGGA'"
      ]
    },
    {
      "cell_type": "markdown",
      "metadata": {
        "id": "SiTaN7VCZrrR"
      },
      "source": [
        "#### Check for the  Molecular Weight\n",
        "+ ProtParam.ProteinAnalysis\n",
        "+ Counter from collections"
      ]
    },
    {
      "cell_type": "code",
      "execution_count": null,
      "metadata": {
        "id": "CMEhKdeNZrrR"
      },
      "outputs": [],
      "source": [
        "# import molecular_weight function from from Bio.SeqUtils packages\n",
        "from Bio.SeqUtils import molecular_weight"
      ]
    },
    {
      "cell_type": "code",
      "execution_count": null,
      "metadata": {
        "id": "lbh8oeZqZrrR"
      },
      "outputs": [],
      "source": [
        "#Create DNA Sequence\n"
      ]
    },
    {
      "cell_type": "code",
      "execution_count": null,
      "metadata": {
        "id": "bPnO1VUyZrrR"
      },
      "outputs": [],
      "source": [
        "# Molecular weight of DNA nucleotide\n"
      ]
    },
    {
      "cell_type": "markdown",
      "source": [
        "GSLC LEC 1"
      ],
      "metadata": {
        "id": "oHlVFJHY-Tff"
      }
    },
    {
      "cell_type": "code",
      "source": [
        "from Bio.SeqUtils import gc_fraction"
      ],
      "metadata": {
        "id": "xSZGBgkm-S54"
      },
      "execution_count": null,
      "outputs": []
    },
    {
      "cell_type": "code",
      "source": [
        "#Membuat DNA Sequence\n",
        "dna_jerapah = Seq('CTGTGCTCCATGGAAGCAGCCTGAAAGGGAGAGAGCAAGAGAGAGTGAGCGAGCGAGAGAGAAAATGAGGAAAGACACGGGGATCAGTGCTCTGATGGAACAAAGGCGTTTATTCAACATATTGTGGGCATATATATACTCTCTTACAAGATAGCCCTTTTTAGCAGAGACAGGGATCAAAAATCTAACAAGTCATCTAGAAAGCCTGAGGCTAGAATCATTCTCAAGAGGGGGGGGTGTAAAAGTTACTTACATTCAGAAAGGAGGAGACTTGTAAATGGCTGCTGTTCACCCTTTGGAATTTCCATACAAATGAGATACATGAATT')"
      ],
      "metadata": {
        "id": "Xz4tpcvA-eRo"
      },
      "execution_count": null,
      "outputs": []
    },
    {
      "cell_type": "code",
      "source": [
        "#Rumus 1\n",
        "def gc_content(seq):\n",
        "  result = float(seq.count('G')+seq.count('C'))/len(seq)*100\n",
        "  return result"
      ],
      "metadata": {
        "id": "8JEknUHB-033"
      },
      "execution_count": null,
      "outputs": []
    },
    {
      "cell_type": "code",
      "source": [
        "gc_content(dna_jerapah)"
      ],
      "metadata": {
        "colab": {
          "base_uri": "https://localhost:8080/"
        },
        "id": "5UPp9TOw_Gb0",
        "outputId": "2ed78a67-b5f6-4601-9e61-7f4a963b8642"
      },
      "execution_count": null,
      "outputs": [
        {
          "output_type": "execute_result",
          "data": {
            "text/plain": [
              "42.98780487804878"
            ]
          },
          "metadata": {},
          "execution_count": 10
        }
      ]
    },
    {
      "cell_type": "code",
      "source": [
        "#Rumus 2\n",
        "def gc_content(seq):\n",
        "  gc = [B for B in seq.upper() if B in 'GC']\n",
        "  result = float(len(gc))/len(seq)*100\n",
        "  return result"
      ],
      "metadata": {
        "id": "jrdKt7bN_Rb2"
      },
      "execution_count": null,
      "outputs": []
    },
    {
      "cell_type": "code",
      "source": [
        "gc_content(dna_jerapah)"
      ],
      "metadata": {
        "colab": {
          "base_uri": "https://localhost:8080/"
        },
        "id": "lMVg9HNo_gGK",
        "outputId": "1c480a8c-283c-47b2-8072-3c4f2b74fbc1"
      },
      "execution_count": null,
      "outputs": [
        {
          "output_type": "execute_result",
          "data": {
            "text/plain": [
              "42.98780487804878"
            ]
          },
          "metadata": {},
          "execution_count": 12
        }
      ]
    },
    {
      "cell_type": "code",
      "source": [
        "#Rumus AT\n",
        "def at_content(seq):\n",
        "  result = float(seq.count('A')+seq.count('T'))/len(seq)*100\n",
        "  return result"
      ],
      "metadata": {
        "id": "Yftm3JSb_xV1"
      },
      "execution_count": null,
      "outputs": []
    },
    {
      "cell_type": "code",
      "source": [
        "at_content(dna_jerapah)"
      ],
      "metadata": {
        "colab": {
          "base_uri": "https://localhost:8080/"
        },
        "id": "zAPmP_Yp_-Bk",
        "outputId": "e9f2dea5-de74-4378-dd3e-d9be06d8fb2e"
      },
      "execution_count": null,
      "outputs": [
        {
          "output_type": "execute_result",
          "data": {
            "text/plain": [
              "57.012195121951216"
            ]
          },
          "metadata": {},
          "execution_count": 14
        }
      ]
    },
    {
      "cell_type": "code",
      "source": [
        "molecular_weight(dna_jerapah)"
      ],
      "metadata": {
        "colab": {
          "base_uri": "https://localhost:8080/"
        },
        "id": "5H3LsnrdA3QW",
        "outputId": "903e525f-29d0-4f6b-9929-eb8c864e05dc"
      },
      "execution_count": null,
      "outputs": [
        {
          "output_type": "execute_result",
          "data": {
            "text/plain": [
              "102168.36379999979"
            ]
          },
          "metadata": {},
          "execution_count": 17
        }
      ]
    },
    {
      "cell_type": "code",
      "source": [
        "from Bio.SeqUtils import MeltingTemp as mt"
      ],
      "metadata": {
        "id": "NBvSBS9JBFXX"
      },
      "execution_count": null,
      "outputs": []
    },
    {
      "cell_type": "code",
      "source": [
        "mt.Tm_Wallace(dna_jerapah)"
      ],
      "metadata": {
        "colab": {
          "base_uri": "https://localhost:8080/"
        },
        "id": "lMnraeFzBNwZ",
        "outputId": "7cdaab6d-547b-4ee5-cf4f-6eb07c2b604a"
      },
      "execution_count": null,
      "outputs": [
        {
          "output_type": "execute_result",
          "data": {
            "text/plain": [
              "938.0"
            ]
          },
          "metadata": {},
          "execution_count": 19
        }
      ]
    },
    {
      "cell_type": "code",
      "source": [
        "mt.Tm_GC(dna_jerapah)"
      ],
      "metadata": {
        "colab": {
          "base_uri": "https://localhost:8080/"
        },
        "id": "2k8ZsRz8BUiI",
        "outputId": "79194be1-15a6-46b1-df80-ca39044a7aec"
      },
      "execution_count": null,
      "outputs": [
        {
          "output_type": "execute_result",
          "data": {
            "text/plain": [
              "75.69863377929498"
            ]
          },
          "metadata": {},
          "execution_count": 20
        }
      ]
    },
    {
      "cell_type": "code",
      "source": [
        "mt.Tm_NN(dna_jerapah)"
      ],
      "metadata": {
        "colab": {
          "base_uri": "https://localhost:8080/"
        },
        "id": "dg7EsAuAMHST",
        "outputId": "3abc3323-0e5a-40fe-eb0f-d64843f97379"
      },
      "execution_count": null,
      "outputs": [
        {
          "output_type": "execute_result",
          "data": {
            "text/plain": [
              "77.71820077671168"
            ]
          },
          "metadata": {},
          "execution_count": 23
        }
      ]
    },
    {
      "cell_type": "markdown",
      "metadata": {
        "id": "Q3eGwBsuZrrS"
      },
      "source": [
        "## Lab 3 : Protein Synthesis\n",
        "+ Protein synthesis is how cells make proteins using 2 stages\n",
        " - Transcription\n",
        " - Translation\n",
        "\n",
        "![](https://drive.google.com/uc?export=view&id=1q90fm_nu4SAr80Dly1NJ7aj63J4FjV24)"
      ]
    },
    {
      "cell_type": "code",
      "source": [
        "dna_sequence = Seq('ATGATCTCGTAA')"
      ],
      "metadata": {
        "id": "6WqmOlfj-XFO"
      },
      "execution_count": null,
      "outputs": []
    },
    {
      "cell_type": "code",
      "execution_count": null,
      "metadata": {
        "id": "hHLcfSyiZrrS",
        "colab": {
          "base_uri": "https://localhost:8080/"
        },
        "outputId": "bb9b87e6-1a6c-4ad2-c032-3d187606aef7"
      },
      "outputs": [
        {
          "output_type": "execute_result",
          "data": {
            "text/plain": [
              "12"
            ]
          },
          "metadata": {},
          "execution_count": 7
        }
      ],
      "source": [
        "#Create DNA Sequence and calculate the length\n",
        "len(dna_sequence)"
      ]
    },
    {
      "cell_type": "code",
      "execution_count": null,
      "metadata": {
        "id": "J2ukl3gCZrrT",
        "colab": {
          "base_uri": "https://localhost:8080/"
        },
        "outputId": "b566f7a8-9a45-49bb-f690-8fbceabb427e"
      },
      "outputs": [
        {
          "output_type": "execute_result",
          "data": {
            "text/plain": [
              "Seq('TACTAGAGCATT')"
            ]
          },
          "metadata": {},
          "execution_count": 9
        }
      ],
      "source": [
        "# Calculate DNA sequence Complement\n",
        "# Be mind that AT = 2 hydrogen bonds GC = 3 hydrogen bonds\n",
        "dna_sequence.complement()"
      ]
    },
    {
      "cell_type": "code",
      "execution_count": null,
      "metadata": {
        "id": "hqYFv8wSZrrT",
        "colab": {
          "base_uri": "https://localhost:8080/"
        },
        "outputId": "bfb5423b-4e10-4ae0-cfe7-6fbe323e2253"
      },
      "outputs": [
        {
          "output_type": "execute_result",
          "data": {
            "text/plain": [
              "Seq('TTACGAGATCAT')"
            ]
          },
          "metadata": {},
          "execution_count": 10
        }
      ],
      "source": [
        "# Calculate DNA sequence reverse complement\n",
        "dna_sequence.reverse_complement()"
      ]
    },
    {
      "cell_type": "code",
      "execution_count": null,
      "metadata": {
        "id": "Gu2dIvuvZrrT"
      },
      "outputs": [],
      "source": [
        "# custom function to Calculate DNA sequence complement\n"
      ]
    },
    {
      "cell_type": "markdown",
      "metadata": {
        "id": "yA_D5o6DZrrT"
      },
      "source": [
        "### Protein Synthesis\n",
        "![](https://drive.google.com/uc?export=view&id=1cwvbv3t0iU1-UmQhgS2L845vMUxajUHs)"
      ]
    },
    {
      "cell_type": "code",
      "execution_count": null,
      "metadata": {
        "id": "GsgRusiWZrrU",
        "colab": {
          "base_uri": "https://localhost:8080/"
        },
        "outputId": "273541a6-d77e-4769-d6bb-ee089a6c3f59"
      },
      "outputs": [
        {
          "output_type": "execute_result",
          "data": {
            "text/plain": [
              "Seq('ATGATCTCGTAA')"
            ]
          },
          "metadata": {},
          "execution_count": 12
        }
      ],
      "source": [
        "dna_sequence"
      ]
    },
    {
      "cell_type": "code",
      "execution_count": null,
      "metadata": {
        "id": "tiKJExt2ZrrU",
        "colab": {
          "base_uri": "https://localhost:8080/"
        },
        "outputId": "1de3d5a7-0f3f-4c44-c526-661f9c41692f"
      },
      "outputs": [
        {
          "output_type": "execute_result",
          "data": {
            "text/plain": [
              "Seq('AUGAUCUCGUAA')"
            ]
          },
          "metadata": {},
          "execution_count": 13
        }
      ],
      "source": [
        "# Transcription : DNA to mRNA (Writing the message)\n",
        "dna_sequence.transcribe()"
      ]
    },
    {
      "cell_type": "code",
      "execution_count": null,
      "metadata": {
        "id": "sVEJAeGBZrrU"
      },
      "outputs": [],
      "source": [
        "mRNA = dna_sequence.transcribe()"
      ]
    },
    {
      "cell_type": "code",
      "execution_count": null,
      "metadata": {
        "id": "xg3-0F37ZrrU",
        "colab": {
          "base_uri": "https://localhost:8080/"
        },
        "outputId": "19dc9d94-0098-4785-ef5e-174539be381b"
      },
      "outputs": [
        {
          "output_type": "execute_result",
          "data": {
            "text/plain": [
              "Seq('MIS*')"
            ]
          },
          "metadata": {},
          "execution_count": 16
        }
      ],
      "source": [
        "# Translation : mRNA to Protein/Amino Acid\n",
        "# Method 1\n",
        "mRNA.translate()"
      ]
    },
    {
      "cell_type": "code",
      "execution_count": null,
      "metadata": {
        "id": "palJYLEZZrrU",
        "colab": {
          "base_uri": "https://localhost:8080/"
        },
        "outputId": "ae206acd-6612-49d3-9744-8e518bee8b70"
      },
      "outputs": [
        {
          "output_type": "execute_result",
          "data": {
            "text/plain": [
              "Seq('MIS*')"
            ]
          },
          "metadata": {},
          "execution_count": 17
        }
      ],
      "source": [
        "# Method 2\n",
        "# Direct translation of DNA to Amino Acid\n",
        "dna_sequence.translate()"
      ]
    },
    {
      "cell_type": "code",
      "execution_count": null,
      "metadata": {
        "id": "PRxq2dyTZrrV",
        "colab": {
          "base_uri": "https://localhost:8080/"
        },
        "outputId": "a1a6373e-c822-4578-f20c-131d48b7bc6e"
      },
      "outputs": [
        {
          "output_type": "execute_result",
          "data": {
            "text/plain": [
              "Seq('MIS#')"
            ]
          },
          "metadata": {},
          "execution_count": 18
        }
      ],
      "source": [
        "# Create our custom stop codon symbol\n",
        "mRNA.translate(stop_symbol=\"#\")"
      ]
    },
    {
      "cell_type": "code",
      "execution_count": null,
      "metadata": {
        "id": "sgzmAKWgZrrV",
        "colab": {
          "base_uri": "https://localhost:8080/"
        },
        "outputId": "c4565745-1388-4b07-a5a9-7f19f0d49c91"
      },
      "outputs": [
        {
          "output_type": "execute_result",
          "data": {
            "text/plain": [
              "Seq('ATGATCTCGTAA')"
            ]
          },
          "metadata": {},
          "execution_count": 19
        }
      ],
      "source": [
        "# Back Transcription : mRNA to DNA\n",
        "mRNA.back_transcribe()"
      ]
    },
    {
      "cell_type": "code",
      "source": [
        "mRNA.back_transcribe == dna_sequence"
      ],
      "metadata": {
        "colab": {
          "base_uri": "https://localhost:8080/"
        },
        "id": "-atBKHIoBcIC",
        "outputId": "50294f9e-14b4-4357-fea9-7e31e2da7c31"
      },
      "execution_count": null,
      "outputs": [
        {
          "output_type": "execute_result",
          "data": {
            "text/plain": [
              "False"
            ]
          },
          "metadata": {},
          "execution_count": 22
        }
      ]
    },
    {
      "cell_type": "code",
      "execution_count": null,
      "metadata": {
        "id": "YLlM86sUZrrV",
        "colab": {
          "base_uri": "https://localhost:8080/"
        },
        "outputId": "69ef0b89-3b6d-4152-916e-9910fa347ca7"
      },
      "outputs": [
        {
          "output_type": "execute_result",
          "data": {
            "text/plain": [
              "Seq('MIS*')"
            ]
          },
          "metadata": {},
          "execution_count": 23
        }
      ],
      "source": [
        "# Join the steps\n",
        "dna_sequence.transcribe().translate()"
      ]
    },
    {
      "cell_type": "code",
      "execution_count": null,
      "metadata": {
        "id": "dyGOIPeYZrrW"
      },
      "outputs": [],
      "source": [
        "# Convert Amino Acid to 3 letter codon\n",
        "from Bio.SeqUtils import seq3,seq1"
      ]
    },
    {
      "cell_type": "code",
      "source": [
        "aa = dna_sequence.translate()\n",
        "aa"
      ],
      "metadata": {
        "colab": {
          "base_uri": "https://localhost:8080/"
        },
        "id": "oEM8ydJtCc67",
        "outputId": "6ace8f69-ebf7-4820-a604-165665ac262a"
      },
      "execution_count": null,
      "outputs": [
        {
          "output_type": "execute_result",
          "data": {
            "text/plain": [
              "Seq('MIS*')"
            ]
          },
          "metadata": {},
          "execution_count": 27
        }
      ]
    },
    {
      "cell_type": "code",
      "source": [
        "seq3(aa)"
      ],
      "metadata": {
        "colab": {
          "base_uri": "https://localhost:8080/",
          "height": 35
        },
        "id": "z_ktIDeJCdOt",
        "outputId": "06dabc29-e9e8-4fa1-ac76-bfd11e69a0c3"
      },
      "execution_count": null,
      "outputs": [
        {
          "output_type": "execute_result",
          "data": {
            "text/plain": [
              "'MetIleSerTer'"
            ],
            "application/vnd.google.colaboratory.intrinsic+json": {
              "type": "string"
            }
          },
          "metadata": {},
          "execution_count": 28
        }
      ]
    },
    {
      "cell_type": "code",
      "execution_count": null,
      "metadata": {
        "id": "21OdgerBZrrW",
        "colab": {
          "base_uri": "https://localhost:8080/",
          "height": 35
        },
        "outputId": "757b7b77-222c-4389-cac7-1538e65bfec1"
      },
      "outputs": [
        {
          "output_type": "execute_result",
          "data": {
            "text/plain": [
              "'XXX'"
            ],
            "application/vnd.google.colaboratory.intrinsic+json": {
              "type": "string"
            }
          },
          "metadata": {},
          "execution_count": 29
        }
      ],
      "source": [
        "# Convert from 3 letters to 1 letter\n",
        "seq1('MeIleSerTer')"
      ]
    },
    {
      "cell_type": "markdown",
      "metadata": {
        "id": "3J1GwxgqZrrW"
      },
      "source": [
        "### Amino Acids Codon Table\n",
        "![](aminoacidchart1.png)\n",
        "![](https://drive.google.com/uc?export=view&id=1NArwpAUNnCRm980LMHnrVO24MUXNTgy3)"
      ]
    },
    {
      "cell_type": "code",
      "execution_count": null,
      "metadata": {
        "id": "xGhgWjN3ZrrX"
      },
      "outputs": [],
      "source": [
        "# View our codonTable\n",
        "from Bio.Data import CodonTable"
      ]
    },
    {
      "cell_type": "code",
      "execution_count": null,
      "metadata": {
        "id": "v9GU3KRyZrrX",
        "colab": {
          "base_uri": "https://localhost:8080/"
        },
        "outputId": "4e8c6b7c-2bf6-417b-9c94-e9402650476f"
      },
      "outputs": [
        {
          "output_type": "execute_result",
          "data": {
            "text/plain": [
              "['AmbiguousCodonTable',\n",
              " 'AmbiguousForwardTable',\n",
              " 'CodonTable',\n",
              " 'Dict',\n",
              " 'IUPACData',\n",
              " 'List',\n",
              " 'NCBICodonTable',\n",
              " 'NCBICodonTableDNA',\n",
              " 'NCBICodonTableRNA',\n",
              " 'Optional',\n",
              " 'TranslationError',\n",
              " '__builtins__',\n",
              " '__cached__',\n",
              " '__doc__',\n",
              " '__file__',\n",
              " '__loader__',\n",
              " '__name__',\n",
              " '__package__',\n",
              " '__spec__',\n",
              " 'ambiguous_dna_by_id',\n",
              " 'ambiguous_dna_by_name',\n",
              " 'ambiguous_generic_by_id',\n",
              " 'ambiguous_generic_by_name',\n",
              " 'ambiguous_rna_by_id',\n",
              " 'ambiguous_rna_by_name',\n",
              " 'generic_by_id',\n",
              " 'generic_by_name',\n",
              " 'list_ambiguous_codons',\n",
              " 'list_possible_proteins',\n",
              " 'make_back_table',\n",
              " 'register_ncbi_table',\n",
              " 'standard_dna_table',\n",
              " 'standard_rna_table',\n",
              " 'unambiguous_dna_by_id',\n",
              " 'unambiguous_dna_by_name',\n",
              " 'unambiguous_rna_by_id',\n",
              " 'unambiguous_rna_by_name']"
            ]
          },
          "metadata": {},
          "execution_count": 31
        }
      ],
      "source": [
        "# check methods  & attributes\n",
        "dir(CodonTable)"
      ]
    },
    {
      "cell_type": "code",
      "execution_count": null,
      "metadata": {
        "id": "f-gN7v-gZrrX",
        "colab": {
          "base_uri": "https://localhost:8080/"
        },
        "outputId": "48c27d33-5ca8-4e0c-c73c-bb88042c3617"
      },
      "outputs": [
        {
          "output_type": "stream",
          "name": "stdout",
          "text": [
            "Table 1 Standard, SGC0\n",
            "\n",
            "  |  T      |  C      |  A      |  G      |\n",
            "--+---------+---------+---------+---------+--\n",
            "T | TTT F   | TCT S   | TAT Y   | TGT C   | T\n",
            "T | TTC F   | TCC S   | TAC Y   | TGC C   | C\n",
            "T | TTA L   | TCA S   | TAA Stop| TGA Stop| A\n",
            "T | TTG L(s)| TCG S   | TAG Stop| TGG W   | G\n",
            "--+---------+---------+---------+---------+--\n",
            "C | CTT L   | CCT P   | CAT H   | CGT R   | T\n",
            "C | CTC L   | CCC P   | CAC H   | CGC R   | C\n",
            "C | CTA L   | CCA P   | CAA Q   | CGA R   | A\n",
            "C | CTG L(s)| CCG P   | CAG Q   | CGG R   | G\n",
            "--+---------+---------+---------+---------+--\n",
            "A | ATT I   | ACT T   | AAT N   | AGT S   | T\n",
            "A | ATC I   | ACC T   | AAC N   | AGC S   | C\n",
            "A | ATA I   | ACA T   | AAA K   | AGA R   | A\n",
            "A | ATG M(s)| ACG T   | AAG K   | AGG R   | G\n",
            "--+---------+---------+---------+---------+--\n",
            "G | GTT V   | GCT A   | GAT D   | GGT G   | T\n",
            "G | GTC V   | GCC A   | GAC D   | GGC G   | C\n",
            "G | GTA V   | GCA A   | GAA E   | GGA G   | A\n",
            "G | GTG V   | GCG A   | GAG E   | GGG G   | G\n",
            "--+---------+---------+---------+---------+--\n"
          ]
        }
      ],
      "source": [
        "# DNA codon table\n",
        "print(CodonTable.unambiguous_dna_by_name['Standard'])"
      ]
    },
    {
      "cell_type": "code",
      "execution_count": null,
      "metadata": {
        "id": "xvumKRYHZrrX",
        "colab": {
          "base_uri": "https://localhost:8080/"
        },
        "outputId": "82d116e8-0862-4aa0-91e8-798823a0ab35"
      },
      "outputs": [
        {
          "output_type": "stream",
          "name": "stdout",
          "text": [
            "Table 1 Standard, SGC0\n",
            "\n",
            "  |  U      |  C      |  A      |  G      |\n",
            "--+---------+---------+---------+---------+--\n",
            "U | UUU F   | UCU S   | UAU Y   | UGU C   | U\n",
            "U | UUC F   | UCC S   | UAC Y   | UGC C   | C\n",
            "U | UUA L   | UCA S   | UAA Stop| UGA Stop| A\n",
            "U | UUG L(s)| UCG S   | UAG Stop| UGG W   | G\n",
            "--+---------+---------+---------+---------+--\n",
            "C | CUU L   | CCU P   | CAU H   | CGU R   | U\n",
            "C | CUC L   | CCC P   | CAC H   | CGC R   | C\n",
            "C | CUA L   | CCA P   | CAA Q   | CGA R   | A\n",
            "C | CUG L(s)| CCG P   | CAG Q   | CGG R   | G\n",
            "--+---------+---------+---------+---------+--\n",
            "A | AUU I   | ACU T   | AAU N   | AGU S   | U\n",
            "A | AUC I   | ACC T   | AAC N   | AGC S   | C\n",
            "A | AUA I   | ACA T   | AAA K   | AGA R   | A\n",
            "A | AUG M(s)| ACG T   | AAG K   | AGG R   | G\n",
            "--+---------+---------+---------+---------+--\n",
            "G | GUU V   | GCU A   | GAU D   | GGU G   | U\n",
            "G | GUC V   | GCC A   | GAC D   | GGC G   | C\n",
            "G | GUA V   | GCA A   | GAA E   | GGA G   | A\n",
            "G | GUG V   | GCG A   | GAG E   | GGG G   | G\n",
            "--+---------+---------+---------+---------+--\n"
          ]
        }
      ],
      "source": [
        "# RNA codon table\n",
        "print(CodonTable.unambiguous_rna_by_name['Standard'])"
      ]
    },
    {
      "cell_type": "markdown",
      "metadata": {
        "id": "drVwNJGbZrro"
      },
      "source": [
        "### 3D Structure of Protein (OPTIONAL)\n",
        "+ File Format\n",
        " - pdb :PDBParser() legacy\n",
        " - cif :MMCIFParser() recent\n",
        "\n",
        "+ links\n",
        " - https://www.ncbi.nlm.nih.gov/Structure/pdb/6LU7\n",
        " - https://www.rcsb.org/search\n",
        " - Protein Data Bank\n",
        "\n",
        "+ Packages\n",
        " - pip install nglview\n",
        " - jupyter-nbextension enable nglview --py --sys-prefix\n",
        " - nglview enable\n",
        " - jupyter-labextension install @jupyter-widget/jupyterlab-manager\n",
        " - jupyter-labextension install nglview-js-widgets"
      ]
    },
    {
      "cell_type": "code",
      "execution_count": null,
      "metadata": {
        "id": "81-rpvBAZrro",
        "scrolled": true,
        "colab": {
          "base_uri": "https://localhost:8080/"
        },
        "outputId": "04a89760-64e9-4ea4-9640-ba0ac87e41a8"
      },
      "outputs": [
        {
          "output_type": "stream",
          "name": "stdout",
          "text": [
            "Mounted at /drive\n"
          ]
        }
      ],
      "source": [
        "# Reading PDB Files\n",
        "from Bio.PDB.PDBParser import PDBParser\n",
        "drive.mount(\"/drive\")"
      ]
    },
    {
      "cell_type": "code",
      "source": [
        "# Create a parser\n",
        "parser = PDBParser()\n",
        "structure = parser.get_structure(\"6LF5\",\"/drive/My Drive/PraktikumBiologi/6lf5.pdb\")"
      ],
      "metadata": {
        "id": "EwFUZkw5E--E"
      },
      "execution_count": null,
      "outputs": []
    },
    {
      "cell_type": "code",
      "execution_count": null,
      "metadata": {
        "id": "4mM1Wa-XZrro",
        "colab": {
          "base_uri": "https://localhost:8080/"
        },
        "outputId": "5e35b8cd-c169-495a-e70e-29159b98b8a2"
      },
      "outputs": [
        {
          "output_type": "execute_result",
          "data": {
            "text/plain": [
              "<Structure id=6LF5>"
            ]
          },
          "metadata": {},
          "execution_count": 41
        }
      ],
      "source": [
        "# The overall layout of a Structure object follows the so-called SMCRA\n",
        "# (Structure/Model/Chain/Residue/Atom) architecture:\n",
        "structure"
      ]
    },
    {
      "cell_type": "code",
      "execution_count": null,
      "metadata": {
        "id": "f8Ll7c2IZrrp"
      },
      "outputs": [],
      "source": [
        "# Models in the structure\n",
        "model = structure[0]"
      ]
    },
    {
      "cell_type": "code",
      "execution_count": null,
      "metadata": {
        "id": "pOvsUnwhZrrp",
        "colab": {
          "base_uri": "https://localhost:8080/"
        },
        "outputId": "8efaa681-d1eb-40cf-a636-ccd7d59d250a"
      },
      "outputs": [
        {
          "output_type": "stream",
          "name": "stdout",
          "text": [
            "Chain <Chain id=A>, Chain_IDA\n"
          ]
        }
      ],
      "source": [
        "# Check for chains\n",
        "for chain in model:\n",
        "  print(f'Chain {chain}, Chain_ID{chain.id}')"
      ]
    },
    {
      "cell_type": "code",
      "execution_count": null,
      "metadata": {
        "id": "ZZFBl355Zrrp",
        "colab": {
          "base_uri": "https://localhost:8080/"
        },
        "outputId": "ec2dc3b2-8b77-4e62-c082-9cb0dcf8cf0b"
      },
      "outputs": [
        {
          "output_type": "stream",
          "name": "stdout",
          "text": [
            "Chain <Chain id=A>, Chain_IDA\n",
            "<Residue CYS het=  resseq=1 icode= >\n",
            "<Residue PRO het=  resseq=2 icode= >\n",
            "<Residue GLN het=  resseq=3 icode= >\n",
            "<Residue VAL het=  resseq=4 icode= >\n",
            "<Residue CYS het=  resseq=5 icode= >\n",
            "<Residue PRO het=  resseq=6 icode= >\n",
            "<Residue ALA het=  resseq=7 icode= >\n",
            "<Residue ILE het=  resseq=8 icode= >\n",
            "<Residue TYR het=  resseq=9 icode= >\n",
            "<Residue GLN het=  resseq=10 icode= >\n",
            "<Residue PRO het=  resseq=11 icode= >\n",
            "<Residue VAL het=  resseq=12 icode= >\n",
            "<Residue PHE het=  resseq=13 icode= >\n",
            "<Residue ASP het=  resseq=14 icode= >\n",
            "<Residue GLU het=  resseq=15 icode= >\n",
            "<Residue PHE het=  resseq=16 icode= >\n",
            "<Residue GLY het=  resseq=17 icode= >\n",
            "<Residue ARG het=  resseq=18 icode= >\n",
            "<Residue MET het=  resseq=19 icode= >\n",
            "<Residue TYR het=  resseq=20 icode= >\n",
            "<Residue SER het=  resseq=21 icode= >\n",
            "<Residue ASN het=  resseq=22 icode= >\n",
            "<Residue SER het=  resseq=23 icode= >\n",
            "<Residue CYS het=  resseq=24 icode= >\n",
            "<Residue GLU het=  resseq=25 icode= >\n",
            "<Residue MET het=  resseq=26 icode= >\n",
            "<Residue GLN het=  resseq=27 icode= >\n",
            "<Residue ARG het=  resseq=28 icode= >\n",
            "<Residue ALA het=  resseq=29 icode= >\n",
            "<Residue ARG het=  resseq=30 icode= >\n",
            "<Residue CYS het=  resseq=31 icode= >\n",
            "<Residue LEU het=  resseq=32 icode= >\n",
            "<Residue ARG het=  resseq=33 icode= >\n",
            "<Residue GLY het=  resseq=34 icode= >\n"
          ]
        }
      ],
      "source": [
        "# Check for Residue\n",
        "for chain in model:\n",
        "  print(f'Chain {chain}, Chain_ID{chain.id}')\n",
        "  for residue in chain:\n",
        "    print(residue)"
      ]
    },
    {
      "cell_type": "code",
      "execution_count": null,
      "metadata": {
        "id": "xM-i5O_bZrrp",
        "colab": {
          "base_uri": "https://localhost:8080/"
        },
        "outputId": "1c3d9d2b-ac3b-40e7-cb97-f78c93898c2e"
      },
      "outputs": [
        {
          "output_type": "stream",
          "name": "stdout",
          "text": [
            "Chain <Chain id=A>, Chain_IDA\n",
            "<Atom N>\n",
            "<Atom CA>\n",
            "<Atom C>\n",
            "<Atom O>\n",
            "<Atom CB>\n",
            "<Atom SG>\n",
            "<Atom H1>\n",
            "<Atom H2>\n",
            "<Atom H3>\n",
            "<Atom HA>\n",
            "<Atom HB2>\n",
            "<Atom HB3>\n",
            "<Atom N>\n",
            "<Atom CA>\n",
            "<Atom C>\n",
            "<Atom O>\n",
            "<Atom CB>\n",
            "<Atom CG>\n",
            "<Atom CD>\n",
            "<Atom HA>\n",
            "<Atom HB2>\n",
            "<Atom HB3>\n",
            "<Atom HG2>\n",
            "<Atom HG3>\n",
            "<Atom HD2>\n",
            "<Atom HD3>\n",
            "<Atom N>\n",
            "<Atom CA>\n",
            "<Atom C>\n",
            "<Atom O>\n",
            "<Atom CB>\n",
            "<Atom CG>\n",
            "<Atom CD>\n",
            "<Atom OE1>\n",
            "<Atom NE2>\n",
            "<Atom H>\n",
            "<Atom HA>\n",
            "<Atom HB2>\n",
            "<Atom HB3>\n",
            "<Atom HG2>\n",
            "<Atom HG3>\n",
            "<Atom HE21>\n",
            "<Atom HE22>\n",
            "<Atom N>\n",
            "<Atom CA>\n",
            "<Atom C>\n",
            "<Atom O>\n",
            "<Atom CB>\n",
            "<Atom CG1>\n",
            "<Atom CG2>\n",
            "<Atom H>\n",
            "<Atom HA>\n",
            "<Atom HB>\n",
            "<Atom HG11>\n",
            "<Atom HG12>\n",
            "<Atom HG13>\n",
            "<Atom HG21>\n",
            "<Atom HG22>\n",
            "<Atom HG23>\n",
            "<Atom N>\n",
            "<Atom CA>\n",
            "<Atom C>\n",
            "<Atom O>\n",
            "<Atom CB>\n",
            "<Atom SG>\n",
            "<Atom H>\n",
            "<Atom HA>\n",
            "<Atom HB2>\n",
            "<Atom HB3>\n",
            "<Atom N>\n",
            "<Atom CA>\n",
            "<Atom C>\n",
            "<Atom O>\n",
            "<Atom CB>\n",
            "<Atom CG>\n",
            "<Atom CD>\n",
            "<Atom HA>\n",
            "<Atom HB2>\n",
            "<Atom HB3>\n",
            "<Atom HG2>\n",
            "<Atom HG3>\n",
            "<Atom HD2>\n",
            "<Atom HD3>\n",
            "<Atom N>\n",
            "<Atom CA>\n",
            "<Atom C>\n",
            "<Atom O>\n",
            "<Atom CB>\n",
            "<Atom H>\n",
            "<Atom HA>\n",
            "<Atom HB1>\n",
            "<Atom HB2>\n",
            "<Atom HB3>\n",
            "<Atom N>\n",
            "<Atom CA>\n",
            "<Atom C>\n",
            "<Atom O>\n",
            "<Atom CB>\n",
            "<Atom CG1>\n",
            "<Atom CG2>\n",
            "<Atom CD1>\n",
            "<Atom H>\n",
            "<Atom HA>\n",
            "<Atom HB>\n",
            "<Atom HG12>\n",
            "<Atom HG13>\n",
            "<Atom HG21>\n",
            "<Atom HG22>\n",
            "<Atom HG23>\n",
            "<Atom HD11>\n",
            "<Atom HD12>\n",
            "<Atom HD13>\n",
            "<Atom N>\n",
            "<Atom CA>\n",
            "<Atom C>\n",
            "<Atom O>\n",
            "<Atom CB>\n",
            "<Atom CG>\n",
            "<Atom CD1>\n",
            "<Atom CD2>\n",
            "<Atom CE1>\n",
            "<Atom CE2>\n",
            "<Atom CZ>\n",
            "<Atom OH>\n",
            "<Atom H>\n",
            "<Atom HA>\n",
            "<Atom HB2>\n",
            "<Atom HB3>\n",
            "<Atom HD1>\n",
            "<Atom HD2>\n",
            "<Atom HE1>\n",
            "<Atom HE2>\n",
            "<Atom HH>\n",
            "<Atom N>\n",
            "<Atom CA>\n",
            "<Atom C>\n",
            "<Atom O>\n",
            "<Atom CB>\n",
            "<Atom CG>\n",
            "<Atom CD>\n",
            "<Atom OE1>\n",
            "<Atom NE2>\n",
            "<Atom H>\n",
            "<Atom HA>\n",
            "<Atom HB2>\n",
            "<Atom HB3>\n",
            "<Atom HG2>\n",
            "<Atom HG3>\n",
            "<Atom HE21>\n",
            "<Atom HE22>\n",
            "<Atom N>\n",
            "<Atom CA>\n",
            "<Atom C>\n",
            "<Atom O>\n",
            "<Atom CB>\n",
            "<Atom CG>\n",
            "<Atom CD>\n",
            "<Atom HA>\n",
            "<Atom HB2>\n",
            "<Atom HB3>\n",
            "<Atom HG2>\n",
            "<Atom HG3>\n",
            "<Atom HD2>\n",
            "<Atom HD3>\n",
            "<Atom N>\n",
            "<Atom CA>\n",
            "<Atom C>\n",
            "<Atom O>\n",
            "<Atom CB>\n",
            "<Atom CG1>\n",
            "<Atom CG2>\n",
            "<Atom H>\n",
            "<Atom HA>\n",
            "<Atom HB>\n",
            "<Atom HG11>\n",
            "<Atom HG12>\n",
            "<Atom HG13>\n",
            "<Atom HG21>\n",
            "<Atom HG22>\n",
            "<Atom HG23>\n",
            "<Atom N>\n",
            "<Atom CA>\n",
            "<Atom C>\n",
            "<Atom O>\n",
            "<Atom CB>\n",
            "<Atom CG>\n",
            "<Atom CD1>\n",
            "<Atom CD2>\n",
            "<Atom CE1>\n",
            "<Atom CE2>\n",
            "<Atom CZ>\n",
            "<Atom H>\n",
            "<Atom HA>\n",
            "<Atom HB2>\n",
            "<Atom HB3>\n",
            "<Atom HD1>\n",
            "<Atom HD2>\n",
            "<Atom HE1>\n",
            "<Atom HE2>\n",
            "<Atom HZ>\n",
            "<Atom N>\n",
            "<Atom CA>\n",
            "<Atom C>\n",
            "<Atom O>\n",
            "<Atom CB>\n",
            "<Atom CG>\n",
            "<Atom OD1>\n",
            "<Atom OD2>\n",
            "<Atom H>\n",
            "<Atom HA>\n",
            "<Atom HB2>\n",
            "<Atom HB3>\n",
            "<Atom N>\n",
            "<Atom CA>\n",
            "<Atom C>\n",
            "<Atom O>\n",
            "<Atom CB>\n",
            "<Atom CG>\n",
            "<Atom CD>\n",
            "<Atom OE1>\n",
            "<Atom OE2>\n",
            "<Atom H>\n",
            "<Atom HA>\n",
            "<Atom HB2>\n",
            "<Atom HB3>\n",
            "<Atom HG2>\n",
            "<Atom HG3>\n",
            "<Atom N>\n",
            "<Atom CA>\n",
            "<Atom C>\n",
            "<Atom O>\n",
            "<Atom CB>\n",
            "<Atom CG>\n",
            "<Atom CD1>\n",
            "<Atom CD2>\n",
            "<Atom CE1>\n",
            "<Atom CE2>\n",
            "<Atom CZ>\n",
            "<Atom H>\n",
            "<Atom HA>\n",
            "<Atom HB2>\n",
            "<Atom HB3>\n",
            "<Atom HD1>\n",
            "<Atom HD2>\n",
            "<Atom HE1>\n",
            "<Atom HE2>\n",
            "<Atom HZ>\n",
            "<Atom N>\n",
            "<Atom CA>\n",
            "<Atom C>\n",
            "<Atom O>\n",
            "<Atom H>\n",
            "<Atom HA2>\n",
            "<Atom HA3>\n",
            "<Atom N>\n",
            "<Atom CA>\n",
            "<Atom C>\n",
            "<Atom O>\n",
            "<Atom CB>\n",
            "<Atom CG>\n",
            "<Atom CD>\n",
            "<Atom NE>\n",
            "<Atom CZ>\n",
            "<Atom NH1>\n",
            "<Atom NH2>\n",
            "<Atom H>\n",
            "<Atom HA>\n",
            "<Atom HB2>\n",
            "<Atom HB3>\n",
            "<Atom HG2>\n",
            "<Atom HG3>\n",
            "<Atom HD2>\n",
            "<Atom HD3>\n",
            "<Atom HE>\n",
            "<Atom HH11>\n",
            "<Atom HH12>\n",
            "<Atom HH21>\n",
            "<Atom HH22>\n",
            "<Atom N>\n",
            "<Atom CA>\n",
            "<Atom C>\n",
            "<Atom O>\n",
            "<Atom CB>\n",
            "<Atom CG>\n",
            "<Atom SD>\n",
            "<Atom CE>\n",
            "<Atom H>\n",
            "<Atom HA>\n",
            "<Atom HB2>\n",
            "<Atom HB3>\n",
            "<Atom HG2>\n",
            "<Atom HG3>\n",
            "<Atom HE1>\n",
            "<Atom HE2>\n",
            "<Atom HE3>\n",
            "<Atom N>\n",
            "<Atom CA>\n",
            "<Atom C>\n",
            "<Atom O>\n",
            "<Atom CB>\n",
            "<Atom CG>\n",
            "<Atom CD1>\n",
            "<Atom CD2>\n",
            "<Atom CE1>\n",
            "<Atom CE2>\n",
            "<Atom CZ>\n",
            "<Atom OH>\n",
            "<Atom H>\n",
            "<Atom HA>\n",
            "<Atom HB2>\n",
            "<Atom HB3>\n",
            "<Atom HD1>\n",
            "<Atom HD2>\n",
            "<Atom HE1>\n",
            "<Atom HE2>\n",
            "<Atom HH>\n",
            "<Atom N>\n",
            "<Atom CA>\n",
            "<Atom C>\n",
            "<Atom O>\n",
            "<Atom CB>\n",
            "<Atom OG>\n",
            "<Atom H>\n",
            "<Atom HA>\n",
            "<Atom HB2>\n",
            "<Atom HB3>\n",
            "<Atom HG>\n",
            "<Atom N>\n",
            "<Atom CA>\n",
            "<Atom C>\n",
            "<Atom O>\n",
            "<Atom CB>\n",
            "<Atom CG>\n",
            "<Atom OD1>\n",
            "<Atom ND2>\n",
            "<Atom H>\n",
            "<Atom HA>\n",
            "<Atom HB2>\n",
            "<Atom HB3>\n",
            "<Atom HD21>\n",
            "<Atom HD22>\n",
            "<Atom N>\n",
            "<Atom CA>\n",
            "<Atom C>\n",
            "<Atom O>\n",
            "<Atom CB>\n",
            "<Atom OG>\n",
            "<Atom H>\n",
            "<Atom HA>\n",
            "<Atom HB2>\n",
            "<Atom HB3>\n",
            "<Atom HG>\n",
            "<Atom N>\n",
            "<Atom CA>\n",
            "<Atom C>\n",
            "<Atom O>\n",
            "<Atom CB>\n",
            "<Atom SG>\n",
            "<Atom H>\n",
            "<Atom HA>\n",
            "<Atom HB2>\n",
            "<Atom HB3>\n",
            "<Atom N>\n",
            "<Atom CA>\n",
            "<Atom C>\n",
            "<Atom O>\n",
            "<Atom CB>\n",
            "<Atom CG>\n",
            "<Atom CD>\n",
            "<Atom OE1>\n",
            "<Atom OE2>\n",
            "<Atom H>\n",
            "<Atom HA>\n",
            "<Atom HB2>\n",
            "<Atom HB3>\n",
            "<Atom HG2>\n",
            "<Atom HG3>\n",
            "<Atom N>\n",
            "<Atom CA>\n",
            "<Atom C>\n",
            "<Atom O>\n",
            "<Atom CB>\n",
            "<Atom CG>\n",
            "<Atom SD>\n",
            "<Atom CE>\n",
            "<Atom H>\n",
            "<Atom HA>\n",
            "<Atom HB2>\n",
            "<Atom HB3>\n",
            "<Atom HG2>\n",
            "<Atom HG3>\n",
            "<Atom HE1>\n",
            "<Atom HE2>\n",
            "<Atom HE3>\n",
            "<Atom N>\n",
            "<Atom CA>\n",
            "<Atom C>\n",
            "<Atom O>\n",
            "<Atom CB>\n",
            "<Atom CG>\n",
            "<Atom CD>\n",
            "<Atom OE1>\n",
            "<Atom NE2>\n",
            "<Atom H>\n",
            "<Atom HA>\n",
            "<Atom HB2>\n",
            "<Atom HB3>\n",
            "<Atom HG2>\n",
            "<Atom HG3>\n",
            "<Atom HE21>\n",
            "<Atom HE22>\n",
            "<Atom N>\n",
            "<Atom CA>\n",
            "<Atom C>\n",
            "<Atom O>\n",
            "<Atom CB>\n",
            "<Atom CG>\n",
            "<Atom CD>\n",
            "<Atom NE>\n",
            "<Atom CZ>\n",
            "<Atom NH1>\n",
            "<Atom NH2>\n",
            "<Atom H>\n",
            "<Atom HA>\n",
            "<Atom HB2>\n",
            "<Atom HB3>\n",
            "<Atom HG2>\n",
            "<Atom HG3>\n",
            "<Atom HD2>\n",
            "<Atom HD3>\n",
            "<Atom HE>\n",
            "<Atom HH11>\n",
            "<Atom HH12>\n",
            "<Atom HH21>\n",
            "<Atom HH22>\n",
            "<Atom N>\n",
            "<Atom CA>\n",
            "<Atom C>\n",
            "<Atom O>\n",
            "<Atom CB>\n",
            "<Atom H>\n",
            "<Atom HA>\n",
            "<Atom HB1>\n",
            "<Atom HB2>\n",
            "<Atom HB3>\n",
            "<Atom N>\n",
            "<Atom CA>\n",
            "<Atom C>\n",
            "<Atom O>\n",
            "<Atom CB>\n",
            "<Atom CG>\n",
            "<Atom CD>\n",
            "<Atom NE>\n",
            "<Atom CZ>\n",
            "<Atom NH1>\n",
            "<Atom NH2>\n",
            "<Atom H>\n",
            "<Atom HA>\n",
            "<Atom HB2>\n",
            "<Atom HB3>\n",
            "<Atom HG2>\n",
            "<Atom HG3>\n",
            "<Atom HD2>\n",
            "<Atom HD3>\n",
            "<Atom HE>\n",
            "<Atom HH11>\n",
            "<Atom HH12>\n",
            "<Atom HH21>\n",
            "<Atom HH22>\n",
            "<Atom N>\n",
            "<Atom CA>\n",
            "<Atom C>\n",
            "<Atom O>\n",
            "<Atom CB>\n",
            "<Atom SG>\n",
            "<Atom H>\n",
            "<Atom HA>\n",
            "<Atom HB2>\n",
            "<Atom HB3>\n",
            "<Atom N>\n",
            "<Atom CA>\n",
            "<Atom C>\n",
            "<Atom O>\n",
            "<Atom CB>\n",
            "<Atom CG>\n",
            "<Atom CD1>\n",
            "<Atom CD2>\n",
            "<Atom H>\n",
            "<Atom HA>\n",
            "<Atom HB2>\n",
            "<Atom HB3>\n",
            "<Atom HG>\n",
            "<Atom HD11>\n",
            "<Atom HD12>\n",
            "<Atom HD13>\n",
            "<Atom HD21>\n",
            "<Atom HD22>\n",
            "<Atom HD23>\n",
            "<Atom N>\n",
            "<Atom CA>\n",
            "<Atom C>\n",
            "<Atom O>\n",
            "<Atom CB>\n",
            "<Atom CG>\n",
            "<Atom CD>\n",
            "<Atom NE>\n",
            "<Atom CZ>\n",
            "<Atom NH1>\n",
            "<Atom NH2>\n",
            "<Atom H>\n",
            "<Atom HA>\n",
            "<Atom HB2>\n",
            "<Atom HB3>\n",
            "<Atom HG2>\n",
            "<Atom HG3>\n",
            "<Atom HD2>\n",
            "<Atom HD3>\n",
            "<Atom HE>\n",
            "<Atom HH11>\n",
            "<Atom HH12>\n",
            "<Atom HH21>\n",
            "<Atom HH22>\n",
            "<Atom N>\n",
            "<Atom CA>\n",
            "<Atom C>\n",
            "<Atom O>\n",
            "<Atom OXT>\n",
            "<Atom H>\n",
            "<Atom HA2>\n",
            "<Atom HA3>\n"
          ]
        }
      ],
      "source": [
        "# Check for atoms\n",
        "for chain in model:\n",
        "  print(f'Chain {chain}, Chain_ID{chain.id}')\n",
        "  for residue in chain:\n",
        "    for atom in residue:\n",
        "      print(atom)"
      ]
    },
    {
      "cell_type": "code",
      "execution_count": null,
      "metadata": {
        "id": "Met0Uk8qZrrp",
        "colab": {
          "base_uri": "https://localhost:8080/"
        },
        "outputId": "2833b72c-cb4c-41a2-a393-c3b1e342ed2a"
      },
      "outputs": [
        {
          "output_type": "stream",
          "name": "stdout",
          "text": [
            "Collecting py3Dmol\n",
            "  Downloading py3Dmol-2.1.0-py2.py3-none-any.whl (12 kB)\n",
            "Installing collected packages: py3Dmol\n",
            "Successfully installed py3Dmol-2.1.0\n"
          ]
        }
      ],
      "source": [
        "!pip install py3Dmol\n",
        "import py3Dmol"
      ]
    },
    {
      "cell_type": "code",
      "execution_count": null,
      "metadata": {
        "id": "UWzCVzZnZrrq",
        "colab": {
          "base_uri": "https://localhost:8080/",
          "height": 514
        },
        "outputId": "620da5fc-87cb-45e3-f9f0-41953a745e83"
      },
      "outputs": [
        {
          "output_type": "display_data",
          "data": {
            "application/3dmoljs_load.v0": "<div id=\"3dmolviewer_1710825439793286\"  style=\"position: relative; width: 640px; height: 480px;\">\n        <p id=\"3dmolwarning_1710825439793286\" style=\"background-color:#ffcccc;color:black\">3Dmol.js failed to load for some reason.  Please check your browser console for error messages.<br></p>\n        </div>\n<script>\n\nvar loadScriptAsync = function(uri){\n  return new Promise((resolve, reject) => {\n    //this is to ignore the existence of requirejs amd\n    var savedexports, savedmodule;\n    if (typeof exports !== 'undefined') savedexports = exports;\n    else exports = {}\n    if (typeof module !== 'undefined') savedmodule = module;\n    else module = {}\n\n    var tag = document.createElement('script');\n    tag.src = uri;\n    tag.async = true;\n    tag.onload = () => {\n        exports = savedexports;\n        module = savedmodule;\n        resolve();\n    };\n  var firstScriptTag = document.getElementsByTagName('script')[0];\n  firstScriptTag.parentNode.insertBefore(tag, firstScriptTag);\n});\n};\n\nif(typeof $3Dmolpromise === 'undefined') {\n$3Dmolpromise = null;\n  $3Dmolpromise = loadScriptAsync('https://cdnjs.cloudflare.com/ajax/libs/3Dmol/2.1.0/3Dmol-min.js');\n}\n\nvar viewer_1710825439793286 = null;\nvar warn = document.getElementById(\"3dmolwarning_1710825439793286\");\nif(warn) {\n    warn.parentNode.removeChild(warn);\n}\n$3Dmolpromise.then(function() {\nviewer_1710825439793286 = $3Dmol.createViewer(document.getElementById(\"3dmolviewer_1710825439793286\"),{backgroundColor:\"white\"});\n$3Dmol.download(\"pdb:6LF5\", viewer_1710825439793286, {}, function() {\nviewer_1710825439793286.zoomTo();\n\tviewer_1710825439793286.setStyle({\"cartoon\": {\"color\": \"spectrum\"}});\nviewer_1710825439793286.render();\n})\n});\n</script>",
            "text/html": [
              "<div id=\"3dmolviewer_1710825439793286\"  style=\"position: relative; width: 640px; height: 480px;\">\n",
              "        <p id=\"3dmolwarning_1710825439793286\" style=\"background-color:#ffcccc;color:black\">3Dmol.js failed to load for some reason.  Please check your browser console for error messages.<br></p>\n",
              "        </div>\n",
              "<script>\n",
              "\n",
              "var loadScriptAsync = function(uri){\n",
              "  return new Promise((resolve, reject) => {\n",
              "    //this is to ignore the existence of requirejs amd\n",
              "    var savedexports, savedmodule;\n",
              "    if (typeof exports !== 'undefined') savedexports = exports;\n",
              "    else exports = {}\n",
              "    if (typeof module !== 'undefined') savedmodule = module;\n",
              "    else module = {}\n",
              "\n",
              "    var tag = document.createElement('script');\n",
              "    tag.src = uri;\n",
              "    tag.async = true;\n",
              "    tag.onload = () => {\n",
              "        exports = savedexports;\n",
              "        module = savedmodule;\n",
              "        resolve();\n",
              "    };\n",
              "  var firstScriptTag = document.getElementsByTagName('script')[0];\n",
              "  firstScriptTag.parentNode.insertBefore(tag, firstScriptTag);\n",
              "});\n",
              "};\n",
              "\n",
              "if(typeof $3Dmolpromise === 'undefined') {\n",
              "$3Dmolpromise = null;\n",
              "  $3Dmolpromise = loadScriptAsync('https://cdnjs.cloudflare.com/ajax/libs/3Dmol/2.1.0/3Dmol-min.js');\n",
              "}\n",
              "\n",
              "var viewer_1710825439793286 = null;\n",
              "var warn = document.getElementById(\"3dmolwarning_1710825439793286\");\n",
              "if(warn) {\n",
              "    warn.parentNode.removeChild(warn);\n",
              "}\n",
              "$3Dmolpromise.then(function() {\n",
              "viewer_1710825439793286 = $3Dmol.createViewer(document.getElementById(\"3dmolviewer_1710825439793286\"),{backgroundColor:\"white\"});\n",
              "$3Dmol.download(\"pdb:6LF5\", viewer_1710825439793286, {}, function() {\n",
              "viewer_1710825439793286.zoomTo();\n",
              "\tviewer_1710825439793286.setStyle({\"cartoon\": {\"color\": \"spectrum\"}});\n",
              "viewer_1710825439793286.render();\n",
              "})\n",
              "});\n",
              "</script>"
            ]
          },
          "metadata": {}
        },
        {
          "output_type": "execute_result",
          "data": {
            "text/plain": [
              "<py3Dmol.view at 0x7daef438b7f0>"
            ]
          },
          "metadata": {},
          "execution_count": 54
        }
      ],
      "source": [
        "view1 = py3Dmol.view(query='pdb:6LF5')\n",
        "view1.setStyle({'cartoon':{'color':'spectrum'}})"
      ]
    },
    {
      "cell_type": "code",
      "execution_count": null,
      "metadata": {
        "id": "1ZqxBqIeZrrq",
        "outputId": "276b36c0-2a0c-4cad-da53-ed803b84089c",
        "colab": {
          "base_uri": "https://localhost:8080/",
          "height": 514
        }
      },
      "outputs": [
        {
          "output_type": "display_data",
          "data": {
            "application/3dmoljs_load.v0": "<div id=\"3dmolviewer_1710825451505635\"  style=\"position: relative; width: 640px; height: 480px;\">\n        <p id=\"3dmolwarning_1710825451505635\" style=\"background-color:#ffcccc;color:black\">3Dmol.js failed to load for some reason.  Please check your browser console for error messages.<br></p>\n        </div>\n<script>\n\nvar loadScriptAsync = function(uri){\n  return new Promise((resolve, reject) => {\n    //this is to ignore the existence of requirejs amd\n    var savedexports, savedmodule;\n    if (typeof exports !== 'undefined') savedexports = exports;\n    else exports = {}\n    if (typeof module !== 'undefined') savedmodule = module;\n    else module = {}\n\n    var tag = document.createElement('script');\n    tag.src = uri;\n    tag.async = true;\n    tag.onload = () => {\n        exports = savedexports;\n        module = savedmodule;\n        resolve();\n    };\n  var firstScriptTag = document.getElementsByTagName('script')[0];\n  firstScriptTag.parentNode.insertBefore(tag, firstScriptTag);\n});\n};\n\nif(typeof $3Dmolpromise === 'undefined') {\n$3Dmolpromise = null;\n  $3Dmolpromise = loadScriptAsync('https://cdnjs.cloudflare.com/ajax/libs/3Dmol/2.1.0/3Dmol-min.js');\n}\n\nvar viewer_1710825451505635 = null;\nvar warn = document.getElementById(\"3dmolwarning_1710825451505635\");\nif(warn) {\n    warn.parentNode.removeChild(warn);\n}\n$3Dmolpromise.then(function() {\nviewer_1710825451505635 = $3Dmol.createViewer(document.getElementById(\"3dmolviewer_1710825451505635\"),{backgroundColor:\"white\"});\n$3Dmol.download(\"pdb:2B1N\", viewer_1710825451505635, {}, function() {\nviewer_1710825451505635.zoomTo();\n\tviewer_1710825451505635.setStyle({\"cartoon\": {\"color\": \"spectrum\"}});\nviewer_1710825451505635.render();\n})\n});\n</script>",
            "text/html": [
              "<div id=\"3dmolviewer_1710825451505635\"  style=\"position: relative; width: 640px; height: 480px;\">\n",
              "        <p id=\"3dmolwarning_1710825451505635\" style=\"background-color:#ffcccc;color:black\">3Dmol.js failed to load for some reason.  Please check your browser console for error messages.<br></p>\n",
              "        </div>\n",
              "<script>\n",
              "\n",
              "var loadScriptAsync = function(uri){\n",
              "  return new Promise((resolve, reject) => {\n",
              "    //this is to ignore the existence of requirejs amd\n",
              "    var savedexports, savedmodule;\n",
              "    if (typeof exports !== 'undefined') savedexports = exports;\n",
              "    else exports = {}\n",
              "    if (typeof module !== 'undefined') savedmodule = module;\n",
              "    else module = {}\n",
              "\n",
              "    var tag = document.createElement('script');\n",
              "    tag.src = uri;\n",
              "    tag.async = true;\n",
              "    tag.onload = () => {\n",
              "        exports = savedexports;\n",
              "        module = savedmodule;\n",
              "        resolve();\n",
              "    };\n",
              "  var firstScriptTag = document.getElementsByTagName('script')[0];\n",
              "  firstScriptTag.parentNode.insertBefore(tag, firstScriptTag);\n",
              "});\n",
              "};\n",
              "\n",
              "if(typeof $3Dmolpromise === 'undefined') {\n",
              "$3Dmolpromise = null;\n",
              "  $3Dmolpromise = loadScriptAsync('https://cdnjs.cloudflare.com/ajax/libs/3Dmol/2.1.0/3Dmol-min.js');\n",
              "}\n",
              "\n",
              "var viewer_1710825451505635 = null;\n",
              "var warn = document.getElementById(\"3dmolwarning_1710825451505635\");\n",
              "if(warn) {\n",
              "    warn.parentNode.removeChild(warn);\n",
              "}\n",
              "$3Dmolpromise.then(function() {\n",
              "viewer_1710825451505635 = $3Dmol.createViewer(document.getElementById(\"3dmolviewer_1710825451505635\"),{backgroundColor:\"white\"});\n",
              "$3Dmol.download(\"pdb:2B1N\", viewer_1710825451505635, {}, function() {\n",
              "viewer_1710825451505635.zoomTo();\n",
              "\tviewer_1710825451505635.setStyle({\"cartoon\": {\"color\": \"spectrum\"}});\n",
              "viewer_1710825451505635.render();\n",
              "})\n",
              "});\n",
              "</script>"
            ]
          },
          "metadata": {}
        },
        {
          "output_type": "execute_result",
          "data": {
            "text/plain": [
              "<py3Dmol.view at 0x7daef438bee0>"
            ]
          },
          "metadata": {},
          "execution_count": 55
        }
      ],
      "source": [
        "view2 = py3Dmol.view(query='pdb:2B1N')\n",
        "view2.setStyle({'cartoon':{'color':'spectrum'}})"
      ]
    },
    {
      "cell_type": "code",
      "source": [
        "view3 = py3Dmol.view(query='pdb:5UV0')\n",
        "view3.setStyle({'cartoon':{'color':'spectrum'}})"
      ],
      "metadata": {
        "colab": {
          "base_uri": "https://localhost:8080/",
          "height": 514
        },
        "id": "hGTXbDbnJNOe",
        "outputId": "7911bca1-1852-46d0-f1ea-41d61d85483e"
      },
      "execution_count": null,
      "outputs": [
        {
          "output_type": "display_data",
          "data": {
            "application/3dmoljs_load.v0": "<div id=\"3dmolviewer_17108266833382988\"  style=\"position: relative; width: 640px; height: 480px;\">\n        <p id=\"3dmolwarning_17108266833382988\" style=\"background-color:#ffcccc;color:black\">3Dmol.js failed to load for some reason.  Please check your browser console for error messages.<br></p>\n        </div>\n<script>\n\nvar loadScriptAsync = function(uri){\n  return new Promise((resolve, reject) => {\n    //this is to ignore the existence of requirejs amd\n    var savedexports, savedmodule;\n    if (typeof exports !== 'undefined') savedexports = exports;\n    else exports = {}\n    if (typeof module !== 'undefined') savedmodule = module;\n    else module = {}\n\n    var tag = document.createElement('script');\n    tag.src = uri;\n    tag.async = true;\n    tag.onload = () => {\n        exports = savedexports;\n        module = savedmodule;\n        resolve();\n    };\n  var firstScriptTag = document.getElementsByTagName('script')[0];\n  firstScriptTag.parentNode.insertBefore(tag, firstScriptTag);\n});\n};\n\nif(typeof $3Dmolpromise === 'undefined') {\n$3Dmolpromise = null;\n  $3Dmolpromise = loadScriptAsync('https://cdnjs.cloudflare.com/ajax/libs/3Dmol/2.1.0/3Dmol-min.js');\n}\n\nvar viewer_17108266833382988 = null;\nvar warn = document.getElementById(\"3dmolwarning_17108266833382988\");\nif(warn) {\n    warn.parentNode.removeChild(warn);\n}\n$3Dmolpromise.then(function() {\nviewer_17108266833382988 = $3Dmol.createViewer(document.getElementById(\"3dmolviewer_17108266833382988\"),{backgroundColor:\"white\"});\n$3Dmol.download(\"pdb:5UV0\", viewer_17108266833382988, {}, function() {\nviewer_17108266833382988.zoomTo();\n\tviewer_17108266833382988.setStyle({\"cartoon\": {\"color\": \"spectrum\"}});\nviewer_17108266833382988.render();\n})\n});\n</script>",
            "text/html": [
              "<div id=\"3dmolviewer_17108266833382988\"  style=\"position: relative; width: 640px; height: 480px;\">\n",
              "        <p id=\"3dmolwarning_17108266833382988\" style=\"background-color:#ffcccc;color:black\">3Dmol.js failed to load for some reason.  Please check your browser console for error messages.<br></p>\n",
              "        </div>\n",
              "<script>\n",
              "\n",
              "var loadScriptAsync = function(uri){\n",
              "  return new Promise((resolve, reject) => {\n",
              "    //this is to ignore the existence of requirejs amd\n",
              "    var savedexports, savedmodule;\n",
              "    if (typeof exports !== 'undefined') savedexports = exports;\n",
              "    else exports = {}\n",
              "    if (typeof module !== 'undefined') savedmodule = module;\n",
              "    else module = {}\n",
              "\n",
              "    var tag = document.createElement('script');\n",
              "    tag.src = uri;\n",
              "    tag.async = true;\n",
              "    tag.onload = () => {\n",
              "        exports = savedexports;\n",
              "        module = savedmodule;\n",
              "        resolve();\n",
              "    };\n",
              "  var firstScriptTag = document.getElementsByTagName('script')[0];\n",
              "  firstScriptTag.parentNode.insertBefore(tag, firstScriptTag);\n",
              "});\n",
              "};\n",
              "\n",
              "if(typeof $3Dmolpromise === 'undefined') {\n",
              "$3Dmolpromise = null;\n",
              "  $3Dmolpromise = loadScriptAsync('https://cdnjs.cloudflare.com/ajax/libs/3Dmol/2.1.0/3Dmol-min.js');\n",
              "}\n",
              "\n",
              "var viewer_17108266833382988 = null;\n",
              "var warn = document.getElementById(\"3dmolwarning_17108266833382988\");\n",
              "if(warn) {\n",
              "    warn.parentNode.removeChild(warn);\n",
              "}\n",
              "$3Dmolpromise.then(function() {\n",
              "viewer_17108266833382988 = $3Dmol.createViewer(document.getElementById(\"3dmolviewer_17108266833382988\"),{backgroundColor:\"white\"});\n",
              "$3Dmol.download(\"pdb:5UV0\", viewer_17108266833382988, {}, function() {\n",
              "viewer_17108266833382988.zoomTo();\n",
              "\tviewer_17108266833382988.setStyle({\"cartoon\": {\"color\": \"spectrum\"}});\n",
              "viewer_17108266833382988.render();\n",
              "})\n",
              "});\n",
              "</script>"
            ]
          },
          "metadata": {}
        },
        {
          "output_type": "execute_result",
          "data": {
            "text/plain": [
              "<py3Dmol.view at 0x7daedb8b1d20>"
            ]
          },
          "metadata": {},
          "execution_count": 59
        }
      ]
    },
    {
      "cell_type": "code",
      "source": [
        "view4 = py3Dmol.view(query='pdb:7TUT')\n",
        "view4.setStyle({'cartoon':{'color':'spectrum'}})"
      ],
      "metadata": {
        "colab": {
          "base_uri": "https://localhost:8080/",
          "height": 514
        },
        "id": "R-3Zela3KQXq",
        "outputId": "38eefa2a-e11b-47c9-dd22-ef69fc3a3d97"
      },
      "execution_count": null,
      "outputs": [
        {
          "output_type": "display_data",
          "data": {
            "application/3dmoljs_load.v0": "<div id=\"3dmolviewer_17108267743705685\"  style=\"position: relative; width: 640px; height: 480px;\">\n        <p id=\"3dmolwarning_17108267743705685\" style=\"background-color:#ffcccc;color:black\">3Dmol.js failed to load for some reason.  Please check your browser console for error messages.<br></p>\n        </div>\n<script>\n\nvar loadScriptAsync = function(uri){\n  return new Promise((resolve, reject) => {\n    //this is to ignore the existence of requirejs amd\n    var savedexports, savedmodule;\n    if (typeof exports !== 'undefined') savedexports = exports;\n    else exports = {}\n    if (typeof module !== 'undefined') savedmodule = module;\n    else module = {}\n\n    var tag = document.createElement('script');\n    tag.src = uri;\n    tag.async = true;\n    tag.onload = () => {\n        exports = savedexports;\n        module = savedmodule;\n        resolve();\n    };\n  var firstScriptTag = document.getElementsByTagName('script')[0];\n  firstScriptTag.parentNode.insertBefore(tag, firstScriptTag);\n});\n};\n\nif(typeof $3Dmolpromise === 'undefined') {\n$3Dmolpromise = null;\n  $3Dmolpromise = loadScriptAsync('https://cdnjs.cloudflare.com/ajax/libs/3Dmol/2.1.0/3Dmol-min.js');\n}\n\nvar viewer_17108267743705685 = null;\nvar warn = document.getElementById(\"3dmolwarning_17108267743705685\");\nif(warn) {\n    warn.parentNode.removeChild(warn);\n}\n$3Dmolpromise.then(function() {\nviewer_17108267743705685 = $3Dmol.createViewer(document.getElementById(\"3dmolviewer_17108267743705685\"),{backgroundColor:\"white\"});\n$3Dmol.download(\"pdb:7TUT\", viewer_17108267743705685, {}, function() {\nviewer_17108267743705685.zoomTo();\n\tviewer_17108267743705685.setStyle({\"cartoon\": {\"color\": \"spectrum\"}});\nviewer_17108267743705685.render();\n})\n});\n</script>",
            "text/html": [
              "<div id=\"3dmolviewer_17108267743705685\"  style=\"position: relative; width: 640px; height: 480px;\">\n",
              "        <p id=\"3dmolwarning_17108267743705685\" style=\"background-color:#ffcccc;color:black\">3Dmol.js failed to load for some reason.  Please check your browser console for error messages.<br></p>\n",
              "        </div>\n",
              "<script>\n",
              "\n",
              "var loadScriptAsync = function(uri){\n",
              "  return new Promise((resolve, reject) => {\n",
              "    //this is to ignore the existence of requirejs amd\n",
              "    var savedexports, savedmodule;\n",
              "    if (typeof exports !== 'undefined') savedexports = exports;\n",
              "    else exports = {}\n",
              "    if (typeof module !== 'undefined') savedmodule = module;\n",
              "    else module = {}\n",
              "\n",
              "    var tag = document.createElement('script');\n",
              "    tag.src = uri;\n",
              "    tag.async = true;\n",
              "    tag.onload = () => {\n",
              "        exports = savedexports;\n",
              "        module = savedmodule;\n",
              "        resolve();\n",
              "    };\n",
              "  var firstScriptTag = document.getElementsByTagName('script')[0];\n",
              "  firstScriptTag.parentNode.insertBefore(tag, firstScriptTag);\n",
              "});\n",
              "};\n",
              "\n",
              "if(typeof $3Dmolpromise === 'undefined') {\n",
              "$3Dmolpromise = null;\n",
              "  $3Dmolpromise = loadScriptAsync('https://cdnjs.cloudflare.com/ajax/libs/3Dmol/2.1.0/3Dmol-min.js');\n",
              "}\n",
              "\n",
              "var viewer_17108267743705685 = null;\n",
              "var warn = document.getElementById(\"3dmolwarning_17108267743705685\");\n",
              "if(warn) {\n",
              "    warn.parentNode.removeChild(warn);\n",
              "}\n",
              "$3Dmolpromise.then(function() {\n",
              "viewer_17108267743705685 = $3Dmol.createViewer(document.getElementById(\"3dmolviewer_17108267743705685\"),{backgroundColor:\"white\"});\n",
              "$3Dmol.download(\"pdb:7TUT\", viewer_17108267743705685, {}, function() {\n",
              "viewer_17108267743705685.zoomTo();\n",
              "\tviewer_17108267743705685.setStyle({\"cartoon\": {\"color\": \"spectrum\"}});\n",
              "viewer_17108267743705685.render();\n",
              "})\n",
              "});\n",
              "</script>"
            ]
          },
          "metadata": {}
        },
        {
          "output_type": "execute_result",
          "data": {
            "text/plain": [
              "<py3Dmol.view at 0x7daedb8b37f0>"
            ]
          },
          "metadata": {},
          "execution_count": 61
        }
      ]
    },
    {
      "cell_type": "markdown",
      "metadata": {
        "id": "qB7JOs0EZrrY"
      },
      "source": [
        "## Lab 4 Sequence Alignment"
      ]
    },
    {
      "cell_type": "markdown",
      "metadata": {
        "id": "mFZqUCpMZrrY"
      },
      "source": [
        "### Sequence Alignment\n",
        "+ Sequence alignment is a method of arranging sequences of DNA, RNA, or Amino Acids or proteins to identify regions of similarity.\n",
        "+ The similarity being identified, may be a result of functional, structural, or evolutionary relationships between the sequences.\n",
        "+ It is useful in identifying similarity and homology\n",
        "+ Homology: descent from a common ancestor or source.\n",
        "\n",
        "#### Terms\n",
        "+ Matches\n",
        "+ Mismatches\n",
        "+ Gap\n",
        "\n",
        "![](https://drive.google.com/uc?export=view&id=1xjcoAfhvq0JY-Oc7EiVH-syEe5qamdrw)\n",
        "\n",
        "#### Alignment Types\n",
        "+ Global alignment: finds the best concordance/agreement betwenn all characters in two sequences\n",
        "    + Mostly from end to end\n",
        "    + By Needle\n",
        "+ Local Alignment: finds just the subsequences that align the best\n",
        "    + In this method, we consider subsequences within each of the 2 sequences and try to match them to obtain the best alignment.\n",
        "    + By Water\n",
        "\n",
        "![](https://drive.google.com/uc?export=view&id=1NRwK49u9zjKN9KjiJZyBprlYFr6PPWe5)\n",
        "\n",
        "#### When to use local alignment\n",
        "\n",
        "+ 2 sequences have a small matched region\n",
        "+ 2 Sequences are of different lengths\n",
        "+ Overlapping sequences\n",
        "+ One sequences is a subsequences of the other\n",
        "\n",
        "+ Blast\n",
        "+ Emboss"
      ]
    },
    {
      "cell_type": "code",
      "execution_count": null,
      "metadata": {
        "id": "9moTFXCKZrrY"
      },
      "outputs": [],
      "source": [
        "# import the required functions (pairwise2 and format_alignment) from Bio packages\n",
        "from Bio import pairwise2\n",
        "from Bio.pairwise2 import format_alignment"
      ]
    },
    {
      "cell_type": "code",
      "execution_count": null,
      "metadata": {
        "id": "mX2RIvV1ZrrZ"
      },
      "outputs": [],
      "source": [
        "# create example sequences\n",
        "seq1 = Seq('ATGCATGGTGCGCGA')\n",
        "seq2 = Seq('ATTTGTGCTCCTGGA')"
      ]
    },
    {
      "cell_type": "code",
      "execution_count": null,
      "metadata": {
        "id": "1GShHX88ZrrZ",
        "colab": {
          "base_uri": "https://localhost:8080/"
        },
        "outputId": "7a3daec0-b738-491a-c1f7-4f36fcb58999"
      },
      "outputs": [
        {
          "output_type": "execute_result",
          "data": {
            "text/plain": [
              "[Alignment(seqA='ATGCATG-GTGCG-C--G-A', seqB='AT---T-TGTGC-TCCTGGA', score=10.0, start=0, end=20),\n",
              " Alignment(seqA='ATGCATGGTGCG-C--G-A', seqB='AT---TTGTGC-TCCTGGA', score=10.0, start=0, end=19),\n",
              " Alignment(seqA='ATGCA-TGGTGCG-C--G-A', seqB='AT---TT-GTGC-TCCTGGA', score=10.0, start=0, end=20),\n",
              " Alignment(seqA='ATGCATGGTGCG-C--G-A', seqB='AT--TT-GTGC-TCCTGGA', score=10.0, start=0, end=19),\n",
              " Alignment(seqA='ATGCATGGTGCG-C--G-A', seqB='AT-T-T-GTGC-TCCTGGA', score=10.0, start=0, end=19),\n",
              " Alignment(seqA='ATGCATGGTGCG-C--G-A', seqB='ATT--T-GTGC-TCCTGGA', score=10.0, start=0, end=19),\n",
              " Alignment(seqA='A-TGCATGGTGCG-C--G-A', seqB='ATT---T-GTGC-TCCTGGA', score=10.0, start=0, end=20),\n",
              " Alignment(seqA='ATGCAT-GGTGCG-C--G-A', seqB='AT---TTG-TGC-TCCTGGA', score=10.0, start=0, end=20),\n",
              " Alignment(seqA='ATGCA-TGGTGCG-C--G-A', seqB='AT---TTG-TGC-TCCTGGA', score=10.0, start=0, end=20),\n",
              " Alignment(seqA='ATGCATGGTGCG-C--G-A', seqB='AT--TTG-TGC-TCCTGGA', score=10.0, start=0, end=19),\n",
              " Alignment(seqA='ATGCATGGTGCG-C--G-A', seqB='AT-T-TG-TGC-TCCTGGA', score=10.0, start=0, end=19),\n",
              " Alignment(seqA='ATGCATGGTGCG-C--G-A', seqB='ATT--TG-TGC-TCCTGGA', score=10.0, start=0, end=19),\n",
              " Alignment(seqA='A-TGCATGGTGCG-C--G-A', seqB='ATT---TG-TGC-TCCTGGA', score=10.0, start=0, end=20),\n",
              " Alignment(seqA='ATGCATG-GTGCGC--G-A', seqB='AT---T-TGTGCTCCTGGA', score=10.0, start=0, end=19),\n",
              " Alignment(seqA='ATGCATGGTGCGC--G-A', seqB='AT---TTGTGCTCCTGGA', score=10.0, start=0, end=18),\n",
              " Alignment(seqA='ATGCA-TGGTGCGC--G-A', seqB='AT---TT-GTGCTCCTGGA', score=10.0, start=0, end=19),\n",
              " Alignment(seqA='ATGCATGGTGCGC--G-A', seqB='AT--TT-GTGCTCCTGGA', score=10.0, start=0, end=18),\n",
              " Alignment(seqA='ATGCATGGTGCGC--G-A', seqB='AT-T-T-GTGCTCCTGGA', score=10.0, start=0, end=18),\n",
              " Alignment(seqA='ATGCATGGTGCGC--G-A', seqB='ATT--T-GTGCTCCTGGA', score=10.0, start=0, end=18),\n",
              " Alignment(seqA='A-TGCATGGTGCGC--G-A', seqB='ATT---T-GTGCTCCTGGA', score=10.0, start=0, end=19),\n",
              " Alignment(seqA='ATGCAT-GGTGCGC--G-A', seqB='AT---TTG-TGCTCCTGGA', score=10.0, start=0, end=19),\n",
              " Alignment(seqA='ATGCA-TGGTGCGC--G-A', seqB='AT---TTG-TGCTCCTGGA', score=10.0, start=0, end=19),\n",
              " Alignment(seqA='ATGCATGGTGCGC--G-A', seqB='AT--TTG-TGCTCCTGGA', score=10.0, start=0, end=18),\n",
              " Alignment(seqA='ATGCATGGTGCGC--G-A', seqB='AT-T-TG-TGCTCCTGGA', score=10.0, start=0, end=18),\n",
              " Alignment(seqA='ATGCATGGTGCGC--G-A', seqB='ATT--TG-TGCTCCTGGA', score=10.0, start=0, end=18),\n",
              " Alignment(seqA='A-TGCATGGTGCGC--G-A', seqB='ATT---TG-TGCTCCTGGA', score=10.0, start=0, end=19),\n",
              " Alignment(seqA='ATGCATG-GTGCG--C-G-A', seqB='AT---T-TGTGC-TCCTGGA', score=10.0, start=0, end=20),\n",
              " Alignment(seqA='ATGCATGGTGCG--C-G-A', seqB='AT---TTGTGC-TCCTGGA', score=10.0, start=0, end=19),\n",
              " Alignment(seqA='ATGCA-TGGTGCG--C-G-A', seqB='AT---TT-GTGC-TCCTGGA', score=10.0, start=0, end=20),\n",
              " Alignment(seqA='ATGCATGGTGCG--C-G-A', seqB='AT--TT-GTGC-TCCTGGA', score=10.0, start=0, end=19),\n",
              " Alignment(seqA='ATGCATGGTGCG--C-G-A', seqB='AT-T-T-GTGC-TCCTGGA', score=10.0, start=0, end=19),\n",
              " Alignment(seqA='ATGCATGGTGCG--C-G-A', seqB='ATT--T-GTGC-TCCTGGA', score=10.0, start=0, end=19),\n",
              " Alignment(seqA='A-TGCATGGTGCG--C-G-A', seqB='ATT---T-GTGC-TCCTGGA', score=10.0, start=0, end=20),\n",
              " Alignment(seqA='ATGCAT-GGTGCG--C-G-A', seqB='AT---TTG-TGC-TCCTGGA', score=10.0, start=0, end=20),\n",
              " Alignment(seqA='ATGCA-TGGTGCG--C-G-A', seqB='AT---TTG-TGC-TCCTGGA', score=10.0, start=0, end=20),\n",
              " Alignment(seqA='ATGCATGGTGCG--C-G-A', seqB='AT--TTG-TGC-TCCTGGA', score=10.0, start=0, end=19),\n",
              " Alignment(seqA='ATGCATGGTGCG--C-G-A', seqB='AT-T-TG-TGC-TCCTGGA', score=10.0, start=0, end=19),\n",
              " Alignment(seqA='ATGCATGGTGCG--C-G-A', seqB='ATT--TG-TGC-TCCTGGA', score=10.0, start=0, end=19),\n",
              " Alignment(seqA='A-TGCATGGTGCG--C-G-A', seqB='ATT---TG-TGC-TCCTGGA', score=10.0, start=0, end=20),\n",
              " Alignment(seqA='ATGCATG-GTGCG-C-G-A', seqB='AT---T-TGTGCTCCTGGA', score=10.0, start=0, end=19),\n",
              " Alignment(seqA='ATGCATGGTGCG-C-G-A', seqB='AT---TTGTGCTCCTGGA', score=10.0, start=0, end=18),\n",
              " Alignment(seqA='ATGCA-TGGTGCG-C-G-A', seqB='AT---TT-GTGCTCCTGGA', score=10.0, start=0, end=19),\n",
              " Alignment(seqA='ATGCATGGTGCG-C-G-A', seqB='AT--TT-GTGCTCCTGGA', score=10.0, start=0, end=18),\n",
              " Alignment(seqA='ATGCATGGTGCG-C-G-A', seqB='AT-T-T-GTGCTCCTGGA', score=10.0, start=0, end=18),\n",
              " Alignment(seqA='ATGCATGGTGCG-C-G-A', seqB='ATT--T-GTGCTCCTGGA', score=10.0, start=0, end=18),\n",
              " Alignment(seqA='A-TGCATGGTGCG-C-G-A', seqB='ATT---T-GTGCTCCTGGA', score=10.0, start=0, end=19),\n",
              " Alignment(seqA='ATGCAT-GGTGCG-C-G-A', seqB='AT---TTG-TGCTCCTGGA', score=10.0, start=0, end=19),\n",
              " Alignment(seqA='ATGCA-TGGTGCG-C-G-A', seqB='AT---TTG-TGCTCCTGGA', score=10.0, start=0, end=19),\n",
              " Alignment(seqA='ATGCATGGTGCG-C-G-A', seqB='AT--TTG-TGCTCCTGGA', score=10.0, start=0, end=18),\n",
              " Alignment(seqA='ATGCATGGTGCG-C-G-A', seqB='AT-T-TG-TGCTCCTGGA', score=10.0, start=0, end=18),\n",
              " Alignment(seqA='ATGCATGGTGCG-C-G-A', seqB='ATT--TG-TGCTCCTGGA', score=10.0, start=0, end=18),\n",
              " Alignment(seqA='A-TGCATGGTGCG-C-G-A', seqB='ATT---TG-TGCTCCTGGA', score=10.0, start=0, end=19),\n",
              " Alignment(seqA='ATGCATG-GTGC-GC-G-A', seqB='AT---T-TGTGCTCCTGGA', score=10.0, start=0, end=19),\n",
              " Alignment(seqA='ATGCATGGTGC-GC-G-A', seqB='AT---TTGTGCTCCTGGA', score=10.0, start=0, end=18),\n",
              " Alignment(seqA='ATGCA-TGGTGC-GC-G-A', seqB='AT---TT-GTGCTCCTGGA', score=10.0, start=0, end=19),\n",
              " Alignment(seqA='ATGCATGGTGC-GC-G-A', seqB='AT--TT-GTGCTCCTGGA', score=10.0, start=0, end=18),\n",
              " Alignment(seqA='ATGCATGGTGC-GC-G-A', seqB='AT-T-T-GTGCTCCTGGA', score=10.0, start=0, end=18),\n",
              " Alignment(seqA='ATGCATGGTGC-GC-G-A', seqB='ATT--T-GTGCTCCTGGA', score=10.0, start=0, end=18),\n",
              " Alignment(seqA='A-TGCATGGTGC-GC-G-A', seqB='ATT---T-GTGCTCCTGGA', score=10.0, start=0, end=19),\n",
              " Alignment(seqA='ATGCAT-GGTGC-GC-G-A', seqB='AT---TTG-TGCTCCTGGA', score=10.0, start=0, end=19),\n",
              " Alignment(seqA='ATGCA-TGGTGC-GC-G-A', seqB='AT---TTG-TGCTCCTGGA', score=10.0, start=0, end=19),\n",
              " Alignment(seqA='ATGCATGGTGC-GC-G-A', seqB='AT--TTG-TGCTCCTGGA', score=10.0, start=0, end=18),\n",
              " Alignment(seqA='ATGCATGGTGC-GC-G-A', seqB='AT-T-TG-TGCTCCTGGA', score=10.0, start=0, end=18),\n",
              " Alignment(seqA='ATGCATGGTGC-GC-G-A', seqB='ATT--TG-TGCTCCTGGA', score=10.0, start=0, end=18),\n",
              " Alignment(seqA='A-TGCATGGTGC-GC-G-A', seqB='ATT---TG-TGCTCCTGGA', score=10.0, start=0, end=19),\n",
              " Alignment(seqA='ATGCATG-GTG--CGC-G-A', seqB='AT---T-TGTGCTC-CTGGA', score=10.0, start=0, end=20),\n",
              " Alignment(seqA='ATGCATGGTG--CGC-G-A', seqB='AT---TTGTGCTC-CTGGA', score=10.0, start=0, end=19),\n",
              " Alignment(seqA='ATGCA-TGGTG--CGC-G-A', seqB='AT---TT-GTGCTC-CTGGA', score=10.0, start=0, end=20),\n",
              " Alignment(seqA='ATGCATGGTG--CGC-G-A', seqB='AT--TT-GTGCTC-CTGGA', score=10.0, start=0, end=19),\n",
              " Alignment(seqA='ATGCATGGTG--CGC-G-A', seqB='AT-T-T-GTGCTC-CTGGA', score=10.0, start=0, end=19),\n",
              " Alignment(seqA='ATGCATGGTG--CGC-G-A', seqB='ATT--T-GTGCTC-CTGGA', score=10.0, start=0, end=19),\n",
              " Alignment(seqA='A-TGCATGGTG--CGC-G-A', seqB='ATT---T-GTGCTC-CTGGA', score=10.0, start=0, end=20),\n",
              " Alignment(seqA='ATGCAT-GGTG--CGC-G-A', seqB='AT---TTG-TGCTC-CTGGA', score=10.0, start=0, end=20),\n",
              " Alignment(seqA='ATGCA-TGGTG--CGC-G-A', seqB='AT---TTG-TGCTC-CTGGA', score=10.0, start=0, end=20),\n",
              " Alignment(seqA='ATGCATGGTG--CGC-G-A', seqB='AT--TTG-TGCTC-CTGGA', score=10.0, start=0, end=19),\n",
              " Alignment(seqA='ATGCATGGTG--CGC-G-A', seqB='AT-T-TG-TGCTC-CTGGA', score=10.0, start=0, end=19),\n",
              " Alignment(seqA='ATGCATGGTG--CGC-G-A', seqB='ATT--TG-TGCTC-CTGGA', score=10.0, start=0, end=19),\n",
              " Alignment(seqA='A-TGCATGGTG--CGC-G-A', seqB='ATT---TG-TGCTC-CTGGA', score=10.0, start=0, end=20),\n",
              " Alignment(seqA='ATGCAT-G-G-TGCGC-G-A', seqB='AT---TTGTGCT-C-CTGGA', score=10.0, start=0, end=20),\n",
              " Alignment(seqA='ATGCA-TG-G-TGCGC-G-A', seqB='AT---TTGTGCT-C-CTGGA', score=10.0, start=0, end=20),\n",
              " Alignment(seqA='ATGCATG-G-TGCGC-G-A', seqB='AT--TTGTGCT-C-CTGGA', score=10.0, start=0, end=19),\n",
              " Alignment(seqA='ATGCATG-G-TGCGC-G-A', seqB='AT-T-TGTGCT-C-CTGGA', score=10.0, start=0, end=19),\n",
              " Alignment(seqA='ATGCATG-G-TGCGC-G-A', seqB='ATT--TGTGCT-C-CTGGA', score=10.0, start=0, end=19),\n",
              " Alignment(seqA='A-TGCATG-G-TGCGC-G-A', seqB='ATT---TGTGCT-C-CTGGA', score=10.0, start=0, end=20),\n",
              " Alignment(seqA='AT--GCATGG-TGCGC-G-A', seqB='ATTTG--T-GCT-C-CTGGA', score=10.0, start=0, end=20),\n",
              " Alignment(seqA='A-T-GCATGG-TGCGC-G-A', seqB='ATTTG--T-GCT-C-CTGGA', score=10.0, start=0, end=20),\n",
              " Alignment(seqA='A--TGCATGG-TGCGC-G-A', seqB='ATTTG--T-GCT-C-CTGGA', score=10.0, start=0, end=20),\n",
              " Alignment(seqA='AT--GCATGG-TGCGC-G-A', seqB='ATTTG--TG-CT-C-CTGGA', score=10.0, start=0, end=20),\n",
              " Alignment(seqA='A-T-GCATGG-TGCGC-G-A', seqB='ATTTG--TG-CT-C-CTGGA', score=10.0, start=0, end=20),\n",
              " Alignment(seqA='A--TGCATGG-TGCGC-G-A', seqB='ATTTG--TG-CT-C-CTGGA', score=10.0, start=0, end=20),\n",
              " Alignment(seqA='AT--GCATGGTGCGC-G-A', seqB='ATTTG--TGCT-C-CTGGA', score=10.0, start=0, end=19),\n",
              " Alignment(seqA='A-T-GCATGGTGCGC-G-A', seqB='ATTTG--TGCT-C-CTGGA', score=10.0, start=0, end=19),\n",
              " Alignment(seqA='A--TGCATGGTGCGC-G-A', seqB='ATTTG--TGCT-C-CTGGA', score=10.0, start=0, end=19),\n",
              " Alignment(seqA='ATGCATG-GTGCG-C---GA', seqB='AT---T-TGTGC-TCCTGGA', score=10.0, start=0, end=20),\n",
              " Alignment(seqA='ATGCATGGTGCG-C---GA', seqB='AT---TTGTGC-TCCTGGA', score=10.0, start=0, end=19),\n",
              " Alignment(seqA='ATGCA-TGGTGCG-C---GA', seqB='AT---TT-GTGC-TCCTGGA', score=10.0, start=0, end=20),\n",
              " Alignment(seqA='ATGCATGGTGCG-C---GA', seqB='AT--TT-GTGC-TCCTGGA', score=10.0, start=0, end=19),\n",
              " Alignment(seqA='ATGCATGGTGCG-C---GA', seqB='AT-T-T-GTGC-TCCTGGA', score=10.0, start=0, end=19),\n",
              " Alignment(seqA='ATGCATGGTGCG-C---GA', seqB='ATT--T-GTGC-TCCTGGA', score=10.0, start=0, end=19),\n",
              " Alignment(seqA='A-TGCATGGTGCG-C---GA', seqB='ATT---T-GTGC-TCCTGGA', score=10.0, start=0, end=20),\n",
              " Alignment(seqA='ATGCAT-GGTGCG-C---GA', seqB='AT---TTG-TGC-TCCTGGA', score=10.0, start=0, end=20),\n",
              " Alignment(seqA='ATGCA-TGGTGCG-C---GA', seqB='AT---TTG-TGC-TCCTGGA', score=10.0, start=0, end=20),\n",
              " Alignment(seqA='ATGCATGGTGCG-C---GA', seqB='AT--TTG-TGC-TCCTGGA', score=10.0, start=0, end=19),\n",
              " Alignment(seqA='ATGCATGGTGCG-C---GA', seqB='AT-T-TG-TGC-TCCTGGA', score=10.0, start=0, end=19),\n",
              " Alignment(seqA='ATGCATGGTGCG-C---GA', seqB='ATT--TG-TGC-TCCTGGA', score=10.0, start=0, end=19),\n",
              " Alignment(seqA='A-TGCATGGTGCG-C---GA', seqB='ATT---TG-TGC-TCCTGGA', score=10.0, start=0, end=20),\n",
              " Alignment(seqA='ATGCATG-GTGCGC---GA', seqB='AT---T-TGTGCTCCTGGA', score=10.0, start=0, end=19),\n",
              " Alignment(seqA='ATGCATGGTGCGC---GA', seqB='AT---TTGTGCTCCTGGA', score=10.0, start=0, end=18),\n",
              " Alignment(seqA='ATGCA-TGGTGCGC---GA', seqB='AT---TT-GTGCTCCTGGA', score=10.0, start=0, end=19),\n",
              " Alignment(seqA='ATGCATGGTGCGC---GA', seqB='AT--TT-GTGCTCCTGGA', score=10.0, start=0, end=18),\n",
              " Alignment(seqA='ATGCATGGTGCGC---GA', seqB='AT-T-T-GTGCTCCTGGA', score=10.0, start=0, end=18),\n",
              " Alignment(seqA='ATGCATGGTGCGC---GA', seqB='ATT--T-GTGCTCCTGGA', score=10.0, start=0, end=18),\n",
              " Alignment(seqA='A-TGCATGGTGCGC---GA', seqB='ATT---T-GTGCTCCTGGA', score=10.0, start=0, end=19),\n",
              " Alignment(seqA='ATGCAT-GGTGCGC---GA', seqB='AT---TTG-TGCTCCTGGA', score=10.0, start=0, end=19),\n",
              " Alignment(seqA='ATGCA-TGGTGCGC---GA', seqB='AT---TTG-TGCTCCTGGA', score=10.0, start=0, end=19),\n",
              " Alignment(seqA='ATGCATGGTGCGC---GA', seqB='AT--TTG-TGCTCCTGGA', score=10.0, start=0, end=18),\n",
              " Alignment(seqA='ATGCATGGTGCGC---GA', seqB='AT-T-TG-TGCTCCTGGA', score=10.0, start=0, end=18),\n",
              " Alignment(seqA='ATGCATGGTGCGC---GA', seqB='ATT--TG-TGCTCCTGGA', score=10.0, start=0, end=18),\n",
              " Alignment(seqA='A-TGCATGGTGCGC---GA', seqB='ATT---TG-TGCTCCTGGA', score=10.0, start=0, end=19),\n",
              " Alignment(seqA='ATGCATG-GTGCG--C--GA', seqB='AT---T-TGTGC-TCCTGGA', score=10.0, start=0, end=20),\n",
              " Alignment(seqA='ATGCATGGTGCG--C--GA', seqB='AT---TTGTGC-TCCTGGA', score=10.0, start=0, end=19),\n",
              " Alignment(seqA='ATGCA-TGGTGCG--C--GA', seqB='AT---TT-GTGC-TCCTGGA', score=10.0, start=0, end=20),\n",
              " Alignment(seqA='ATGCATGGTGCG--C--GA', seqB='AT--TT-GTGC-TCCTGGA', score=10.0, start=0, end=19),\n",
              " Alignment(seqA='ATGCATGGTGCG--C--GA', seqB='AT-T-T-GTGC-TCCTGGA', score=10.0, start=0, end=19),\n",
              " Alignment(seqA='ATGCATGGTGCG--C--GA', seqB='ATT--T-GTGC-TCCTGGA', score=10.0, start=0, end=19),\n",
              " Alignment(seqA='A-TGCATGGTGCG--C--GA', seqB='ATT---T-GTGC-TCCTGGA', score=10.0, start=0, end=20),\n",
              " Alignment(seqA='ATGCAT-GGTGCG--C--GA', seqB='AT---TTG-TGC-TCCTGGA', score=10.0, start=0, end=20),\n",
              " Alignment(seqA='ATGCA-TGGTGCG--C--GA', seqB='AT---TTG-TGC-TCCTGGA', score=10.0, start=0, end=20),\n",
              " Alignment(seqA='ATGCATGGTGCG--C--GA', seqB='AT--TTG-TGC-TCCTGGA', score=10.0, start=0, end=19),\n",
              " Alignment(seqA='ATGCATGGTGCG--C--GA', seqB='AT-T-TG-TGC-TCCTGGA', score=10.0, start=0, end=19),\n",
              " Alignment(seqA='ATGCATGGTGCG--C--GA', seqB='ATT--TG-TGC-TCCTGGA', score=10.0, start=0, end=19),\n",
              " Alignment(seqA='A-TGCATGGTGCG--C--GA', seqB='ATT---TG-TGC-TCCTGGA', score=10.0, start=0, end=20),\n",
              " Alignment(seqA='ATGCATG-GTGCG-C--GA', seqB='AT---T-TGTGCTCCTGGA', score=10.0, start=0, end=19),\n",
              " Alignment(seqA='ATGCATGGTGCG-C--GA', seqB='AT---TTGTGCTCCTGGA', score=10.0, start=0, end=18),\n",
              " Alignment(seqA='ATGCA-TGGTGCG-C--GA', seqB='AT---TT-GTGCTCCTGGA', score=10.0, start=0, end=19),\n",
              " Alignment(seqA='ATGCATGGTGCG-C--GA', seqB='AT--TT-GTGCTCCTGGA', score=10.0, start=0, end=18),\n",
              " Alignment(seqA='ATGCATGGTGCG-C--GA', seqB='AT-T-T-GTGCTCCTGGA', score=10.0, start=0, end=18),\n",
              " Alignment(seqA='ATGCATGGTGCG-C--GA', seqB='ATT--T-GTGCTCCTGGA', score=10.0, start=0, end=18),\n",
              " Alignment(seqA='A-TGCATGGTGCG-C--GA', seqB='ATT---T-GTGCTCCTGGA', score=10.0, start=0, end=19),\n",
              " Alignment(seqA='ATGCAT-GGTGCG-C--GA', seqB='AT---TTG-TGCTCCTGGA', score=10.0, start=0, end=19),\n",
              " Alignment(seqA='ATGCA-TGGTGCG-C--GA', seqB='AT---TTG-TGCTCCTGGA', score=10.0, start=0, end=19),\n",
              " Alignment(seqA='ATGCATGGTGCG-C--GA', seqB='AT--TTG-TGCTCCTGGA', score=10.0, start=0, end=18),\n",
              " Alignment(seqA='ATGCATGGTGCG-C--GA', seqB='AT-T-TG-TGCTCCTGGA', score=10.0, start=0, end=18),\n",
              " Alignment(seqA='ATGCATGGTGCG-C--GA', seqB='ATT--TG-TGCTCCTGGA', score=10.0, start=0, end=18),\n",
              " Alignment(seqA='A-TGCATGGTGCG-C--GA', seqB='ATT---TG-TGCTCCTGGA', score=10.0, start=0, end=19),\n",
              " Alignment(seqA='ATGCATG-GTGC-GC--GA', seqB='AT---T-TGTGCTCCTGGA', score=10.0, start=0, end=19),\n",
              " Alignment(seqA='ATGCATGGTGC-GC--GA', seqB='AT---TTGTGCTCCTGGA', score=10.0, start=0, end=18),\n",
              " Alignment(seqA='ATGCA-TGGTGC-GC--GA', seqB='AT---TT-GTGCTCCTGGA', score=10.0, start=0, end=19),\n",
              " Alignment(seqA='ATGCATGGTGC-GC--GA', seqB='AT--TT-GTGCTCCTGGA', score=10.0, start=0, end=18),\n",
              " Alignment(seqA='ATGCATGGTGC-GC--GA', seqB='AT-T-T-GTGCTCCTGGA', score=10.0, start=0, end=18),\n",
              " Alignment(seqA='ATGCATGGTGC-GC--GA', seqB='ATT--T-GTGCTCCTGGA', score=10.0, start=0, end=18),\n",
              " Alignment(seqA='A-TGCATGGTGC-GC--GA', seqB='ATT---T-GTGCTCCTGGA', score=10.0, start=0, end=19),\n",
              " Alignment(seqA='ATGCAT-GGTGC-GC--GA', seqB='AT---TTG-TGCTCCTGGA', score=10.0, start=0, end=19),\n",
              " Alignment(seqA='ATGCA-TGGTGC-GC--GA', seqB='AT---TTG-TGCTCCTGGA', score=10.0, start=0, end=19),\n",
              " Alignment(seqA='ATGCATGGTGC-GC--GA', seqB='AT--TTG-TGCTCCTGGA', score=10.0, start=0, end=18),\n",
              " Alignment(seqA='ATGCATGGTGC-GC--GA', seqB='AT-T-TG-TGCTCCTGGA', score=10.0, start=0, end=18),\n",
              " Alignment(seqA='ATGCATGGTGC-GC--GA', seqB='ATT--TG-TGCTCCTGGA', score=10.0, start=0, end=18),\n",
              " Alignment(seqA='A-TGCATGGTGC-GC--GA', seqB='ATT---TG-TGCTCCTGGA', score=10.0, start=0, end=19),\n",
              " Alignment(seqA='ATGCATG-GTG--CGC--GA', seqB='AT---T-TGTGCTC-CTGGA', score=10.0, start=0, end=20),\n",
              " Alignment(seqA='ATGCATGGTG--CGC--GA', seqB='AT---TTGTGCTC-CTGGA', score=10.0, start=0, end=19),\n",
              " Alignment(seqA='ATGCA-TGGTG--CGC--GA', seqB='AT---TT-GTGCTC-CTGGA', score=10.0, start=0, end=20),\n",
              " Alignment(seqA='ATGCATGGTG--CGC--GA', seqB='AT--TT-GTGCTC-CTGGA', score=10.0, start=0, end=19),\n",
              " Alignment(seqA='ATGCATGGTG--CGC--GA', seqB='AT-T-T-GTGCTC-CTGGA', score=10.0, start=0, end=19),\n",
              " Alignment(seqA='ATGCATGGTG--CGC--GA', seqB='ATT--T-GTGCTC-CTGGA', score=10.0, start=0, end=19),\n",
              " Alignment(seqA='A-TGCATGGTG--CGC--GA', seqB='ATT---T-GTGCTC-CTGGA', score=10.0, start=0, end=20),\n",
              " Alignment(seqA='ATGCAT-GGTG--CGC--GA', seqB='AT---TTG-TGCTC-CTGGA', score=10.0, start=0, end=20),\n",
              " Alignment(seqA='ATGCA-TGGTG--CGC--GA', seqB='AT---TTG-TGCTC-CTGGA', score=10.0, start=0, end=20),\n",
              " Alignment(seqA='ATGCATGGTG--CGC--GA', seqB='AT--TTG-TGCTC-CTGGA', score=10.0, start=0, end=19),\n",
              " Alignment(seqA='ATGCATGGTG--CGC--GA', seqB='AT-T-TG-TGCTC-CTGGA', score=10.0, start=0, end=19),\n",
              " Alignment(seqA='ATGCATGGTG--CGC--GA', seqB='ATT--TG-TGCTC-CTGGA', score=10.0, start=0, end=19),\n",
              " Alignment(seqA='A-TGCATGGTG--CGC--GA', seqB='ATT---TG-TGCTC-CTGGA', score=10.0, start=0, end=20),\n",
              " Alignment(seqA='ATGCAT-G-G-TGCGC--GA', seqB='AT---TTGTGCT-C-CTGGA', score=10.0, start=0, end=20),\n",
              " Alignment(seqA='ATGCA-TG-G-TGCGC--GA', seqB='AT---TTGTGCT-C-CTGGA', score=10.0, start=0, end=20),\n",
              " Alignment(seqA='ATGCATG-G-TGCGC--GA', seqB='AT--TTGTGCT-C-CTGGA', score=10.0, start=0, end=19),\n",
              " Alignment(seqA='ATGCATG-G-TGCGC--GA', seqB='AT-T-TGTGCT-C-CTGGA', score=10.0, start=0, end=19),\n",
              " Alignment(seqA='ATGCATG-G-TGCGC--GA', seqB='ATT--TGTGCT-C-CTGGA', score=10.0, start=0, end=19),\n",
              " Alignment(seqA='A-TGCATG-G-TGCGC--GA', seqB='ATT---TGTGCT-C-CTGGA', score=10.0, start=0, end=20),\n",
              " Alignment(seqA='AT--GCATGG-TGCGC--GA', seqB='ATTTG--T-GCT-C-CTGGA', score=10.0, start=0, end=20),\n",
              " Alignment(seqA='A-T-GCATGG-TGCGC--GA', seqB='ATTTG--T-GCT-C-CTGGA', score=10.0, start=0, end=20),\n",
              " Alignment(seqA='A--TGCATGG-TGCGC--GA', seqB='ATTTG--T-GCT-C-CTGGA', score=10.0, start=0, end=20),\n",
              " Alignment(seqA='AT--GCATGG-TGCGC--GA', seqB='ATTTG--TG-CT-C-CTGGA', score=10.0, start=0, end=20),\n",
              " Alignment(seqA='A-T-GCATGG-TGCGC--GA', seqB='ATTTG--TG-CT-C-CTGGA', score=10.0, start=0, end=20),\n",
              " Alignment(seqA='A--TGCATGG-TGCGC--GA', seqB='ATTTG--TG-CT-C-CTGGA', score=10.0, start=0, end=20),\n",
              " Alignment(seqA='AT--GCATGGTGCGC--GA', seqB='ATTTG--TGCT-C-CTGGA', score=10.0, start=0, end=19),\n",
              " Alignment(seqA='A-T-GCATGGTGCGC--GA', seqB='ATTTG--TGCT-C-CTGGA', score=10.0, start=0, end=19),\n",
              " Alignment(seqA='A--TGCATGGTGCGC--GA', seqB='ATTTG--TGCT-C-CTGGA', score=10.0, start=0, end=19),\n",
              " Alignment(seqA='ATGCATG-GTGC----GCGA', seqB='AT---T-TGTGCTCCTG-GA', score=10.0, start=0, end=20),\n",
              " Alignment(seqA='ATGCATGGTGC----GCGA', seqB='AT---TTGTGCTCCTG-GA', score=10.0, start=0, end=19),\n",
              " Alignment(seqA='ATGCA-TGGTGC----GCGA', seqB='AT---TT-GTGCTCCTG-GA', score=10.0, start=0, end=20),\n",
              " Alignment(seqA='ATGCATGGTGC----GCGA', seqB='AT--TT-GTGCTCCTG-GA', score=10.0, start=0, end=19),\n",
              " Alignment(seqA='ATGCATGGTGC----GCGA', seqB='AT-T-T-GTGCTCCTG-GA', score=10.0, start=0, end=19),\n",
              " Alignment(seqA='ATGCATGGTGC----GCGA', seqB='ATT--T-GTGCTCCTG-GA', score=10.0, start=0, end=19),\n",
              " Alignment(seqA='A-TGCATGGTGC----GCGA', seqB='ATT---T-GTGCTCCTG-GA', score=10.0, start=0, end=20),\n",
              " Alignment(seqA='ATGCAT-GGTGC----GCGA', seqB='AT---TTG-TGCTCCTG-GA', score=10.0, start=0, end=20),\n",
              " Alignment(seqA='ATGCA-TGGTGC----GCGA', seqB='AT---TTG-TGCTCCTG-GA', score=10.0, start=0, end=20),\n",
              " Alignment(seqA='ATGCATGGTGC----GCGA', seqB='AT--TTG-TGCTCCTG-GA', score=10.0, start=0, end=19),\n",
              " Alignment(seqA='ATGCATGGTGC----GCGA', seqB='AT-T-TG-TGCTCCTG-GA', score=10.0, start=0, end=19),\n",
              " Alignment(seqA='ATGCATGGTGC----GCGA', seqB='ATT--TG-TGCTCCTG-GA', score=10.0, start=0, end=19),\n",
              " Alignment(seqA='A-TGCATGGTGC----GCGA', seqB='ATT---TG-TGCTCCTG-GA', score=10.0, start=0, end=20),\n",
              " Alignment(seqA='ATGCATG-GTG--C--GCGA', seqB='AT---T-TGTGCTCCTG-GA', score=10.0, start=0, end=20),\n",
              " Alignment(seqA='ATGCATGGTG--C--GCGA', seqB='AT---TTGTGCTCCTG-GA', score=10.0, start=0, end=19),\n",
              " Alignment(seqA='ATGCA-TGGTG--C--GCGA', seqB='AT---TT-GTGCTCCTG-GA', score=10.0, start=0, end=20),\n",
              " Alignment(seqA='ATGCATGGTG--C--GCGA', seqB='AT--TT-GTGCTCCTG-GA', score=10.0, start=0, end=19),\n",
              " Alignment(seqA='ATGCATGGTG--C--GCGA', seqB='AT-T-T-GTGCTCCTG-GA', score=10.0, start=0, end=19),\n",
              " Alignment(seqA='ATGCATGGTG--C--GCGA', seqB='ATT--T-GTGCTCCTG-GA', score=10.0, start=0, end=19),\n",
              " Alignment(seqA='A-TGCATGGTG--C--GCGA', seqB='ATT---T-GTGCTCCTG-GA', score=10.0, start=0, end=20),\n",
              " Alignment(seqA='ATGCAT-GGTG--C--GCGA', seqB='AT---TTG-TGCTCCTG-GA', score=10.0, start=0, end=20),\n",
              " Alignment(seqA='ATGCA-TGGTG--C--GCGA', seqB='AT---TTG-TGCTCCTG-GA', score=10.0, start=0, end=20),\n",
              " Alignment(seqA='ATGCATGGTG--C--GCGA', seqB='AT--TTG-TGCTCCTG-GA', score=10.0, start=0, end=19),\n",
              " Alignment(seqA='ATGCATGGTG--C--GCGA', seqB='AT-T-TG-TGCTCCTG-GA', score=10.0, start=0, end=19),\n",
              " Alignment(seqA='ATGCATGGTG--C--GCGA', seqB='ATT--TG-TGCTCCTG-GA', score=10.0, start=0, end=19),\n",
              " Alignment(seqA='A-TGCATGGTG--C--GCGA', seqB='ATT---TG-TGCTCCTG-GA', score=10.0, start=0, end=20),\n",
              " Alignment(seqA='ATGCAT-G-G-TGC--GCGA', seqB='AT---TTGTGCT-CCTG-GA', score=10.0, start=0, end=20),\n",
              " Alignment(seqA='ATGCA-TG-G-TGC--GCGA', seqB='AT---TTGTGCT-CCTG-GA', score=10.0, start=0, end=20),\n",
              " Alignment(seqA='ATGCATG-G-TGC--GCGA', seqB='AT--TTGTGCT-CCTG-GA', score=10.0, start=0, end=19),\n",
              " Alignment(seqA='ATGCATG-G-TGC--GCGA', seqB='AT-T-TGTGCT-CCTG-GA', score=10.0, start=0, end=19),\n",
              " Alignment(seqA='ATGCATG-G-TGC--GCGA', seqB='ATT--TGTGCT-CCTG-GA', score=10.0, start=0, end=19),\n",
              " Alignment(seqA='A-TGCATG-G-TGC--GCGA', seqB='ATT---TGTGCT-CCTG-GA', score=10.0, start=0, end=20),\n",
              " Alignment(seqA='AT--GCATGG-TGC--GCGA', seqB='ATTTG--T-GCT-CCTG-GA', score=10.0, start=0, end=20),\n",
              " Alignment(seqA='A-T-GCATGG-TGC--GCGA', seqB='ATTTG--T-GCT-CCTG-GA', score=10.0, start=0, end=20),\n",
              " Alignment(seqA='A--TGCATGG-TGC--GCGA', seqB='ATTTG--T-GCT-CCTG-GA', score=10.0, start=0, end=20),\n",
              " Alignment(seqA='AT--GCATGG-TGC--GCGA', seqB='ATTTG--TG-CT-CCTG-GA', score=10.0, start=0, end=20),\n",
              " Alignment(seqA='A-T-GCATGG-TGC--GCGA', seqB='ATTTG--TG-CT-CCTG-GA', score=10.0, start=0, end=20),\n",
              " Alignment(seqA='A--TGCATGG-TGC--GCGA', seqB='ATTTG--TG-CT-CCTG-GA', score=10.0, start=0, end=20),\n",
              " Alignment(seqA='AT--GCATGGTGC--GCGA', seqB='ATTTG--TGCT-CCTG-GA', score=10.0, start=0, end=19),\n",
              " Alignment(seqA='A-T-GCATGGTGC--GCGA', seqB='ATTTG--TGCT-CCTG-GA', score=10.0, start=0, end=19),\n",
              " Alignment(seqA='A--TGCATGGTGC--GCGA', seqB='ATTTG--TGCT-CCTG-GA', score=10.0, start=0, end=19)]"
            ]
          },
          "metadata": {},
          "execution_count": 16
        }
      ],
      "source": [
        "# Perform Global Alignment\n",
        "alignments = pairwise2.align.globalxx(seq1, seq2)\n",
        "alignments"
      ]
    },
    {
      "cell_type": "code",
      "execution_count": null,
      "metadata": {
        "id": "bO4vD5ovZrrZ",
        "colab": {
          "base_uri": "https://localhost:8080/"
        },
        "outputId": "03d6abf5-40b1-4a3c-e449-136766b11337"
      },
      "outputs": [
        {
          "output_type": "stream",
          "name": "stdout",
          "text": [
            "ATGCATG-GTGCG-C--G-A\n",
            "||   |  ||||  |  | |\n",
            "AT---T-TGTGC-TCCTGGA\n",
            "  Score=10\n",
            "\n"
          ]
        }
      ],
      "source": [
        "# display the alignment\n",
        "print(format_alignment(*alignments[0]))"
      ]
    },
    {
      "cell_type": "code",
      "execution_count": null,
      "metadata": {
        "id": "joqq3YqPZrrZ",
        "colab": {
          "base_uri": "https://localhost:8080/"
        },
        "outputId": "4c00b8e3-6f3f-40e4-8a80-d6c2b6e8a93f"
      },
      "outputs": [
        {
          "output_type": "stream",
          "name": "stdout",
          "text": [
            "ATGCATG-GTGCG-C--G-A\n",
            "||   |  ||||  |  | |\n",
            "AT---T-TGTGC-TCCTGGA\n",
            "  Score=10\n",
            "\n",
            "ATGCATGGTGCG-C--G-A\n",
            "||   |.||||  |  | |\n",
            "AT---TTGTGC-TCCTGGA\n",
            "  Score=10\n",
            "\n",
            "ATGCA-TGGTGCG-C--G-A\n",
            "||    | ||||  |  | |\n",
            "AT---TT-GTGC-TCCTGGA\n",
            "  Score=10\n",
            "\n",
            "ATGCATGGTGCG-C--G-A\n",
            "||  .| ||||  |  | |\n",
            "AT--TT-GTGC-TCCTGGA\n",
            "  Score=10\n",
            "\n",
            "ATGCATGGTGCG-C--G-A\n",
            "|| . | ||||  |  | |\n",
            "AT-T-T-GTGC-TCCTGGA\n",
            "  Score=10\n",
            "\n",
            "ATGCATGGTGCG-C--G-A\n",
            "||.  | ||||  |  | |\n",
            "ATT--T-GTGC-TCCTGGA\n",
            "  Score=10\n",
            "\n",
            "A-TGCATGGTGCG-C--G-A\n",
            "| |   | ||||  |  | |\n",
            "ATT---T-GTGC-TCCTGGA\n",
            "  Score=10\n",
            "\n",
            "ATGCAT-GGTGCG-C--G-A\n",
            "||   | | |||  |  | |\n",
            "AT---TTG-TGC-TCCTGGA\n",
            "  Score=10\n",
            "\n",
            "ATGCA-TGGTGCG-C--G-A\n",
            "||    || |||  |  | |\n",
            "AT---TTG-TGC-TCCTGGA\n",
            "  Score=10\n",
            "\n",
            "ATGCATGGTGCG-C--G-A\n",
            "||  .|| |||  |  | |\n",
            "AT--TTG-TGC-TCCTGGA\n",
            "  Score=10\n",
            "\n",
            "ATGCATGGTGCG-C--G-A\n",
            "|| . || |||  |  | |\n",
            "AT-T-TG-TGC-TCCTGGA\n",
            "  Score=10\n",
            "\n",
            "ATGCATGGTGCG-C--G-A\n",
            "||.  || |||  |  | |\n",
            "ATT--TG-TGC-TCCTGGA\n",
            "  Score=10\n",
            "\n",
            "A-TGCATGGTGCG-C--G-A\n",
            "| |   || |||  |  | |\n",
            "ATT---TG-TGC-TCCTGGA\n",
            "  Score=10\n",
            "\n",
            "ATGCATG-GTGCGC--G-A\n",
            "||   |  ||||.|  | |\n",
            "AT---T-TGTGCTCCTGGA\n",
            "  Score=10\n",
            "\n",
            "ATGCATGGTGCGC--G-A\n",
            "||   |.||||.|  | |\n",
            "AT---TTGTGCTCCTGGA\n",
            "  Score=10\n",
            "\n",
            "ATGCA-TGGTGCGC--G-A\n",
            "||    | ||||.|  | |\n",
            "AT---TT-GTGCTCCTGGA\n",
            "  Score=10\n",
            "\n",
            "ATGCATGGTGCGC--G-A\n",
            "||  .| ||||.|  | |\n",
            "AT--TT-GTGCTCCTGGA\n",
            "  Score=10\n",
            "\n",
            "ATGCATGGTGCGC--G-A\n",
            "|| . | ||||.|  | |\n",
            "AT-T-T-GTGCTCCTGGA\n",
            "  Score=10\n",
            "\n",
            "ATGCATGGTGCGC--G-A\n",
            "||.  | ||||.|  | |\n",
            "ATT--T-GTGCTCCTGGA\n",
            "  Score=10\n",
            "\n",
            "A-TGCATGGTGCGC--G-A\n",
            "| |   | ||||.|  | |\n",
            "ATT---T-GTGCTCCTGGA\n",
            "  Score=10\n",
            "\n",
            "ATGCAT-GGTGCGC--G-A\n",
            "||   | | |||.|  | |\n",
            "AT---TTG-TGCTCCTGGA\n",
            "  Score=10\n",
            "\n",
            "ATGCA-TGGTGCGC--G-A\n",
            "||    || |||.|  | |\n",
            "AT---TTG-TGCTCCTGGA\n",
            "  Score=10\n",
            "\n",
            "ATGCATGGTGCGC--G-A\n",
            "||  .|| |||.|  | |\n",
            "AT--TTG-TGCTCCTGGA\n",
            "  Score=10\n",
            "\n",
            "ATGCATGGTGCGC--G-A\n",
            "|| . || |||.|  | |\n",
            "AT-T-TG-TGCTCCTGGA\n",
            "  Score=10\n",
            "\n",
            "ATGCATGGTGCGC--G-A\n",
            "||.  || |||.|  | |\n",
            "ATT--TG-TGCTCCTGGA\n",
            "  Score=10\n",
            "\n",
            "A-TGCATGGTGCGC--G-A\n",
            "| |   || |||.|  | |\n",
            "ATT---TG-TGCTCCTGGA\n",
            "  Score=10\n",
            "\n",
            "ATGCATG-GTGCG--C-G-A\n",
            "||   |  ||||   | | |\n",
            "AT---T-TGTGC-TCCTGGA\n",
            "  Score=10\n",
            "\n",
            "ATGCATGGTGCG--C-G-A\n",
            "||   |.||||   | | |\n",
            "AT---TTGTGC-TCCTGGA\n",
            "  Score=10\n",
            "\n",
            "ATGCA-TGGTGCG--C-G-A\n",
            "||    | ||||   | | |\n",
            "AT---TT-GTGC-TCCTGGA\n",
            "  Score=10\n",
            "\n",
            "ATGCATGGTGCG--C-G-A\n",
            "||  .| ||||   | | |\n",
            "AT--TT-GTGC-TCCTGGA\n",
            "  Score=10\n",
            "\n",
            "ATGCATGGTGCG--C-G-A\n",
            "|| . | ||||   | | |\n",
            "AT-T-T-GTGC-TCCTGGA\n",
            "  Score=10\n",
            "\n",
            "ATGCATGGTGCG--C-G-A\n",
            "||.  | ||||   | | |\n",
            "ATT--T-GTGC-TCCTGGA\n",
            "  Score=10\n",
            "\n",
            "A-TGCATGGTGCG--C-G-A\n",
            "| |   | ||||   | | |\n",
            "ATT---T-GTGC-TCCTGGA\n",
            "  Score=10\n",
            "\n",
            "ATGCAT-GGTGCG--C-G-A\n",
            "||   | | |||   | | |\n",
            "AT---TTG-TGC-TCCTGGA\n",
            "  Score=10\n",
            "\n",
            "ATGCA-TGGTGCG--C-G-A\n",
            "||    || |||   | | |\n",
            "AT---TTG-TGC-TCCTGGA\n",
            "  Score=10\n",
            "\n",
            "ATGCATGGTGCG--C-G-A\n",
            "||  .|| |||   | | |\n",
            "AT--TTG-TGC-TCCTGGA\n",
            "  Score=10\n",
            "\n",
            "ATGCATGGTGCG--C-G-A\n",
            "|| . || |||   | | |\n",
            "AT-T-TG-TGC-TCCTGGA\n",
            "  Score=10\n",
            "\n",
            "ATGCATGGTGCG--C-G-A\n",
            "||.  || |||   | | |\n",
            "ATT--TG-TGC-TCCTGGA\n",
            "  Score=10\n",
            "\n",
            "A-TGCATGGTGCG--C-G-A\n",
            "| |   || |||   | | |\n",
            "ATT---TG-TGC-TCCTGGA\n",
            "  Score=10\n",
            "\n",
            "ATGCATG-GTGCG-C-G-A\n",
            "||   |  ||||. | | |\n",
            "AT---T-TGTGCTCCTGGA\n",
            "  Score=10\n",
            "\n",
            "ATGCATGGTGCG-C-G-A\n",
            "||   |.||||. | | |\n",
            "AT---TTGTGCTCCTGGA\n",
            "  Score=10\n",
            "\n",
            "ATGCA-TGGTGCG-C-G-A\n",
            "||    | ||||. | | |\n",
            "AT---TT-GTGCTCCTGGA\n",
            "  Score=10\n",
            "\n",
            "ATGCATGGTGCG-C-G-A\n",
            "||  .| ||||. | | |\n",
            "AT--TT-GTGCTCCTGGA\n",
            "  Score=10\n",
            "\n",
            "ATGCATGGTGCG-C-G-A\n",
            "|| . | ||||. | | |\n",
            "AT-T-T-GTGCTCCTGGA\n",
            "  Score=10\n",
            "\n",
            "ATGCATGGTGCG-C-G-A\n",
            "||.  | ||||. | | |\n",
            "ATT--T-GTGCTCCTGGA\n",
            "  Score=10\n",
            "\n",
            "A-TGCATGGTGCG-C-G-A\n",
            "| |   | ||||. | | |\n",
            "ATT---T-GTGCTCCTGGA\n",
            "  Score=10\n",
            "\n",
            "ATGCAT-GGTGCG-C-G-A\n",
            "||   | | |||. | | |\n",
            "AT---TTG-TGCTCCTGGA\n",
            "  Score=10\n",
            "\n",
            "ATGCA-TGGTGCG-C-G-A\n",
            "||    || |||. | | |\n",
            "AT---TTG-TGCTCCTGGA\n",
            "  Score=10\n",
            "\n",
            "ATGCATGGTGCG-C-G-A\n",
            "||  .|| |||. | | |\n",
            "AT--TTG-TGCTCCTGGA\n",
            "  Score=10\n",
            "\n",
            "ATGCATGGTGCG-C-G-A\n",
            "|| . || |||. | | |\n",
            "AT-T-TG-TGCTCCTGGA\n",
            "  Score=10\n",
            "\n",
            "ATGCATGGTGCG-C-G-A\n",
            "||.  || |||. | | |\n",
            "ATT--TG-TGCTCCTGGA\n",
            "  Score=10\n",
            "\n",
            "A-TGCATGGTGCG-C-G-A\n",
            "| |   || |||. | | |\n",
            "ATT---TG-TGCTCCTGGA\n",
            "  Score=10\n",
            "\n",
            "ATGCATG-GTGC-GC-G-A\n",
            "||   |  |||| .| | |\n",
            "AT---T-TGTGCTCCTGGA\n",
            "  Score=10\n",
            "\n",
            "ATGCATGGTGC-GC-G-A\n",
            "||   |.|||| .| | |\n",
            "AT---TTGTGCTCCTGGA\n",
            "  Score=10\n",
            "\n",
            "ATGCA-TGGTGC-GC-G-A\n",
            "||    | |||| .| | |\n",
            "AT---TT-GTGCTCCTGGA\n",
            "  Score=10\n",
            "\n",
            "ATGCATGGTGC-GC-G-A\n",
            "||  .| |||| .| | |\n",
            "AT--TT-GTGCTCCTGGA\n",
            "  Score=10\n",
            "\n",
            "ATGCATGGTGC-GC-G-A\n",
            "|| . | |||| .| | |\n",
            "AT-T-T-GTGCTCCTGGA\n",
            "  Score=10\n",
            "\n",
            "ATGCATGGTGC-GC-G-A\n",
            "||.  | |||| .| | |\n",
            "ATT--T-GTGCTCCTGGA\n",
            "  Score=10\n",
            "\n",
            "A-TGCATGGTGC-GC-G-A\n",
            "| |   | |||| .| | |\n",
            "ATT---T-GTGCTCCTGGA\n",
            "  Score=10\n",
            "\n",
            "ATGCAT-GGTGC-GC-G-A\n",
            "||   | | ||| .| | |\n",
            "AT---TTG-TGCTCCTGGA\n",
            "  Score=10\n",
            "\n",
            "ATGCA-TGGTGC-GC-G-A\n",
            "||    || ||| .| | |\n",
            "AT---TTG-TGCTCCTGGA\n",
            "  Score=10\n",
            "\n",
            "ATGCATGGTGC-GC-G-A\n",
            "||  .|| ||| .| | |\n",
            "AT--TTG-TGCTCCTGGA\n",
            "  Score=10\n",
            "\n",
            "ATGCATGGTGC-GC-G-A\n",
            "|| . || ||| .| | |\n",
            "AT-T-TG-TGCTCCTGGA\n",
            "  Score=10\n",
            "\n",
            "ATGCATGGTGC-GC-G-A\n",
            "||.  || ||| .| | |\n",
            "ATT--TG-TGCTCCTGGA\n",
            "  Score=10\n",
            "\n",
            "A-TGCATGGTGC-GC-G-A\n",
            "| |   || ||| .| | |\n",
            "ATT---TG-TGCTCCTGGA\n",
            "  Score=10\n",
            "\n",
            "ATGCATG-GTG--CGC-G-A\n",
            "||   |  |||  | | | |\n",
            "AT---T-TGTGCTC-CTGGA\n",
            "  Score=10\n",
            "\n",
            "ATGCATGGTG--CGC-G-A\n",
            "||   |.|||  | | | |\n",
            "AT---TTGTGCTC-CTGGA\n",
            "  Score=10\n",
            "\n",
            "ATGCA-TGGTG--CGC-G-A\n",
            "||    | |||  | | | |\n",
            "AT---TT-GTGCTC-CTGGA\n",
            "  Score=10\n",
            "\n",
            "ATGCATGGTG--CGC-G-A\n",
            "||  .| |||  | | | |\n",
            "AT--TT-GTGCTC-CTGGA\n",
            "  Score=10\n",
            "\n",
            "ATGCATGGTG--CGC-G-A\n",
            "|| . | |||  | | | |\n",
            "AT-T-T-GTGCTC-CTGGA\n",
            "  Score=10\n",
            "\n",
            "ATGCATGGTG--CGC-G-A\n",
            "||.  | |||  | | | |\n",
            "ATT--T-GTGCTC-CTGGA\n",
            "  Score=10\n",
            "\n",
            "A-TGCATGGTG--CGC-G-A\n",
            "| |   | |||  | | | |\n",
            "ATT---T-GTGCTC-CTGGA\n",
            "  Score=10\n",
            "\n",
            "ATGCAT-GGTG--CGC-G-A\n",
            "||   | | ||  | | | |\n",
            "AT---TTG-TGCTC-CTGGA\n",
            "  Score=10\n",
            "\n",
            "ATGCA-TGGTG--CGC-G-A\n",
            "||    || ||  | | | |\n",
            "AT---TTG-TGCTC-CTGGA\n",
            "  Score=10\n",
            "\n",
            "ATGCATGGTG--CGC-G-A\n",
            "||  .|| ||  | | | |\n",
            "AT--TTG-TGCTC-CTGGA\n",
            "  Score=10\n",
            "\n",
            "ATGCATGGTG--CGC-G-A\n",
            "|| . || ||  | | | |\n",
            "AT-T-TG-TGCTC-CTGGA\n",
            "  Score=10\n",
            "\n",
            "ATGCATGGTG--CGC-G-A\n",
            "||.  || ||  | | | |\n",
            "ATT--TG-TGCTC-CTGGA\n",
            "  Score=10\n",
            "\n",
            "A-TGCATGGTG--CGC-G-A\n",
            "| |   || ||  | | | |\n",
            "ATT---TG-TGCTC-CTGGA\n",
            "  Score=10\n",
            "\n",
            "ATGCAT-G-G-TGCGC-G-A\n",
            "||   | | | | | | | |\n",
            "AT---TTGTGCT-C-CTGGA\n",
            "  Score=10\n",
            "\n",
            "ATGCA-TG-G-TGCGC-G-A\n",
            "||    || | | | | | |\n",
            "AT---TTGTGCT-C-CTGGA\n",
            "  Score=10\n",
            "\n",
            "ATGCATG-G-TGCGC-G-A\n",
            "||  .|| | | | | | |\n",
            "AT--TTGTGCT-C-CTGGA\n",
            "  Score=10\n",
            "\n",
            "ATGCATG-G-TGCGC-G-A\n",
            "|| . || | | | | | |\n",
            "AT-T-TGTGCT-C-CTGGA\n",
            "  Score=10\n",
            "\n",
            "ATGCATG-G-TGCGC-G-A\n",
            "||.  || | | | | | |\n",
            "ATT--TGTGCT-C-CTGGA\n",
            "  Score=10\n",
            "\n",
            "A-TGCATG-G-TGCGC-G-A\n",
            "| |   || | | | | | |\n",
            "ATT---TGTGCT-C-CTGGA\n",
            "  Score=10\n",
            "\n",
            "AT--GCATGG-TGCGC-G-A\n",
            "||  |  | | | | | | |\n",
            "ATTTG--T-GCT-C-CTGGA\n",
            "  Score=10\n",
            "\n",
            "A-T-GCATGG-TGCGC-G-A\n",
            "| | |  | | | | | | |\n",
            "ATTTG--T-GCT-C-CTGGA\n",
            "  Score=10\n",
            "\n",
            "A--TGCATGG-TGCGC-G-A\n",
            "|  ||  | | | | | | |\n",
            "ATTTG--T-GCT-C-CTGGA\n",
            "  Score=10\n",
            "\n",
            "AT--GCATGG-TGCGC-G-A\n",
            "||  |  ||  | | | | |\n",
            "ATTTG--TG-CT-C-CTGGA\n",
            "  Score=10\n",
            "\n",
            "A-T-GCATGG-TGCGC-G-A\n",
            "| | |  ||  | | | | |\n",
            "ATTTG--TG-CT-C-CTGGA\n",
            "  Score=10\n",
            "\n",
            "A--TGCATGG-TGCGC-G-A\n",
            "|  ||  ||  | | | | |\n",
            "ATTTG--TG-CT-C-CTGGA\n",
            "  Score=10\n",
            "\n",
            "AT--GCATGGTGCGC-G-A\n",
            "||  |  ||.| | | | |\n",
            "ATTTG--TGCT-C-CTGGA\n",
            "  Score=10\n",
            "\n",
            "A-T-GCATGGTGCGC-G-A\n",
            "| | |  ||.| | | | |\n",
            "ATTTG--TGCT-C-CTGGA\n",
            "  Score=10\n",
            "\n",
            "A--TGCATGGTGCGC-G-A\n",
            "|  ||  ||.| | | | |\n",
            "ATTTG--TGCT-C-CTGGA\n",
            "  Score=10\n",
            "\n",
            "ATGCATG-GTGCG-C---GA\n",
            "||   |  ||||  |   ||\n",
            "AT---T-TGTGC-TCCTGGA\n",
            "  Score=10\n",
            "\n",
            "ATGCATGGTGCG-C---GA\n",
            "||   |.||||  |   ||\n",
            "AT---TTGTGC-TCCTGGA\n",
            "  Score=10\n",
            "\n",
            "ATGCA-TGGTGCG-C---GA\n",
            "||    | ||||  |   ||\n",
            "AT---TT-GTGC-TCCTGGA\n",
            "  Score=10\n",
            "\n",
            "ATGCATGGTGCG-C---GA\n",
            "||  .| ||||  |   ||\n",
            "AT--TT-GTGC-TCCTGGA\n",
            "  Score=10\n",
            "\n",
            "ATGCATGGTGCG-C---GA\n",
            "|| . | ||||  |   ||\n",
            "AT-T-T-GTGC-TCCTGGA\n",
            "  Score=10\n",
            "\n",
            "ATGCATGGTGCG-C---GA\n",
            "||.  | ||||  |   ||\n",
            "ATT--T-GTGC-TCCTGGA\n",
            "  Score=10\n",
            "\n",
            "A-TGCATGGTGCG-C---GA\n",
            "| |   | ||||  |   ||\n",
            "ATT---T-GTGC-TCCTGGA\n",
            "  Score=10\n",
            "\n",
            "ATGCAT-GGTGCG-C---GA\n",
            "||   | | |||  |   ||\n",
            "AT---TTG-TGC-TCCTGGA\n",
            "  Score=10\n",
            "\n",
            "ATGCA-TGGTGCG-C---GA\n",
            "||    || |||  |   ||\n",
            "AT---TTG-TGC-TCCTGGA\n",
            "  Score=10\n",
            "\n",
            "ATGCATGGTGCG-C---GA\n",
            "||  .|| |||  |   ||\n",
            "AT--TTG-TGC-TCCTGGA\n",
            "  Score=10\n",
            "\n",
            "ATGCATGGTGCG-C---GA\n",
            "|| . || |||  |   ||\n",
            "AT-T-TG-TGC-TCCTGGA\n",
            "  Score=10\n",
            "\n",
            "ATGCATGGTGCG-C---GA\n",
            "||.  || |||  |   ||\n",
            "ATT--TG-TGC-TCCTGGA\n",
            "  Score=10\n",
            "\n",
            "A-TGCATGGTGCG-C---GA\n",
            "| |   || |||  |   ||\n",
            "ATT---TG-TGC-TCCTGGA\n",
            "  Score=10\n",
            "\n",
            "ATGCATG-GTGCGC---GA\n",
            "||   |  ||||.|   ||\n",
            "AT---T-TGTGCTCCTGGA\n",
            "  Score=10\n",
            "\n",
            "ATGCATGGTGCGC---GA\n",
            "||   |.||||.|   ||\n",
            "AT---TTGTGCTCCTGGA\n",
            "  Score=10\n",
            "\n",
            "ATGCA-TGGTGCGC---GA\n",
            "||    | ||||.|   ||\n",
            "AT---TT-GTGCTCCTGGA\n",
            "  Score=10\n",
            "\n",
            "ATGCATGGTGCGC---GA\n",
            "||  .| ||||.|   ||\n",
            "AT--TT-GTGCTCCTGGA\n",
            "  Score=10\n",
            "\n",
            "ATGCATGGTGCGC---GA\n",
            "|| . | ||||.|   ||\n",
            "AT-T-T-GTGCTCCTGGA\n",
            "  Score=10\n",
            "\n",
            "ATGCATGGTGCGC---GA\n",
            "||.  | ||||.|   ||\n",
            "ATT--T-GTGCTCCTGGA\n",
            "  Score=10\n",
            "\n",
            "A-TGCATGGTGCGC---GA\n",
            "| |   | ||||.|   ||\n",
            "ATT---T-GTGCTCCTGGA\n",
            "  Score=10\n",
            "\n",
            "ATGCAT-GGTGCGC---GA\n",
            "||   | | |||.|   ||\n",
            "AT---TTG-TGCTCCTGGA\n",
            "  Score=10\n",
            "\n",
            "ATGCA-TGGTGCGC---GA\n",
            "||    || |||.|   ||\n",
            "AT---TTG-TGCTCCTGGA\n",
            "  Score=10\n",
            "\n",
            "ATGCATGGTGCGC---GA\n",
            "||  .|| |||.|   ||\n",
            "AT--TTG-TGCTCCTGGA\n",
            "  Score=10\n",
            "\n",
            "ATGCATGGTGCGC---GA\n",
            "|| . || |||.|   ||\n",
            "AT-T-TG-TGCTCCTGGA\n",
            "  Score=10\n",
            "\n",
            "ATGCATGGTGCGC---GA\n",
            "||.  || |||.|   ||\n",
            "ATT--TG-TGCTCCTGGA\n",
            "  Score=10\n",
            "\n",
            "A-TGCATGGTGCGC---GA\n",
            "| |   || |||.|   ||\n",
            "ATT---TG-TGCTCCTGGA\n",
            "  Score=10\n",
            "\n",
            "ATGCATG-GTGCG--C--GA\n",
            "||   |  ||||   |  ||\n",
            "AT---T-TGTGC-TCCTGGA\n",
            "  Score=10\n",
            "\n",
            "ATGCATGGTGCG--C--GA\n",
            "||   |.||||   |  ||\n",
            "AT---TTGTGC-TCCTGGA\n",
            "  Score=10\n",
            "\n",
            "ATGCA-TGGTGCG--C--GA\n",
            "||    | ||||   |  ||\n",
            "AT---TT-GTGC-TCCTGGA\n",
            "  Score=10\n",
            "\n",
            "ATGCATGGTGCG--C--GA\n",
            "||  .| ||||   |  ||\n",
            "AT--TT-GTGC-TCCTGGA\n",
            "  Score=10\n",
            "\n",
            "ATGCATGGTGCG--C--GA\n",
            "|| . | ||||   |  ||\n",
            "AT-T-T-GTGC-TCCTGGA\n",
            "  Score=10\n",
            "\n",
            "ATGCATGGTGCG--C--GA\n",
            "||.  | ||||   |  ||\n",
            "ATT--T-GTGC-TCCTGGA\n",
            "  Score=10\n",
            "\n",
            "A-TGCATGGTGCG--C--GA\n",
            "| |   | ||||   |  ||\n",
            "ATT---T-GTGC-TCCTGGA\n",
            "  Score=10\n",
            "\n",
            "ATGCAT-GGTGCG--C--GA\n",
            "||   | | |||   |  ||\n",
            "AT---TTG-TGC-TCCTGGA\n",
            "  Score=10\n",
            "\n",
            "ATGCA-TGGTGCG--C--GA\n",
            "||    || |||   |  ||\n",
            "AT---TTG-TGC-TCCTGGA\n",
            "  Score=10\n",
            "\n",
            "ATGCATGGTGCG--C--GA\n",
            "||  .|| |||   |  ||\n",
            "AT--TTG-TGC-TCCTGGA\n",
            "  Score=10\n",
            "\n",
            "ATGCATGGTGCG--C--GA\n",
            "|| . || |||   |  ||\n",
            "AT-T-TG-TGC-TCCTGGA\n",
            "  Score=10\n",
            "\n",
            "ATGCATGGTGCG--C--GA\n",
            "||.  || |||   |  ||\n",
            "ATT--TG-TGC-TCCTGGA\n",
            "  Score=10\n",
            "\n",
            "A-TGCATGGTGCG--C--GA\n",
            "| |   || |||   |  ||\n",
            "ATT---TG-TGC-TCCTGGA\n",
            "  Score=10\n",
            "\n",
            "ATGCATG-GTGCG-C--GA\n",
            "||   |  ||||. |  ||\n",
            "AT---T-TGTGCTCCTGGA\n",
            "  Score=10\n",
            "\n",
            "ATGCATGGTGCG-C--GA\n",
            "||   |.||||. |  ||\n",
            "AT---TTGTGCTCCTGGA\n",
            "  Score=10\n",
            "\n",
            "ATGCA-TGGTGCG-C--GA\n",
            "||    | ||||. |  ||\n",
            "AT---TT-GTGCTCCTGGA\n",
            "  Score=10\n",
            "\n",
            "ATGCATGGTGCG-C--GA\n",
            "||  .| ||||. |  ||\n",
            "AT--TT-GTGCTCCTGGA\n",
            "  Score=10\n",
            "\n",
            "ATGCATGGTGCG-C--GA\n",
            "|| . | ||||. |  ||\n",
            "AT-T-T-GTGCTCCTGGA\n",
            "  Score=10\n",
            "\n",
            "ATGCATGGTGCG-C--GA\n",
            "||.  | ||||. |  ||\n",
            "ATT--T-GTGCTCCTGGA\n",
            "  Score=10\n",
            "\n",
            "A-TGCATGGTGCG-C--GA\n",
            "| |   | ||||. |  ||\n",
            "ATT---T-GTGCTCCTGGA\n",
            "  Score=10\n",
            "\n",
            "ATGCAT-GGTGCG-C--GA\n",
            "||   | | |||. |  ||\n",
            "AT---TTG-TGCTCCTGGA\n",
            "  Score=10\n",
            "\n",
            "ATGCA-TGGTGCG-C--GA\n",
            "||    || |||. |  ||\n",
            "AT---TTG-TGCTCCTGGA\n",
            "  Score=10\n",
            "\n",
            "ATGCATGGTGCG-C--GA\n",
            "||  .|| |||. |  ||\n",
            "AT--TTG-TGCTCCTGGA\n",
            "  Score=10\n",
            "\n",
            "ATGCATGGTGCG-C--GA\n",
            "|| . || |||. |  ||\n",
            "AT-T-TG-TGCTCCTGGA\n",
            "  Score=10\n",
            "\n",
            "ATGCATGGTGCG-C--GA\n",
            "||.  || |||. |  ||\n",
            "ATT--TG-TGCTCCTGGA\n",
            "  Score=10\n",
            "\n",
            "A-TGCATGGTGCG-C--GA\n",
            "| |   || |||. |  ||\n",
            "ATT---TG-TGCTCCTGGA\n",
            "  Score=10\n",
            "\n",
            "ATGCATG-GTGC-GC--GA\n",
            "||   |  |||| .|  ||\n",
            "AT---T-TGTGCTCCTGGA\n",
            "  Score=10\n",
            "\n",
            "ATGCATGGTGC-GC--GA\n",
            "||   |.|||| .|  ||\n",
            "AT---TTGTGCTCCTGGA\n",
            "  Score=10\n",
            "\n",
            "ATGCA-TGGTGC-GC--GA\n",
            "||    | |||| .|  ||\n",
            "AT---TT-GTGCTCCTGGA\n",
            "  Score=10\n",
            "\n",
            "ATGCATGGTGC-GC--GA\n",
            "||  .| |||| .|  ||\n",
            "AT--TT-GTGCTCCTGGA\n",
            "  Score=10\n",
            "\n",
            "ATGCATGGTGC-GC--GA\n",
            "|| . | |||| .|  ||\n",
            "AT-T-T-GTGCTCCTGGA\n",
            "  Score=10\n",
            "\n",
            "ATGCATGGTGC-GC--GA\n",
            "||.  | |||| .|  ||\n",
            "ATT--T-GTGCTCCTGGA\n",
            "  Score=10\n",
            "\n",
            "A-TGCATGGTGC-GC--GA\n",
            "| |   | |||| .|  ||\n",
            "ATT---T-GTGCTCCTGGA\n",
            "  Score=10\n",
            "\n",
            "ATGCAT-GGTGC-GC--GA\n",
            "||   | | ||| .|  ||\n",
            "AT---TTG-TGCTCCTGGA\n",
            "  Score=10\n",
            "\n",
            "ATGCA-TGGTGC-GC--GA\n",
            "||    || ||| .|  ||\n",
            "AT---TTG-TGCTCCTGGA\n",
            "  Score=10\n",
            "\n",
            "ATGCATGGTGC-GC--GA\n",
            "||  .|| ||| .|  ||\n",
            "AT--TTG-TGCTCCTGGA\n",
            "  Score=10\n",
            "\n",
            "ATGCATGGTGC-GC--GA\n",
            "|| . || ||| .|  ||\n",
            "AT-T-TG-TGCTCCTGGA\n",
            "  Score=10\n",
            "\n",
            "ATGCATGGTGC-GC--GA\n",
            "||.  || ||| .|  ||\n",
            "ATT--TG-TGCTCCTGGA\n",
            "  Score=10\n",
            "\n",
            "A-TGCATGGTGC-GC--GA\n",
            "| |   || ||| .|  ||\n",
            "ATT---TG-TGCTCCTGGA\n",
            "  Score=10\n",
            "\n",
            "ATGCATG-GTG--CGC--GA\n",
            "||   |  |||  | |  ||\n",
            "AT---T-TGTGCTC-CTGGA\n",
            "  Score=10\n",
            "\n",
            "ATGCATGGTG--CGC--GA\n",
            "||   |.|||  | |  ||\n",
            "AT---TTGTGCTC-CTGGA\n",
            "  Score=10\n",
            "\n",
            "ATGCA-TGGTG--CGC--GA\n",
            "||    | |||  | |  ||\n",
            "AT---TT-GTGCTC-CTGGA\n",
            "  Score=10\n",
            "\n",
            "ATGCATGGTG--CGC--GA\n",
            "||  .| |||  | |  ||\n",
            "AT--TT-GTGCTC-CTGGA\n",
            "  Score=10\n",
            "\n",
            "ATGCATGGTG--CGC--GA\n",
            "|| . | |||  | |  ||\n",
            "AT-T-T-GTGCTC-CTGGA\n",
            "  Score=10\n",
            "\n",
            "ATGCATGGTG--CGC--GA\n",
            "||.  | |||  | |  ||\n",
            "ATT--T-GTGCTC-CTGGA\n",
            "  Score=10\n",
            "\n",
            "A-TGCATGGTG--CGC--GA\n",
            "| |   | |||  | |  ||\n",
            "ATT---T-GTGCTC-CTGGA\n",
            "  Score=10\n",
            "\n",
            "ATGCAT-GGTG--CGC--GA\n",
            "||   | | ||  | |  ||\n",
            "AT---TTG-TGCTC-CTGGA\n",
            "  Score=10\n",
            "\n",
            "ATGCA-TGGTG--CGC--GA\n",
            "||    || ||  | |  ||\n",
            "AT---TTG-TGCTC-CTGGA\n",
            "  Score=10\n",
            "\n",
            "ATGCATGGTG--CGC--GA\n",
            "||  .|| ||  | |  ||\n",
            "AT--TTG-TGCTC-CTGGA\n",
            "  Score=10\n",
            "\n",
            "ATGCATGGTG--CGC--GA\n",
            "|| . || ||  | |  ||\n",
            "AT-T-TG-TGCTC-CTGGA\n",
            "  Score=10\n",
            "\n",
            "ATGCATGGTG--CGC--GA\n",
            "||.  || ||  | |  ||\n",
            "ATT--TG-TGCTC-CTGGA\n",
            "  Score=10\n",
            "\n",
            "A-TGCATGGTG--CGC--GA\n",
            "| |   || ||  | |  ||\n",
            "ATT---TG-TGCTC-CTGGA\n",
            "  Score=10\n",
            "\n",
            "ATGCAT-G-G-TGCGC--GA\n",
            "||   | | | | | |  ||\n",
            "AT---TTGTGCT-C-CTGGA\n",
            "  Score=10\n",
            "\n",
            "ATGCA-TG-G-TGCGC--GA\n",
            "||    || | | | |  ||\n",
            "AT---TTGTGCT-C-CTGGA\n",
            "  Score=10\n",
            "\n",
            "ATGCATG-G-TGCGC--GA\n",
            "||  .|| | | | |  ||\n",
            "AT--TTGTGCT-C-CTGGA\n",
            "  Score=10\n",
            "\n",
            "ATGCATG-G-TGCGC--GA\n",
            "|| . || | | | |  ||\n",
            "AT-T-TGTGCT-C-CTGGA\n",
            "  Score=10\n",
            "\n",
            "ATGCATG-G-TGCGC--GA\n",
            "||.  || | | | |  ||\n",
            "ATT--TGTGCT-C-CTGGA\n",
            "  Score=10\n",
            "\n",
            "A-TGCATG-G-TGCGC--GA\n",
            "| |   || | | | |  ||\n",
            "ATT---TGTGCT-C-CTGGA\n",
            "  Score=10\n",
            "\n",
            "AT--GCATGG-TGCGC--GA\n",
            "||  |  | | | | |  ||\n",
            "ATTTG--T-GCT-C-CTGGA\n",
            "  Score=10\n",
            "\n",
            "A-T-GCATGG-TGCGC--GA\n",
            "| | |  | | | | |  ||\n",
            "ATTTG--T-GCT-C-CTGGA\n",
            "  Score=10\n",
            "\n",
            "A--TGCATGG-TGCGC--GA\n",
            "|  ||  | | | | |  ||\n",
            "ATTTG--T-GCT-C-CTGGA\n",
            "  Score=10\n",
            "\n",
            "AT--GCATGG-TGCGC--GA\n",
            "||  |  ||  | | |  ||\n",
            "ATTTG--TG-CT-C-CTGGA\n",
            "  Score=10\n",
            "\n",
            "A-T-GCATGG-TGCGC--GA\n",
            "| | |  ||  | | |  ||\n",
            "ATTTG--TG-CT-C-CTGGA\n",
            "  Score=10\n",
            "\n",
            "A--TGCATGG-TGCGC--GA\n",
            "|  ||  ||  | | |  ||\n",
            "ATTTG--TG-CT-C-CTGGA\n",
            "  Score=10\n",
            "\n",
            "AT--GCATGGTGCGC--GA\n",
            "||  |  ||.| | |  ||\n",
            "ATTTG--TGCT-C-CTGGA\n",
            "  Score=10\n",
            "\n",
            "A-T-GCATGGTGCGC--GA\n",
            "| | |  ||.| | |  ||\n",
            "ATTTG--TGCT-C-CTGGA\n",
            "  Score=10\n",
            "\n",
            "A--TGCATGGTGCGC--GA\n",
            "|  ||  ||.| | |  ||\n",
            "ATTTG--TGCT-C-CTGGA\n",
            "  Score=10\n",
            "\n",
            "ATGCATG-GTGC----GCGA\n",
            "||   |  ||||    | ||\n",
            "AT---T-TGTGCTCCTG-GA\n",
            "  Score=10\n",
            "\n",
            "ATGCATGGTGC----GCGA\n",
            "||   |.||||    | ||\n",
            "AT---TTGTGCTCCTG-GA\n",
            "  Score=10\n",
            "\n",
            "ATGCA-TGGTGC----GCGA\n",
            "||    | ||||    | ||\n",
            "AT---TT-GTGCTCCTG-GA\n",
            "  Score=10\n",
            "\n",
            "ATGCATGGTGC----GCGA\n",
            "||  .| ||||    | ||\n",
            "AT--TT-GTGCTCCTG-GA\n",
            "  Score=10\n",
            "\n",
            "ATGCATGGTGC----GCGA\n",
            "|| . | ||||    | ||\n",
            "AT-T-T-GTGCTCCTG-GA\n",
            "  Score=10\n",
            "\n",
            "ATGCATGGTGC----GCGA\n",
            "||.  | ||||    | ||\n",
            "ATT--T-GTGCTCCTG-GA\n",
            "  Score=10\n",
            "\n",
            "A-TGCATGGTGC----GCGA\n",
            "| |   | ||||    | ||\n",
            "ATT---T-GTGCTCCTG-GA\n",
            "  Score=10\n",
            "\n",
            "ATGCAT-GGTGC----GCGA\n",
            "||   | | |||    | ||\n",
            "AT---TTG-TGCTCCTG-GA\n",
            "  Score=10\n",
            "\n",
            "ATGCA-TGGTGC----GCGA\n",
            "||    || |||    | ||\n",
            "AT---TTG-TGCTCCTG-GA\n",
            "  Score=10\n",
            "\n",
            "ATGCATGGTGC----GCGA\n",
            "||  .|| |||    | ||\n",
            "AT--TTG-TGCTCCTG-GA\n",
            "  Score=10\n",
            "\n",
            "ATGCATGGTGC----GCGA\n",
            "|| . || |||    | ||\n",
            "AT-T-TG-TGCTCCTG-GA\n",
            "  Score=10\n",
            "\n",
            "ATGCATGGTGC----GCGA\n",
            "||.  || |||    | ||\n",
            "ATT--TG-TGCTCCTG-GA\n",
            "  Score=10\n",
            "\n",
            "A-TGCATGGTGC----GCGA\n",
            "| |   || |||    | ||\n",
            "ATT---TG-TGCTCCTG-GA\n",
            "  Score=10\n",
            "\n",
            "ATGCATG-GTG--C--GCGA\n",
            "||   |  |||  |  | ||\n",
            "AT---T-TGTGCTCCTG-GA\n",
            "  Score=10\n",
            "\n",
            "ATGCATGGTG--C--GCGA\n",
            "||   |.|||  |  | ||\n",
            "AT---TTGTGCTCCTG-GA\n",
            "  Score=10\n",
            "\n",
            "ATGCA-TGGTG--C--GCGA\n",
            "||    | |||  |  | ||\n",
            "AT---TT-GTGCTCCTG-GA\n",
            "  Score=10\n",
            "\n",
            "ATGCATGGTG--C--GCGA\n",
            "||  .| |||  |  | ||\n",
            "AT--TT-GTGCTCCTG-GA\n",
            "  Score=10\n",
            "\n",
            "ATGCATGGTG--C--GCGA\n",
            "|| . | |||  |  | ||\n",
            "AT-T-T-GTGCTCCTG-GA\n",
            "  Score=10\n",
            "\n",
            "ATGCATGGTG--C--GCGA\n",
            "||.  | |||  |  | ||\n",
            "ATT--T-GTGCTCCTG-GA\n",
            "  Score=10\n",
            "\n",
            "A-TGCATGGTG--C--GCGA\n",
            "| |   | |||  |  | ||\n",
            "ATT---T-GTGCTCCTG-GA\n",
            "  Score=10\n",
            "\n",
            "ATGCAT-GGTG--C--GCGA\n",
            "||   | | ||  |  | ||\n",
            "AT---TTG-TGCTCCTG-GA\n",
            "  Score=10\n",
            "\n",
            "ATGCA-TGGTG--C--GCGA\n",
            "||    || ||  |  | ||\n",
            "AT---TTG-TGCTCCTG-GA\n",
            "  Score=10\n",
            "\n",
            "ATGCATGGTG--C--GCGA\n",
            "||  .|| ||  |  | ||\n",
            "AT--TTG-TGCTCCTG-GA\n",
            "  Score=10\n",
            "\n",
            "ATGCATGGTG--C--GCGA\n",
            "|| . || ||  |  | ||\n",
            "AT-T-TG-TGCTCCTG-GA\n",
            "  Score=10\n",
            "\n",
            "ATGCATGGTG--C--GCGA\n",
            "||.  || ||  |  | ||\n",
            "ATT--TG-TGCTCCTG-GA\n",
            "  Score=10\n",
            "\n",
            "A-TGCATGGTG--C--GCGA\n",
            "| |   || ||  |  | ||\n",
            "ATT---TG-TGCTCCTG-GA\n",
            "  Score=10\n",
            "\n",
            "ATGCAT-G-G-TGC--GCGA\n",
            "||   | | | | |  | ||\n",
            "AT---TTGTGCT-CCTG-GA\n",
            "  Score=10\n",
            "\n",
            "ATGCA-TG-G-TGC--GCGA\n",
            "||    || | | |  | ||\n",
            "AT---TTGTGCT-CCTG-GA\n",
            "  Score=10\n",
            "\n",
            "ATGCATG-G-TGC--GCGA\n",
            "||  .|| | | |  | ||\n",
            "AT--TTGTGCT-CCTG-GA\n",
            "  Score=10\n",
            "\n",
            "ATGCATG-G-TGC--GCGA\n",
            "|| . || | | |  | ||\n",
            "AT-T-TGTGCT-CCTG-GA\n",
            "  Score=10\n",
            "\n",
            "ATGCATG-G-TGC--GCGA\n",
            "||.  || | | |  | ||\n",
            "ATT--TGTGCT-CCTG-GA\n",
            "  Score=10\n",
            "\n",
            "A-TGCATG-G-TGC--GCGA\n",
            "| |   || | | |  | ||\n",
            "ATT---TGTGCT-CCTG-GA\n",
            "  Score=10\n",
            "\n",
            "AT--GCATGG-TGC--GCGA\n",
            "||  |  | | | |  | ||\n",
            "ATTTG--T-GCT-CCTG-GA\n",
            "  Score=10\n",
            "\n",
            "A-T-GCATGG-TGC--GCGA\n",
            "| | |  | | | |  | ||\n",
            "ATTTG--T-GCT-CCTG-GA\n",
            "  Score=10\n",
            "\n",
            "A--TGCATGG-TGC--GCGA\n",
            "|  ||  | | | |  | ||\n",
            "ATTTG--T-GCT-CCTG-GA\n",
            "  Score=10\n",
            "\n",
            "AT--GCATGG-TGC--GCGA\n",
            "||  |  ||  | |  | ||\n",
            "ATTTG--TG-CT-CCTG-GA\n",
            "  Score=10\n",
            "\n",
            "A-T-GCATGG-TGC--GCGA\n",
            "| | |  ||  | |  | ||\n",
            "ATTTG--TG-CT-CCTG-GA\n",
            "  Score=10\n",
            "\n",
            "A--TGCATGG-TGC--GCGA\n",
            "|  ||  ||  | |  | ||\n",
            "ATTTG--TG-CT-CCTG-GA\n",
            "  Score=10\n",
            "\n",
            "AT--GCATGGTGC--GCGA\n",
            "||  |  ||.| |  | ||\n",
            "ATTTG--TGCT-CCTG-GA\n",
            "  Score=10\n",
            "\n",
            "A-T-GCATGGTGC--GCGA\n",
            "| | |  ||.| |  | ||\n",
            "ATTTG--TGCT-CCTG-GA\n",
            "  Score=10\n",
            "\n",
            "A--TGCATGGTGC--GCGA\n",
            "|  ||  ||.| |  | ||\n",
            "ATTTG--TGCT-CCTG-GA\n",
            "  Score=10\n",
            "\n"
          ]
        }
      ],
      "source": [
        "# View all possible alignment\n",
        "for a in alignments:\n",
        "  print(format_alignment(*a))"
      ]
    },
    {
      "cell_type": "code",
      "execution_count": null,
      "metadata": {
        "id": "DPK31YekZrra",
        "colab": {
          "base_uri": "https://localhost:8080/"
        },
        "outputId": "5446f1e7-de71-45a8-dcfd-165493fda3b8"
      },
      "outputs": [
        {
          "output_type": "execute_result",
          "data": {
            "text/plain": [
              "[Alignment(seqA='ATGCATG-GTGCG-C--G-A', seqB='AT---T-TGTGC-TCCTGGA', score=10.0, start=0, end=20),\n",
              " Alignment(seqA='ATGCATGGTGCG-C--G-A', seqB='AT---TTGTGC-TCCTGGA', score=10.0, start=0, end=19),\n",
              " Alignment(seqA='ATGCA-TGGTGCG-C--G-A', seqB='AT---TT-GTGC-TCCTGGA', score=10.0, start=0, end=20),\n",
              " Alignment(seqA='ATGCATGGTGCG-C--G-A', seqB='AT--TT-GTGC-TCCTGGA', score=10.0, start=0, end=19),\n",
              " Alignment(seqA='ATGCATGGTGCG-C--G-A', seqB='AT-T-T-GTGC-TCCTGGA', score=10.0, start=0, end=19),\n",
              " Alignment(seqA='ATGCATGGTGCG-C--G-A', seqB='ATT--T-GTGC-TCCTGGA', score=10.0, start=0, end=19),\n",
              " Alignment(seqA='A-TGCATGGTGCG-C--G-A', seqB='ATT---T-GTGC-TCCTGGA', score=10.0, start=0, end=20),\n",
              " Alignment(seqA='ATGCAT-GGTGCG-C--G-A', seqB='AT---TTG-TGC-TCCTGGA', score=10.0, start=0, end=20),\n",
              " Alignment(seqA='ATGCA-TGGTGCG-C--G-A', seqB='AT---TTG-TGC-TCCTGGA', score=10.0, start=0, end=20),\n",
              " Alignment(seqA='ATGCATGGTGCG-C--G-A', seqB='AT--TTG-TGC-TCCTGGA', score=10.0, start=0, end=19),\n",
              " Alignment(seqA='ATGCATGGTGCG-C--G-A', seqB='AT-T-TG-TGC-TCCTGGA', score=10.0, start=0, end=19),\n",
              " Alignment(seqA='ATGCATGGTGCG-C--G-A', seqB='ATT--TG-TGC-TCCTGGA', score=10.0, start=0, end=19),\n",
              " Alignment(seqA='A-TGCATGGTGCG-C--G-A', seqB='ATT---TG-TGC-TCCTGGA', score=10.0, start=0, end=20),\n",
              " Alignment(seqA='ATGCATG-GTGCGC--G-A', seqB='AT---T-TGTGCTCCTGGA', score=10.0, start=0, end=19),\n",
              " Alignment(seqA='ATGCATGGTGCGC--G-A', seqB='AT---TTGTGCTCCTGGA', score=10.0, start=0, end=18),\n",
              " Alignment(seqA='ATGCA-TGGTGCGC--G-A', seqB='AT---TT-GTGCTCCTGGA', score=10.0, start=0, end=19),\n",
              " Alignment(seqA='ATGCATGGTGCGC--G-A', seqB='AT--TT-GTGCTCCTGGA', score=10.0, start=0, end=18),\n",
              " Alignment(seqA='ATGCATGGTGCGC--G-A', seqB='AT-T-T-GTGCTCCTGGA', score=10.0, start=0, end=18),\n",
              " Alignment(seqA='ATGCATGGTGCGC--G-A', seqB='ATT--T-GTGCTCCTGGA', score=10.0, start=0, end=18),\n",
              " Alignment(seqA='A-TGCATGGTGCGC--G-A', seqB='ATT---T-GTGCTCCTGGA', score=10.0, start=0, end=19),\n",
              " Alignment(seqA='ATGCAT-GGTGCGC--G-A', seqB='AT---TTG-TGCTCCTGGA', score=10.0, start=0, end=19),\n",
              " Alignment(seqA='ATGCA-TGGTGCGC--G-A', seqB='AT---TTG-TGCTCCTGGA', score=10.0, start=0, end=19),\n",
              " Alignment(seqA='ATGCATGGTGCGC--G-A', seqB='AT--TTG-TGCTCCTGGA', score=10.0, start=0, end=18),\n",
              " Alignment(seqA='ATGCATGGTGCGC--G-A', seqB='AT-T-TG-TGCTCCTGGA', score=10.0, start=0, end=18),\n",
              " Alignment(seqA='ATGCATGGTGCGC--G-A', seqB='ATT--TG-TGCTCCTGGA', score=10.0, start=0, end=18),\n",
              " Alignment(seqA='A-TGCATGGTGCGC--G-A', seqB='ATT---TG-TGCTCCTGGA', score=10.0, start=0, end=19),\n",
              " Alignment(seqA='ATGCATG-GTGCG--C-G-A', seqB='AT---T-TGTGC-TCCTGGA', score=10.0, start=0, end=20),\n",
              " Alignment(seqA='ATGCATGGTGCG--C-G-A', seqB='AT---TTGTGC-TCCTGGA', score=10.0, start=0, end=19),\n",
              " Alignment(seqA='ATGCA-TGGTGCG--C-G-A', seqB='AT---TT-GTGC-TCCTGGA', score=10.0, start=0, end=20),\n",
              " Alignment(seqA='ATGCATGGTGCG--C-G-A', seqB='AT--TT-GTGC-TCCTGGA', score=10.0, start=0, end=19),\n",
              " Alignment(seqA='ATGCATGGTGCG--C-G-A', seqB='AT-T-T-GTGC-TCCTGGA', score=10.0, start=0, end=19),\n",
              " Alignment(seqA='ATGCATGGTGCG--C-G-A', seqB='ATT--T-GTGC-TCCTGGA', score=10.0, start=0, end=19),\n",
              " Alignment(seqA='A-TGCATGGTGCG--C-G-A', seqB='ATT---T-GTGC-TCCTGGA', score=10.0, start=0, end=20),\n",
              " Alignment(seqA='ATGCAT-GGTGCG--C-G-A', seqB='AT---TTG-TGC-TCCTGGA', score=10.0, start=0, end=20),\n",
              " Alignment(seqA='ATGCA-TGGTGCG--C-G-A', seqB='AT---TTG-TGC-TCCTGGA', score=10.0, start=0, end=20),\n",
              " Alignment(seqA='ATGCATGGTGCG--C-G-A', seqB='AT--TTG-TGC-TCCTGGA', score=10.0, start=0, end=19),\n",
              " Alignment(seqA='ATGCATGGTGCG--C-G-A', seqB='AT-T-TG-TGC-TCCTGGA', score=10.0, start=0, end=19),\n",
              " Alignment(seqA='ATGCATGGTGCG--C-G-A', seqB='ATT--TG-TGC-TCCTGGA', score=10.0, start=0, end=19),\n",
              " Alignment(seqA='A-TGCATGGTGCG--C-G-A', seqB='ATT---TG-TGC-TCCTGGA', score=10.0, start=0, end=20),\n",
              " Alignment(seqA='ATGCATG-GTGCG-C-G-A', seqB='AT---T-TGTGCTCCTGGA', score=10.0, start=0, end=19),\n",
              " Alignment(seqA='ATGCATGGTGCG-C-G-A', seqB='AT---TTGTGCTCCTGGA', score=10.0, start=0, end=18),\n",
              " Alignment(seqA='ATGCA-TGGTGCG-C-G-A', seqB='AT---TT-GTGCTCCTGGA', score=10.0, start=0, end=19),\n",
              " Alignment(seqA='ATGCATGGTGCG-C-G-A', seqB='AT--TT-GTGCTCCTGGA', score=10.0, start=0, end=18),\n",
              " Alignment(seqA='ATGCATGGTGCG-C-G-A', seqB='AT-T-T-GTGCTCCTGGA', score=10.0, start=0, end=18),\n",
              " Alignment(seqA='ATGCATGGTGCG-C-G-A', seqB='ATT--T-GTGCTCCTGGA', score=10.0, start=0, end=18),\n",
              " Alignment(seqA='A-TGCATGGTGCG-C-G-A', seqB='ATT---T-GTGCTCCTGGA', score=10.0, start=0, end=19),\n",
              " Alignment(seqA='ATGCAT-GGTGCG-C-G-A', seqB='AT---TTG-TGCTCCTGGA', score=10.0, start=0, end=19),\n",
              " Alignment(seqA='ATGCA-TGGTGCG-C-G-A', seqB='AT---TTG-TGCTCCTGGA', score=10.0, start=0, end=19),\n",
              " Alignment(seqA='ATGCATGGTGCG-C-G-A', seqB='AT--TTG-TGCTCCTGGA', score=10.0, start=0, end=18),\n",
              " Alignment(seqA='ATGCATGGTGCG-C-G-A', seqB='AT-T-TG-TGCTCCTGGA', score=10.0, start=0, end=18),\n",
              " Alignment(seqA='ATGCATGGTGCG-C-G-A', seqB='ATT--TG-TGCTCCTGGA', score=10.0, start=0, end=18),\n",
              " Alignment(seqA='A-TGCATGGTGCG-C-G-A', seqB='ATT---TG-TGCTCCTGGA', score=10.0, start=0, end=19),\n",
              " Alignment(seqA='ATGCATG-GTGC-GC-G-A', seqB='AT---T-TGTGCTCCTGGA', score=10.0, start=0, end=19),\n",
              " Alignment(seqA='ATGCATGGTGC-GC-G-A', seqB='AT---TTGTGCTCCTGGA', score=10.0, start=0, end=18),\n",
              " Alignment(seqA='ATGCA-TGGTGC-GC-G-A', seqB='AT---TT-GTGCTCCTGGA', score=10.0, start=0, end=19),\n",
              " Alignment(seqA='ATGCATGGTGC-GC-G-A', seqB='AT--TT-GTGCTCCTGGA', score=10.0, start=0, end=18),\n",
              " Alignment(seqA='ATGCATGGTGC-GC-G-A', seqB='AT-T-T-GTGCTCCTGGA', score=10.0, start=0, end=18),\n",
              " Alignment(seqA='ATGCATGGTGC-GC-G-A', seqB='ATT--T-GTGCTCCTGGA', score=10.0, start=0, end=18),\n",
              " Alignment(seqA='A-TGCATGGTGC-GC-G-A', seqB='ATT---T-GTGCTCCTGGA', score=10.0, start=0, end=19),\n",
              " Alignment(seqA='ATGCAT-GGTGC-GC-G-A', seqB='AT---TTG-TGCTCCTGGA', score=10.0, start=0, end=19),\n",
              " Alignment(seqA='ATGCA-TGGTGC-GC-G-A', seqB='AT---TTG-TGCTCCTGGA', score=10.0, start=0, end=19),\n",
              " Alignment(seqA='ATGCATGGTGC-GC-G-A', seqB='AT--TTG-TGCTCCTGGA', score=10.0, start=0, end=18),\n",
              " Alignment(seqA='ATGCATGGTGC-GC-G-A', seqB='AT-T-TG-TGCTCCTGGA', score=10.0, start=0, end=18),\n",
              " Alignment(seqA='ATGCATGGTGC-GC-G-A', seqB='ATT--TG-TGCTCCTGGA', score=10.0, start=0, end=18),\n",
              " Alignment(seqA='A-TGCATGGTGC-GC-G-A', seqB='ATT---TG-TGCTCCTGGA', score=10.0, start=0, end=19),\n",
              " Alignment(seqA='ATGCATG-GTG--CGC-G-A', seqB='AT---T-TGTGCTC-CTGGA', score=10.0, start=0, end=20),\n",
              " Alignment(seqA='ATGCATGGTG--CGC-G-A', seqB='AT---TTGTGCTC-CTGGA', score=10.0, start=0, end=19),\n",
              " Alignment(seqA='ATGCA-TGGTG--CGC-G-A', seqB='AT---TT-GTGCTC-CTGGA', score=10.0, start=0, end=20),\n",
              " Alignment(seqA='ATGCATGGTG--CGC-G-A', seqB='AT--TT-GTGCTC-CTGGA', score=10.0, start=0, end=19),\n",
              " Alignment(seqA='ATGCATGGTG--CGC-G-A', seqB='AT-T-T-GTGCTC-CTGGA', score=10.0, start=0, end=19),\n",
              " Alignment(seqA='ATGCATGGTG--CGC-G-A', seqB='ATT--T-GTGCTC-CTGGA', score=10.0, start=0, end=19),\n",
              " Alignment(seqA='A-TGCATGGTG--CGC-G-A', seqB='ATT---T-GTGCTC-CTGGA', score=10.0, start=0, end=20),\n",
              " Alignment(seqA='ATGCAT-GGTG--CGC-G-A', seqB='AT---TTG-TGCTC-CTGGA', score=10.0, start=0, end=20),\n",
              " Alignment(seqA='ATGCA-TGGTG--CGC-G-A', seqB='AT---TTG-TGCTC-CTGGA', score=10.0, start=0, end=20),\n",
              " Alignment(seqA='ATGCATGGTG--CGC-G-A', seqB='AT--TTG-TGCTC-CTGGA', score=10.0, start=0, end=19),\n",
              " Alignment(seqA='ATGCATGGTG--CGC-G-A', seqB='AT-T-TG-TGCTC-CTGGA', score=10.0, start=0, end=19),\n",
              " Alignment(seqA='ATGCATGGTG--CGC-G-A', seqB='ATT--TG-TGCTC-CTGGA', score=10.0, start=0, end=19),\n",
              " Alignment(seqA='A-TGCATGGTG--CGC-G-A', seqB='ATT---TG-TGCTC-CTGGA', score=10.0, start=0, end=20),\n",
              " Alignment(seqA='ATGCAT-G-G-TGCGC-G-A', seqB='AT---TTGTGCT-C-CTGGA', score=10.0, start=0, end=20),\n",
              " Alignment(seqA='ATGCA-TG-G-TGCGC-G-A', seqB='AT---TTGTGCT-C-CTGGA', score=10.0, start=0, end=20),\n",
              " Alignment(seqA='ATGCATG-G-TGCGC-G-A', seqB='AT--TTGTGCT-C-CTGGA', score=10.0, start=0, end=19),\n",
              " Alignment(seqA='ATGCATG-G-TGCGC-G-A', seqB='AT-T-TGTGCT-C-CTGGA', score=10.0, start=0, end=19),\n",
              " Alignment(seqA='ATGCATG-G-TGCGC-G-A', seqB='ATT--TGTGCT-C-CTGGA', score=10.0, start=0, end=19),\n",
              " Alignment(seqA='A-TGCATG-G-TGCGC-G-A', seqB='ATT---TGTGCT-C-CTGGA', score=10.0, start=0, end=20),\n",
              " Alignment(seqA='AT--GCATGG-TGCGC-G-A', seqB='ATTTG--T-GCT-C-CTGGA', score=10.0, start=0, end=20),\n",
              " Alignment(seqA='A-T-GCATGG-TGCGC-G-A', seqB='ATTTG--T-GCT-C-CTGGA', score=10.0, start=0, end=20),\n",
              " Alignment(seqA='A--TGCATGG-TGCGC-G-A', seqB='ATTTG--T-GCT-C-CTGGA', score=10.0, start=0, end=20),\n",
              " Alignment(seqA='AT--GCATGG-TGCGC-G-A', seqB='ATTTG--TG-CT-C-CTGGA', score=10.0, start=0, end=20),\n",
              " Alignment(seqA='A-T-GCATGG-TGCGC-G-A', seqB='ATTTG--TG-CT-C-CTGGA', score=10.0, start=0, end=20),\n",
              " Alignment(seqA='A--TGCATGG-TGCGC-G-A', seqB='ATTTG--TG-CT-C-CTGGA', score=10.0, start=0, end=20),\n",
              " Alignment(seqA='AT--GCATGGTGCGC-G-A', seqB='ATTTG--TGCT-C-CTGGA', score=10.0, start=0, end=19),\n",
              " Alignment(seqA='A-T-GCATGGTGCGC-G-A', seqB='ATTTG--TGCT-C-CTGGA', score=10.0, start=0, end=19),\n",
              " Alignment(seqA='A--TGCATGGTGCGC-G-A', seqB='ATTTG--TGCT-C-CTGGA', score=10.0, start=0, end=19),\n",
              " Alignment(seqA='ATGCATG-GTGCG-C---GA', seqB='AT---T-TGTGC-TCCTGGA', score=10.0, start=0, end=20),\n",
              " Alignment(seqA='ATGCATGGTGCG-C---GA', seqB='AT---TTGTGC-TCCTGGA', score=10.0, start=0, end=19),\n",
              " Alignment(seqA='ATGCA-TGGTGCG-C---GA', seqB='AT---TT-GTGC-TCCTGGA', score=10.0, start=0, end=20),\n",
              " Alignment(seqA='ATGCATGGTGCG-C---GA', seqB='AT--TT-GTGC-TCCTGGA', score=10.0, start=0, end=19),\n",
              " Alignment(seqA='ATGCATGGTGCG-C---GA', seqB='AT-T-T-GTGC-TCCTGGA', score=10.0, start=0, end=19),\n",
              " Alignment(seqA='ATGCATGGTGCG-C---GA', seqB='ATT--T-GTGC-TCCTGGA', score=10.0, start=0, end=19),\n",
              " Alignment(seqA='A-TGCATGGTGCG-C---GA', seqB='ATT---T-GTGC-TCCTGGA', score=10.0, start=0, end=20),\n",
              " Alignment(seqA='ATGCAT-GGTGCG-C---GA', seqB='AT---TTG-TGC-TCCTGGA', score=10.0, start=0, end=20),\n",
              " Alignment(seqA='ATGCA-TGGTGCG-C---GA', seqB='AT---TTG-TGC-TCCTGGA', score=10.0, start=0, end=20),\n",
              " Alignment(seqA='ATGCATGGTGCG-C---GA', seqB='AT--TTG-TGC-TCCTGGA', score=10.0, start=0, end=19),\n",
              " Alignment(seqA='ATGCATGGTGCG-C---GA', seqB='AT-T-TG-TGC-TCCTGGA', score=10.0, start=0, end=19),\n",
              " Alignment(seqA='ATGCATGGTGCG-C---GA', seqB='ATT--TG-TGC-TCCTGGA', score=10.0, start=0, end=19),\n",
              " Alignment(seqA='A-TGCATGGTGCG-C---GA', seqB='ATT---TG-TGC-TCCTGGA', score=10.0, start=0, end=20),\n",
              " Alignment(seqA='ATGCATG-GTGCGC---GA', seqB='AT---T-TGTGCTCCTGGA', score=10.0, start=0, end=19),\n",
              " Alignment(seqA='ATGCATGGTGCGC---GA', seqB='AT---TTGTGCTCCTGGA', score=10.0, start=0, end=18),\n",
              " Alignment(seqA='ATGCA-TGGTGCGC---GA', seqB='AT---TT-GTGCTCCTGGA', score=10.0, start=0, end=19),\n",
              " Alignment(seqA='ATGCATGGTGCGC---GA', seqB='AT--TT-GTGCTCCTGGA', score=10.0, start=0, end=18),\n",
              " Alignment(seqA='ATGCATGGTGCGC---GA', seqB='AT-T-T-GTGCTCCTGGA', score=10.0, start=0, end=18),\n",
              " Alignment(seqA='ATGCATGGTGCGC---GA', seqB='ATT--T-GTGCTCCTGGA', score=10.0, start=0, end=18),\n",
              " Alignment(seqA='A-TGCATGGTGCGC---GA', seqB='ATT---T-GTGCTCCTGGA', score=10.0, start=0, end=19),\n",
              " Alignment(seqA='ATGCAT-GGTGCGC---GA', seqB='AT---TTG-TGCTCCTGGA', score=10.0, start=0, end=19),\n",
              " Alignment(seqA='ATGCA-TGGTGCGC---GA', seqB='AT---TTG-TGCTCCTGGA', score=10.0, start=0, end=19),\n",
              " Alignment(seqA='ATGCATGGTGCGC---GA', seqB='AT--TTG-TGCTCCTGGA', score=10.0, start=0, end=18),\n",
              " Alignment(seqA='ATGCATGGTGCGC---GA', seqB='AT-T-TG-TGCTCCTGGA', score=10.0, start=0, end=18),\n",
              " Alignment(seqA='ATGCATGGTGCGC---GA', seqB='ATT--TG-TGCTCCTGGA', score=10.0, start=0, end=18),\n",
              " Alignment(seqA='A-TGCATGGTGCGC---GA', seqB='ATT---TG-TGCTCCTGGA', score=10.0, start=0, end=19),\n",
              " Alignment(seqA='ATGCATG-GTGCG--C--GA', seqB='AT---T-TGTGC-TCCTGGA', score=10.0, start=0, end=20),\n",
              " Alignment(seqA='ATGCATGGTGCG--C--GA', seqB='AT---TTGTGC-TCCTGGA', score=10.0, start=0, end=19),\n",
              " Alignment(seqA='ATGCA-TGGTGCG--C--GA', seqB='AT---TT-GTGC-TCCTGGA', score=10.0, start=0, end=20),\n",
              " Alignment(seqA='ATGCATGGTGCG--C--GA', seqB='AT--TT-GTGC-TCCTGGA', score=10.0, start=0, end=19),\n",
              " Alignment(seqA='ATGCATGGTGCG--C--GA', seqB='AT-T-T-GTGC-TCCTGGA', score=10.0, start=0, end=19),\n",
              " Alignment(seqA='ATGCATGGTGCG--C--GA', seqB='ATT--T-GTGC-TCCTGGA', score=10.0, start=0, end=19),\n",
              " Alignment(seqA='A-TGCATGGTGCG--C--GA', seqB='ATT---T-GTGC-TCCTGGA', score=10.0, start=0, end=20),\n",
              " Alignment(seqA='ATGCAT-GGTGCG--C--GA', seqB='AT---TTG-TGC-TCCTGGA', score=10.0, start=0, end=20),\n",
              " Alignment(seqA='ATGCA-TGGTGCG--C--GA', seqB='AT---TTG-TGC-TCCTGGA', score=10.0, start=0, end=20),\n",
              " Alignment(seqA='ATGCATGGTGCG--C--GA', seqB='AT--TTG-TGC-TCCTGGA', score=10.0, start=0, end=19),\n",
              " Alignment(seqA='ATGCATGGTGCG--C--GA', seqB='AT-T-TG-TGC-TCCTGGA', score=10.0, start=0, end=19),\n",
              " Alignment(seqA='ATGCATGGTGCG--C--GA', seqB='ATT--TG-TGC-TCCTGGA', score=10.0, start=0, end=19),\n",
              " Alignment(seqA='A-TGCATGGTGCG--C--GA', seqB='ATT---TG-TGC-TCCTGGA', score=10.0, start=0, end=20),\n",
              " Alignment(seqA='ATGCATG-GTGCG-C--GA', seqB='AT---T-TGTGCTCCTGGA', score=10.0, start=0, end=19),\n",
              " Alignment(seqA='ATGCATGGTGCG-C--GA', seqB='AT---TTGTGCTCCTGGA', score=10.0, start=0, end=18),\n",
              " Alignment(seqA='ATGCA-TGGTGCG-C--GA', seqB='AT---TT-GTGCTCCTGGA', score=10.0, start=0, end=19),\n",
              " Alignment(seqA='ATGCATGGTGCG-C--GA', seqB='AT--TT-GTGCTCCTGGA', score=10.0, start=0, end=18),\n",
              " Alignment(seqA='ATGCATGGTGCG-C--GA', seqB='AT-T-T-GTGCTCCTGGA', score=10.0, start=0, end=18),\n",
              " Alignment(seqA='ATGCATGGTGCG-C--GA', seqB='ATT--T-GTGCTCCTGGA', score=10.0, start=0, end=18),\n",
              " Alignment(seqA='A-TGCATGGTGCG-C--GA', seqB='ATT---T-GTGCTCCTGGA', score=10.0, start=0, end=19),\n",
              " Alignment(seqA='ATGCAT-GGTGCG-C--GA', seqB='AT---TTG-TGCTCCTGGA', score=10.0, start=0, end=19),\n",
              " Alignment(seqA='ATGCA-TGGTGCG-C--GA', seqB='AT---TTG-TGCTCCTGGA', score=10.0, start=0, end=19),\n",
              " Alignment(seqA='ATGCATGGTGCG-C--GA', seqB='AT--TTG-TGCTCCTGGA', score=10.0, start=0, end=18),\n",
              " Alignment(seqA='ATGCATGGTGCG-C--GA', seqB='AT-T-TG-TGCTCCTGGA', score=10.0, start=0, end=18),\n",
              " Alignment(seqA='ATGCATGGTGCG-C--GA', seqB='ATT--TG-TGCTCCTGGA', score=10.0, start=0, end=18),\n",
              " Alignment(seqA='A-TGCATGGTGCG-C--GA', seqB='ATT---TG-TGCTCCTGGA', score=10.0, start=0, end=19),\n",
              " Alignment(seqA='ATGCATG-GTGC-GC--GA', seqB='AT---T-TGTGCTCCTGGA', score=10.0, start=0, end=19),\n",
              " Alignment(seqA='ATGCATGGTGC-GC--GA', seqB='AT---TTGTGCTCCTGGA', score=10.0, start=0, end=18),\n",
              " Alignment(seqA='ATGCA-TGGTGC-GC--GA', seqB='AT---TT-GTGCTCCTGGA', score=10.0, start=0, end=19),\n",
              " Alignment(seqA='ATGCATGGTGC-GC--GA', seqB='AT--TT-GTGCTCCTGGA', score=10.0, start=0, end=18),\n",
              " Alignment(seqA='ATGCATGGTGC-GC--GA', seqB='AT-T-T-GTGCTCCTGGA', score=10.0, start=0, end=18),\n",
              " Alignment(seqA='ATGCATGGTGC-GC--GA', seqB='ATT--T-GTGCTCCTGGA', score=10.0, start=0, end=18),\n",
              " Alignment(seqA='A-TGCATGGTGC-GC--GA', seqB='ATT---T-GTGCTCCTGGA', score=10.0, start=0, end=19),\n",
              " Alignment(seqA='ATGCAT-GGTGC-GC--GA', seqB='AT---TTG-TGCTCCTGGA', score=10.0, start=0, end=19),\n",
              " Alignment(seqA='ATGCA-TGGTGC-GC--GA', seqB='AT---TTG-TGCTCCTGGA', score=10.0, start=0, end=19),\n",
              " Alignment(seqA='ATGCATGGTGC-GC--GA', seqB='AT--TTG-TGCTCCTGGA', score=10.0, start=0, end=18),\n",
              " Alignment(seqA='ATGCATGGTGC-GC--GA', seqB='AT-T-TG-TGCTCCTGGA', score=10.0, start=0, end=18),\n",
              " Alignment(seqA='ATGCATGGTGC-GC--GA', seqB='ATT--TG-TGCTCCTGGA', score=10.0, start=0, end=18),\n",
              " Alignment(seqA='A-TGCATGGTGC-GC--GA', seqB='ATT---TG-TGCTCCTGGA', score=10.0, start=0, end=19),\n",
              " Alignment(seqA='ATGCATG-GTG--CGC--GA', seqB='AT---T-TGTGCTC-CTGGA', score=10.0, start=0, end=20),\n",
              " Alignment(seqA='ATGCATGGTG--CGC--GA', seqB='AT---TTGTGCTC-CTGGA', score=10.0, start=0, end=19),\n",
              " Alignment(seqA='ATGCA-TGGTG--CGC--GA', seqB='AT---TT-GTGCTC-CTGGA', score=10.0, start=0, end=20),\n",
              " Alignment(seqA='ATGCATGGTG--CGC--GA', seqB='AT--TT-GTGCTC-CTGGA', score=10.0, start=0, end=19),\n",
              " Alignment(seqA='ATGCATGGTG--CGC--GA', seqB='AT-T-T-GTGCTC-CTGGA', score=10.0, start=0, end=19),\n",
              " Alignment(seqA='ATGCATGGTG--CGC--GA', seqB='ATT--T-GTGCTC-CTGGA', score=10.0, start=0, end=19),\n",
              " Alignment(seqA='A-TGCATGGTG--CGC--GA', seqB='ATT---T-GTGCTC-CTGGA', score=10.0, start=0, end=20),\n",
              " Alignment(seqA='ATGCAT-GGTG--CGC--GA', seqB='AT---TTG-TGCTC-CTGGA', score=10.0, start=0, end=20),\n",
              " Alignment(seqA='ATGCA-TGGTG--CGC--GA', seqB='AT---TTG-TGCTC-CTGGA', score=10.0, start=0, end=20),\n",
              " Alignment(seqA='ATGCATGGTG--CGC--GA', seqB='AT--TTG-TGCTC-CTGGA', score=10.0, start=0, end=19),\n",
              " Alignment(seqA='ATGCATGGTG--CGC--GA', seqB='AT-T-TG-TGCTC-CTGGA', score=10.0, start=0, end=19),\n",
              " Alignment(seqA='ATGCATGGTG--CGC--GA', seqB='ATT--TG-TGCTC-CTGGA', score=10.0, start=0, end=19),\n",
              " Alignment(seqA='A-TGCATGGTG--CGC--GA', seqB='ATT---TG-TGCTC-CTGGA', score=10.0, start=0, end=20),\n",
              " Alignment(seqA='ATGCAT-G-G-TGCGC--GA', seqB='AT---TTGTGCT-C-CTGGA', score=10.0, start=0, end=20),\n",
              " Alignment(seqA='ATGCA-TG-G-TGCGC--GA', seqB='AT---TTGTGCT-C-CTGGA', score=10.0, start=0, end=20),\n",
              " Alignment(seqA='ATGCATG-G-TGCGC--GA', seqB='AT--TTGTGCT-C-CTGGA', score=10.0, start=0, end=19),\n",
              " Alignment(seqA='ATGCATG-G-TGCGC--GA', seqB='AT-T-TGTGCT-C-CTGGA', score=10.0, start=0, end=19),\n",
              " Alignment(seqA='ATGCATG-G-TGCGC--GA', seqB='ATT--TGTGCT-C-CTGGA', score=10.0, start=0, end=19),\n",
              " Alignment(seqA='A-TGCATG-G-TGCGC--GA', seqB='ATT---TGTGCT-C-CTGGA', score=10.0, start=0, end=20),\n",
              " Alignment(seqA='AT--GCATGG-TGCGC--GA', seqB='ATTTG--T-GCT-C-CTGGA', score=10.0, start=0, end=20),\n",
              " Alignment(seqA='A-T-GCATGG-TGCGC--GA', seqB='ATTTG--T-GCT-C-CTGGA', score=10.0, start=0, end=20),\n",
              " Alignment(seqA='A--TGCATGG-TGCGC--GA', seqB='ATTTG--T-GCT-C-CTGGA', score=10.0, start=0, end=20),\n",
              " Alignment(seqA='AT--GCATGG-TGCGC--GA', seqB='ATTTG--TG-CT-C-CTGGA', score=10.0, start=0, end=20),\n",
              " Alignment(seqA='A-T-GCATGG-TGCGC--GA', seqB='ATTTG--TG-CT-C-CTGGA', score=10.0, start=0, end=20),\n",
              " Alignment(seqA='A--TGCATGG-TGCGC--GA', seqB='ATTTG--TG-CT-C-CTGGA', score=10.0, start=0, end=20),\n",
              " Alignment(seqA='AT--GCATGGTGCGC--GA', seqB='ATTTG--TGCT-C-CTGGA', score=10.0, start=0, end=19),\n",
              " Alignment(seqA='A-T-GCATGGTGCGC--GA', seqB='ATTTG--TGCT-C-CTGGA', score=10.0, start=0, end=19),\n",
              " Alignment(seqA='A--TGCATGGTGCGC--GA', seqB='ATTTG--TGCT-C-CTGGA', score=10.0, start=0, end=19),\n",
              " Alignment(seqA='ATGCATG-GTGC----GCGA', seqB='AT---T-TGTGCTCCTG-GA', score=10.0, start=0, end=20),\n",
              " Alignment(seqA='ATGCATGGTGC----GCGA', seqB='AT---TTGTGCTCCTG-GA', score=10.0, start=0, end=19),\n",
              " Alignment(seqA='ATGCA-TGGTGC----GCGA', seqB='AT---TT-GTGCTCCTG-GA', score=10.0, start=0, end=20),\n",
              " Alignment(seqA='ATGCATGGTGC----GCGA', seqB='AT--TT-GTGCTCCTG-GA', score=10.0, start=0, end=19),\n",
              " Alignment(seqA='ATGCATGGTGC----GCGA', seqB='AT-T-T-GTGCTCCTG-GA', score=10.0, start=0, end=19),\n",
              " Alignment(seqA='ATGCATGGTGC----GCGA', seqB='ATT--T-GTGCTCCTG-GA', score=10.0, start=0, end=19),\n",
              " Alignment(seqA='A-TGCATGGTGC----GCGA', seqB='ATT---T-GTGCTCCTG-GA', score=10.0, start=0, end=20),\n",
              " Alignment(seqA='ATGCAT-GGTGC----GCGA', seqB='AT---TTG-TGCTCCTG-GA', score=10.0, start=0, end=20),\n",
              " Alignment(seqA='ATGCA-TGGTGC----GCGA', seqB='AT---TTG-TGCTCCTG-GA', score=10.0, start=0, end=20),\n",
              " Alignment(seqA='ATGCATGGTGC----GCGA', seqB='AT--TTG-TGCTCCTG-GA', score=10.0, start=0, end=19),\n",
              " Alignment(seqA='ATGCATGGTGC----GCGA', seqB='AT-T-TG-TGCTCCTG-GA', score=10.0, start=0, end=19),\n",
              " Alignment(seqA='ATGCATGGTGC----GCGA', seqB='ATT--TG-TGCTCCTG-GA', score=10.0, start=0, end=19),\n",
              " Alignment(seqA='A-TGCATGGTGC----GCGA', seqB='ATT---TG-TGCTCCTG-GA', score=10.0, start=0, end=20),\n",
              " Alignment(seqA='ATGCATG-GTG--C--GCGA', seqB='AT---T-TGTGCTCCTG-GA', score=10.0, start=0, end=20),\n",
              " Alignment(seqA='ATGCATGGTG--C--GCGA', seqB='AT---TTGTGCTCCTG-GA', score=10.0, start=0, end=19),\n",
              " Alignment(seqA='ATGCA-TGGTG--C--GCGA', seqB='AT---TT-GTGCTCCTG-GA', score=10.0, start=0, end=20),\n",
              " Alignment(seqA='ATGCATGGTG--C--GCGA', seqB='AT--TT-GTGCTCCTG-GA', score=10.0, start=0, end=19),\n",
              " Alignment(seqA='ATGCATGGTG--C--GCGA', seqB='AT-T-T-GTGCTCCTG-GA', score=10.0, start=0, end=19),\n",
              " Alignment(seqA='ATGCATGGTG--C--GCGA', seqB='ATT--T-GTGCTCCTG-GA', score=10.0, start=0, end=19),\n",
              " Alignment(seqA='A-TGCATGGTG--C--GCGA', seqB='ATT---T-GTGCTCCTG-GA', score=10.0, start=0, end=20),\n",
              " Alignment(seqA='ATGCAT-GGTG--C--GCGA', seqB='AT---TTG-TGCTCCTG-GA', score=10.0, start=0, end=20),\n",
              " Alignment(seqA='ATGCA-TGGTG--C--GCGA', seqB='AT---TTG-TGCTCCTG-GA', score=10.0, start=0, end=20),\n",
              " Alignment(seqA='ATGCATGGTG--C--GCGA', seqB='AT--TTG-TGCTCCTG-GA', score=10.0, start=0, end=19),\n",
              " Alignment(seqA='ATGCATGGTG--C--GCGA', seqB='AT-T-TG-TGCTCCTG-GA', score=10.0, start=0, end=19),\n",
              " Alignment(seqA='ATGCATGGTG--C--GCGA', seqB='ATT--TG-TGCTCCTG-GA', score=10.0, start=0, end=19),\n",
              " Alignment(seqA='A-TGCATGGTG--C--GCGA', seqB='ATT---TG-TGCTCCTG-GA', score=10.0, start=0, end=20),\n",
              " Alignment(seqA='ATGCAT-G-G-TGC--GCGA', seqB='AT---TTGTGCT-CCTG-GA', score=10.0, start=0, end=20),\n",
              " Alignment(seqA='ATGCA-TG-G-TGC--GCGA', seqB='AT---TTGTGCT-CCTG-GA', score=10.0, start=0, end=20),\n",
              " Alignment(seqA='ATGCATG-G-TGC--GCGA', seqB='AT--TTGTGCT-CCTG-GA', score=10.0, start=0, end=19),\n",
              " Alignment(seqA='ATGCATG-G-TGC--GCGA', seqB='AT-T-TGTGCT-CCTG-GA', score=10.0, start=0, end=19),\n",
              " Alignment(seqA='ATGCATG-G-TGC--GCGA', seqB='ATT--TGTGCT-CCTG-GA', score=10.0, start=0, end=19),\n",
              " Alignment(seqA='A-TGCATG-G-TGC--GCGA', seqB='ATT---TGTGCT-CCTG-GA', score=10.0, start=0, end=20),\n",
              " Alignment(seqA='AT--GCATGG-TGC--GCGA', seqB='ATTTG--T-GCT-CCTG-GA', score=10.0, start=0, end=20),\n",
              " Alignment(seqA='A-T-GCATGG-TGC--GCGA', seqB='ATTTG--T-GCT-CCTG-GA', score=10.0, start=0, end=20),\n",
              " Alignment(seqA='A--TGCATGG-TGC--GCGA', seqB='ATTTG--T-GCT-CCTG-GA', score=10.0, start=0, end=20),\n",
              " Alignment(seqA='AT--GCATGG-TGC--GCGA', seqB='ATTTG--TG-CT-CCTG-GA', score=10.0, start=0, end=20),\n",
              " Alignment(seqA='A-T-GCATGG-TGC--GCGA', seqB='ATTTG--TG-CT-CCTG-GA', score=10.0, start=0, end=20),\n",
              " Alignment(seqA='A--TGCATGG-TGC--GCGA', seqB='ATTTG--TG-CT-CCTG-GA', score=10.0, start=0, end=20),\n",
              " Alignment(seqA='AT--GCATGGTGC--GCGA', seqB='ATTTG--TGCT-CCTG-GA', score=10.0, start=0, end=19),\n",
              " Alignment(seqA='A-T-GCATGGTGC--GCGA', seqB='ATTTG--TGCT-CCTG-GA', score=10.0, start=0, end=19),\n",
              " Alignment(seqA='A--TGCATGGTGC--GCGA', seqB='ATTTG--TGCT-CCTG-GA', score=10.0, start=0, end=19)]"
            ]
          },
          "metadata": {},
          "execution_count": 20
        }
      ],
      "source": [
        "# Perform Local Alignment\n",
        "loc_alignments = pairwise2.align.localxx(seq1,seq2)\n",
        "loc_alignments"
      ]
    },
    {
      "cell_type": "code",
      "execution_count": null,
      "metadata": {
        "id": "GxV_shdIZrra",
        "colab": {
          "base_uri": "https://localhost:8080/"
        },
        "outputId": "65b045a3-ca75-4fbd-aee0-4afbf627bfea"
      },
      "outputs": [
        {
          "output_type": "stream",
          "name": "stdout",
          "text": [
            "ATGCATG-GTGCG-C--G-A\n",
            "||   |  ||||  |  | |\n",
            "AT---T-TGTGC-TCCTGGA\n",
            "  Score=10\n",
            "\n",
            "ATGCATGGTGCG-C--G-A\n",
            "||   |.||||  |  | |\n",
            "AT---TTGTGC-TCCTGGA\n",
            "  Score=10\n",
            "\n",
            "ATGCA-TGGTGCG-C--G-A\n",
            "||    | ||||  |  | |\n",
            "AT---TT-GTGC-TCCTGGA\n",
            "  Score=10\n",
            "\n",
            "ATGCATGGTGCG-C--G-A\n",
            "||  .| ||||  |  | |\n",
            "AT--TT-GTGC-TCCTGGA\n",
            "  Score=10\n",
            "\n",
            "ATGCATGGTGCG-C--G-A\n",
            "|| . | ||||  |  | |\n",
            "AT-T-T-GTGC-TCCTGGA\n",
            "  Score=10\n",
            "\n",
            "ATGCATGGTGCG-C--G-A\n",
            "||.  | ||||  |  | |\n",
            "ATT--T-GTGC-TCCTGGA\n",
            "  Score=10\n",
            "\n",
            "A-TGCATGGTGCG-C--G-A\n",
            "| |   | ||||  |  | |\n",
            "ATT---T-GTGC-TCCTGGA\n",
            "  Score=10\n",
            "\n",
            "ATGCAT-GGTGCG-C--G-A\n",
            "||   | | |||  |  | |\n",
            "AT---TTG-TGC-TCCTGGA\n",
            "  Score=10\n",
            "\n",
            "ATGCA-TGGTGCG-C--G-A\n",
            "||    || |||  |  | |\n",
            "AT---TTG-TGC-TCCTGGA\n",
            "  Score=10\n",
            "\n",
            "ATGCATGGTGCG-C--G-A\n",
            "||  .|| |||  |  | |\n",
            "AT--TTG-TGC-TCCTGGA\n",
            "  Score=10\n",
            "\n",
            "ATGCATGGTGCG-C--G-A\n",
            "|| . || |||  |  | |\n",
            "AT-T-TG-TGC-TCCTGGA\n",
            "  Score=10\n",
            "\n",
            "ATGCATGGTGCG-C--G-A\n",
            "||.  || |||  |  | |\n",
            "ATT--TG-TGC-TCCTGGA\n",
            "  Score=10\n",
            "\n",
            "A-TGCATGGTGCG-C--G-A\n",
            "| |   || |||  |  | |\n",
            "ATT---TG-TGC-TCCTGGA\n",
            "  Score=10\n",
            "\n",
            "ATGCATG-GTGCGC--G-A\n",
            "||   |  ||||.|  | |\n",
            "AT---T-TGTGCTCCTGGA\n",
            "  Score=10\n",
            "\n",
            "ATGCATGGTGCGC--G-A\n",
            "||   |.||||.|  | |\n",
            "AT---TTGTGCTCCTGGA\n",
            "  Score=10\n",
            "\n",
            "ATGCA-TGGTGCGC--G-A\n",
            "||    | ||||.|  | |\n",
            "AT---TT-GTGCTCCTGGA\n",
            "  Score=10\n",
            "\n",
            "ATGCATGGTGCGC--G-A\n",
            "||  .| ||||.|  | |\n",
            "AT--TT-GTGCTCCTGGA\n",
            "  Score=10\n",
            "\n",
            "ATGCATGGTGCGC--G-A\n",
            "|| . | ||||.|  | |\n",
            "AT-T-T-GTGCTCCTGGA\n",
            "  Score=10\n",
            "\n",
            "ATGCATGGTGCGC--G-A\n",
            "||.  | ||||.|  | |\n",
            "ATT--T-GTGCTCCTGGA\n",
            "  Score=10\n",
            "\n",
            "A-TGCATGGTGCGC--G-A\n",
            "| |   | ||||.|  | |\n",
            "ATT---T-GTGCTCCTGGA\n",
            "  Score=10\n",
            "\n",
            "ATGCAT-GGTGCGC--G-A\n",
            "||   | | |||.|  | |\n",
            "AT---TTG-TGCTCCTGGA\n",
            "  Score=10\n",
            "\n",
            "ATGCA-TGGTGCGC--G-A\n",
            "||    || |||.|  | |\n",
            "AT---TTG-TGCTCCTGGA\n",
            "  Score=10\n",
            "\n",
            "ATGCATGGTGCGC--G-A\n",
            "||  .|| |||.|  | |\n",
            "AT--TTG-TGCTCCTGGA\n",
            "  Score=10\n",
            "\n",
            "ATGCATGGTGCGC--G-A\n",
            "|| . || |||.|  | |\n",
            "AT-T-TG-TGCTCCTGGA\n",
            "  Score=10\n",
            "\n",
            "ATGCATGGTGCGC--G-A\n",
            "||.  || |||.|  | |\n",
            "ATT--TG-TGCTCCTGGA\n",
            "  Score=10\n",
            "\n",
            "A-TGCATGGTGCGC--G-A\n",
            "| |   || |||.|  | |\n",
            "ATT---TG-TGCTCCTGGA\n",
            "  Score=10\n",
            "\n",
            "ATGCATG-GTGCG--C-G-A\n",
            "||   |  ||||   | | |\n",
            "AT---T-TGTGC-TCCTGGA\n",
            "  Score=10\n",
            "\n",
            "ATGCATGGTGCG--C-G-A\n",
            "||   |.||||   | | |\n",
            "AT---TTGTGC-TCCTGGA\n",
            "  Score=10\n",
            "\n",
            "ATGCA-TGGTGCG--C-G-A\n",
            "||    | ||||   | | |\n",
            "AT---TT-GTGC-TCCTGGA\n",
            "  Score=10\n",
            "\n",
            "ATGCATGGTGCG--C-G-A\n",
            "||  .| ||||   | | |\n",
            "AT--TT-GTGC-TCCTGGA\n",
            "  Score=10\n",
            "\n",
            "ATGCATGGTGCG--C-G-A\n",
            "|| . | ||||   | | |\n",
            "AT-T-T-GTGC-TCCTGGA\n",
            "  Score=10\n",
            "\n",
            "ATGCATGGTGCG--C-G-A\n",
            "||.  | ||||   | | |\n",
            "ATT--T-GTGC-TCCTGGA\n",
            "  Score=10\n",
            "\n",
            "A-TGCATGGTGCG--C-G-A\n",
            "| |   | ||||   | | |\n",
            "ATT---T-GTGC-TCCTGGA\n",
            "  Score=10\n",
            "\n",
            "ATGCAT-GGTGCG--C-G-A\n",
            "||   | | |||   | | |\n",
            "AT---TTG-TGC-TCCTGGA\n",
            "  Score=10\n",
            "\n",
            "ATGCA-TGGTGCG--C-G-A\n",
            "||    || |||   | | |\n",
            "AT---TTG-TGC-TCCTGGA\n",
            "  Score=10\n",
            "\n",
            "ATGCATGGTGCG--C-G-A\n",
            "||  .|| |||   | | |\n",
            "AT--TTG-TGC-TCCTGGA\n",
            "  Score=10\n",
            "\n",
            "ATGCATGGTGCG--C-G-A\n",
            "|| . || |||   | | |\n",
            "AT-T-TG-TGC-TCCTGGA\n",
            "  Score=10\n",
            "\n",
            "ATGCATGGTGCG--C-G-A\n",
            "||.  || |||   | | |\n",
            "ATT--TG-TGC-TCCTGGA\n",
            "  Score=10\n",
            "\n",
            "A-TGCATGGTGCG--C-G-A\n",
            "| |   || |||   | | |\n",
            "ATT---TG-TGC-TCCTGGA\n",
            "  Score=10\n",
            "\n",
            "ATGCATG-GTGCG-C-G-A\n",
            "||   |  ||||. | | |\n",
            "AT---T-TGTGCTCCTGGA\n",
            "  Score=10\n",
            "\n",
            "ATGCATGGTGCG-C-G-A\n",
            "||   |.||||. | | |\n",
            "AT---TTGTGCTCCTGGA\n",
            "  Score=10\n",
            "\n",
            "ATGCA-TGGTGCG-C-G-A\n",
            "||    | ||||. | | |\n",
            "AT---TT-GTGCTCCTGGA\n",
            "  Score=10\n",
            "\n",
            "ATGCATGGTGCG-C-G-A\n",
            "||  .| ||||. | | |\n",
            "AT--TT-GTGCTCCTGGA\n",
            "  Score=10\n",
            "\n",
            "ATGCATGGTGCG-C-G-A\n",
            "|| . | ||||. | | |\n",
            "AT-T-T-GTGCTCCTGGA\n",
            "  Score=10\n",
            "\n",
            "ATGCATGGTGCG-C-G-A\n",
            "||.  | ||||. | | |\n",
            "ATT--T-GTGCTCCTGGA\n",
            "  Score=10\n",
            "\n",
            "A-TGCATGGTGCG-C-G-A\n",
            "| |   | ||||. | | |\n",
            "ATT---T-GTGCTCCTGGA\n",
            "  Score=10\n",
            "\n",
            "ATGCAT-GGTGCG-C-G-A\n",
            "||   | | |||. | | |\n",
            "AT---TTG-TGCTCCTGGA\n",
            "  Score=10\n",
            "\n",
            "ATGCA-TGGTGCG-C-G-A\n",
            "||    || |||. | | |\n",
            "AT---TTG-TGCTCCTGGA\n",
            "  Score=10\n",
            "\n",
            "ATGCATGGTGCG-C-G-A\n",
            "||  .|| |||. | | |\n",
            "AT--TTG-TGCTCCTGGA\n",
            "  Score=10\n",
            "\n",
            "ATGCATGGTGCG-C-G-A\n",
            "|| . || |||. | | |\n",
            "AT-T-TG-TGCTCCTGGA\n",
            "  Score=10\n",
            "\n",
            "ATGCATGGTGCG-C-G-A\n",
            "||.  || |||. | | |\n",
            "ATT--TG-TGCTCCTGGA\n",
            "  Score=10\n",
            "\n",
            "A-TGCATGGTGCG-C-G-A\n",
            "| |   || |||. | | |\n",
            "ATT---TG-TGCTCCTGGA\n",
            "  Score=10\n",
            "\n",
            "ATGCATG-GTGC-GC-G-A\n",
            "||   |  |||| .| | |\n",
            "AT---T-TGTGCTCCTGGA\n",
            "  Score=10\n",
            "\n",
            "ATGCATGGTGC-GC-G-A\n",
            "||   |.|||| .| | |\n",
            "AT---TTGTGCTCCTGGA\n",
            "  Score=10\n",
            "\n",
            "ATGCA-TGGTGC-GC-G-A\n",
            "||    | |||| .| | |\n",
            "AT---TT-GTGCTCCTGGA\n",
            "  Score=10\n",
            "\n",
            "ATGCATGGTGC-GC-G-A\n",
            "||  .| |||| .| | |\n",
            "AT--TT-GTGCTCCTGGA\n",
            "  Score=10\n",
            "\n",
            "ATGCATGGTGC-GC-G-A\n",
            "|| . | |||| .| | |\n",
            "AT-T-T-GTGCTCCTGGA\n",
            "  Score=10\n",
            "\n",
            "ATGCATGGTGC-GC-G-A\n",
            "||.  | |||| .| | |\n",
            "ATT--T-GTGCTCCTGGA\n",
            "  Score=10\n",
            "\n",
            "A-TGCATGGTGC-GC-G-A\n",
            "| |   | |||| .| | |\n",
            "ATT---T-GTGCTCCTGGA\n",
            "  Score=10\n",
            "\n",
            "ATGCAT-GGTGC-GC-G-A\n",
            "||   | | ||| .| | |\n",
            "AT---TTG-TGCTCCTGGA\n",
            "  Score=10\n",
            "\n",
            "ATGCA-TGGTGC-GC-G-A\n",
            "||    || ||| .| | |\n",
            "AT---TTG-TGCTCCTGGA\n",
            "  Score=10\n",
            "\n",
            "ATGCATGGTGC-GC-G-A\n",
            "||  .|| ||| .| | |\n",
            "AT--TTG-TGCTCCTGGA\n",
            "  Score=10\n",
            "\n",
            "ATGCATGGTGC-GC-G-A\n",
            "|| . || ||| .| | |\n",
            "AT-T-TG-TGCTCCTGGA\n",
            "  Score=10\n",
            "\n",
            "ATGCATGGTGC-GC-G-A\n",
            "||.  || ||| .| | |\n",
            "ATT--TG-TGCTCCTGGA\n",
            "  Score=10\n",
            "\n",
            "A-TGCATGGTGC-GC-G-A\n",
            "| |   || ||| .| | |\n",
            "ATT---TG-TGCTCCTGGA\n",
            "  Score=10\n",
            "\n",
            "ATGCATG-GTG--CGC-G-A\n",
            "||   |  |||  | | | |\n",
            "AT---T-TGTGCTC-CTGGA\n",
            "  Score=10\n",
            "\n",
            "ATGCATGGTG--CGC-G-A\n",
            "||   |.|||  | | | |\n",
            "AT---TTGTGCTC-CTGGA\n",
            "  Score=10\n",
            "\n",
            "ATGCA-TGGTG--CGC-G-A\n",
            "||    | |||  | | | |\n",
            "AT---TT-GTGCTC-CTGGA\n",
            "  Score=10\n",
            "\n",
            "ATGCATGGTG--CGC-G-A\n",
            "||  .| |||  | | | |\n",
            "AT--TT-GTGCTC-CTGGA\n",
            "  Score=10\n",
            "\n",
            "ATGCATGGTG--CGC-G-A\n",
            "|| . | |||  | | | |\n",
            "AT-T-T-GTGCTC-CTGGA\n",
            "  Score=10\n",
            "\n",
            "ATGCATGGTG--CGC-G-A\n",
            "||.  | |||  | | | |\n",
            "ATT--T-GTGCTC-CTGGA\n",
            "  Score=10\n",
            "\n",
            "A-TGCATGGTG--CGC-G-A\n",
            "| |   | |||  | | | |\n",
            "ATT---T-GTGCTC-CTGGA\n",
            "  Score=10\n",
            "\n",
            "ATGCAT-GGTG--CGC-G-A\n",
            "||   | | ||  | | | |\n",
            "AT---TTG-TGCTC-CTGGA\n",
            "  Score=10\n",
            "\n",
            "ATGCA-TGGTG--CGC-G-A\n",
            "||    || ||  | | | |\n",
            "AT---TTG-TGCTC-CTGGA\n",
            "  Score=10\n",
            "\n",
            "ATGCATGGTG--CGC-G-A\n",
            "||  .|| ||  | | | |\n",
            "AT--TTG-TGCTC-CTGGA\n",
            "  Score=10\n",
            "\n",
            "ATGCATGGTG--CGC-G-A\n",
            "|| . || ||  | | | |\n",
            "AT-T-TG-TGCTC-CTGGA\n",
            "  Score=10\n",
            "\n",
            "ATGCATGGTG--CGC-G-A\n",
            "||.  || ||  | | | |\n",
            "ATT--TG-TGCTC-CTGGA\n",
            "  Score=10\n",
            "\n",
            "A-TGCATGGTG--CGC-G-A\n",
            "| |   || ||  | | | |\n",
            "ATT---TG-TGCTC-CTGGA\n",
            "  Score=10\n",
            "\n",
            "ATGCAT-G-G-TGCGC-G-A\n",
            "||   | | | | | | | |\n",
            "AT---TTGTGCT-C-CTGGA\n",
            "  Score=10\n",
            "\n",
            "ATGCA-TG-G-TGCGC-G-A\n",
            "||    || | | | | | |\n",
            "AT---TTGTGCT-C-CTGGA\n",
            "  Score=10\n",
            "\n",
            "ATGCATG-G-TGCGC-G-A\n",
            "||  .|| | | | | | |\n",
            "AT--TTGTGCT-C-CTGGA\n",
            "  Score=10\n",
            "\n",
            "ATGCATG-G-TGCGC-G-A\n",
            "|| . || | | | | | |\n",
            "AT-T-TGTGCT-C-CTGGA\n",
            "  Score=10\n",
            "\n",
            "ATGCATG-G-TGCGC-G-A\n",
            "||.  || | | | | | |\n",
            "ATT--TGTGCT-C-CTGGA\n",
            "  Score=10\n",
            "\n",
            "A-TGCATG-G-TGCGC-G-A\n",
            "| |   || | | | | | |\n",
            "ATT---TGTGCT-C-CTGGA\n",
            "  Score=10\n",
            "\n",
            "AT--GCATGG-TGCGC-G-A\n",
            "||  |  | | | | | | |\n",
            "ATTTG--T-GCT-C-CTGGA\n",
            "  Score=10\n",
            "\n",
            "A-T-GCATGG-TGCGC-G-A\n",
            "| | |  | | | | | | |\n",
            "ATTTG--T-GCT-C-CTGGA\n",
            "  Score=10\n",
            "\n",
            "A--TGCATGG-TGCGC-G-A\n",
            "|  ||  | | | | | | |\n",
            "ATTTG--T-GCT-C-CTGGA\n",
            "  Score=10\n",
            "\n",
            "AT--GCATGG-TGCGC-G-A\n",
            "||  |  ||  | | | | |\n",
            "ATTTG--TG-CT-C-CTGGA\n",
            "  Score=10\n",
            "\n",
            "A-T-GCATGG-TGCGC-G-A\n",
            "| | |  ||  | | | | |\n",
            "ATTTG--TG-CT-C-CTGGA\n",
            "  Score=10\n",
            "\n",
            "A--TGCATGG-TGCGC-G-A\n",
            "|  ||  ||  | | | | |\n",
            "ATTTG--TG-CT-C-CTGGA\n",
            "  Score=10\n",
            "\n",
            "AT--GCATGGTGCGC-G-A\n",
            "||  |  ||.| | | | |\n",
            "ATTTG--TGCT-C-CTGGA\n",
            "  Score=10\n",
            "\n",
            "A-T-GCATGGTGCGC-G-A\n",
            "| | |  ||.| | | | |\n",
            "ATTTG--TGCT-C-CTGGA\n",
            "  Score=10\n",
            "\n",
            "A--TGCATGGTGCGC-G-A\n",
            "|  ||  ||.| | | | |\n",
            "ATTTG--TGCT-C-CTGGA\n",
            "  Score=10\n",
            "\n",
            "ATGCATG-GTGCG-C---GA\n",
            "||   |  ||||  |   ||\n",
            "AT---T-TGTGC-TCCTGGA\n",
            "  Score=10\n",
            "\n",
            "ATGCATGGTGCG-C---GA\n",
            "||   |.||||  |   ||\n",
            "AT---TTGTGC-TCCTGGA\n",
            "  Score=10\n",
            "\n",
            "ATGCA-TGGTGCG-C---GA\n",
            "||    | ||||  |   ||\n",
            "AT---TT-GTGC-TCCTGGA\n",
            "  Score=10\n",
            "\n",
            "ATGCATGGTGCG-C---GA\n",
            "||  .| ||||  |   ||\n",
            "AT--TT-GTGC-TCCTGGA\n",
            "  Score=10\n",
            "\n",
            "ATGCATGGTGCG-C---GA\n",
            "|| . | ||||  |   ||\n",
            "AT-T-T-GTGC-TCCTGGA\n",
            "  Score=10\n",
            "\n",
            "ATGCATGGTGCG-C---GA\n",
            "||.  | ||||  |   ||\n",
            "ATT--T-GTGC-TCCTGGA\n",
            "  Score=10\n",
            "\n",
            "A-TGCATGGTGCG-C---GA\n",
            "| |   | ||||  |   ||\n",
            "ATT---T-GTGC-TCCTGGA\n",
            "  Score=10\n",
            "\n",
            "ATGCAT-GGTGCG-C---GA\n",
            "||   | | |||  |   ||\n",
            "AT---TTG-TGC-TCCTGGA\n",
            "  Score=10\n",
            "\n",
            "ATGCA-TGGTGCG-C---GA\n",
            "||    || |||  |   ||\n",
            "AT---TTG-TGC-TCCTGGA\n",
            "  Score=10\n",
            "\n",
            "ATGCATGGTGCG-C---GA\n",
            "||  .|| |||  |   ||\n",
            "AT--TTG-TGC-TCCTGGA\n",
            "  Score=10\n",
            "\n",
            "ATGCATGGTGCG-C---GA\n",
            "|| . || |||  |   ||\n",
            "AT-T-TG-TGC-TCCTGGA\n",
            "  Score=10\n",
            "\n",
            "ATGCATGGTGCG-C---GA\n",
            "||.  || |||  |   ||\n",
            "ATT--TG-TGC-TCCTGGA\n",
            "  Score=10\n",
            "\n",
            "A-TGCATGGTGCG-C---GA\n",
            "| |   || |||  |   ||\n",
            "ATT---TG-TGC-TCCTGGA\n",
            "  Score=10\n",
            "\n",
            "ATGCATG-GTGCGC---GA\n",
            "||   |  ||||.|   ||\n",
            "AT---T-TGTGCTCCTGGA\n",
            "  Score=10\n",
            "\n",
            "ATGCATGGTGCGC---GA\n",
            "||   |.||||.|   ||\n",
            "AT---TTGTGCTCCTGGA\n",
            "  Score=10\n",
            "\n",
            "ATGCA-TGGTGCGC---GA\n",
            "||    | ||||.|   ||\n",
            "AT---TT-GTGCTCCTGGA\n",
            "  Score=10\n",
            "\n",
            "ATGCATGGTGCGC---GA\n",
            "||  .| ||||.|   ||\n",
            "AT--TT-GTGCTCCTGGA\n",
            "  Score=10\n",
            "\n",
            "ATGCATGGTGCGC---GA\n",
            "|| . | ||||.|   ||\n",
            "AT-T-T-GTGCTCCTGGA\n",
            "  Score=10\n",
            "\n",
            "ATGCATGGTGCGC---GA\n",
            "||.  | ||||.|   ||\n",
            "ATT--T-GTGCTCCTGGA\n",
            "  Score=10\n",
            "\n",
            "A-TGCATGGTGCGC---GA\n",
            "| |   | ||||.|   ||\n",
            "ATT---T-GTGCTCCTGGA\n",
            "  Score=10\n",
            "\n",
            "ATGCAT-GGTGCGC---GA\n",
            "||   | | |||.|   ||\n",
            "AT---TTG-TGCTCCTGGA\n",
            "  Score=10\n",
            "\n",
            "ATGCA-TGGTGCGC---GA\n",
            "||    || |||.|   ||\n",
            "AT---TTG-TGCTCCTGGA\n",
            "  Score=10\n",
            "\n",
            "ATGCATGGTGCGC---GA\n",
            "||  .|| |||.|   ||\n",
            "AT--TTG-TGCTCCTGGA\n",
            "  Score=10\n",
            "\n",
            "ATGCATGGTGCGC---GA\n",
            "|| . || |||.|   ||\n",
            "AT-T-TG-TGCTCCTGGA\n",
            "  Score=10\n",
            "\n",
            "ATGCATGGTGCGC---GA\n",
            "||.  || |||.|   ||\n",
            "ATT--TG-TGCTCCTGGA\n",
            "  Score=10\n",
            "\n",
            "A-TGCATGGTGCGC---GA\n",
            "| |   || |||.|   ||\n",
            "ATT---TG-TGCTCCTGGA\n",
            "  Score=10\n",
            "\n",
            "ATGCATG-GTGCG--C--GA\n",
            "||   |  ||||   |  ||\n",
            "AT---T-TGTGC-TCCTGGA\n",
            "  Score=10\n",
            "\n",
            "ATGCATGGTGCG--C--GA\n",
            "||   |.||||   |  ||\n",
            "AT---TTGTGC-TCCTGGA\n",
            "  Score=10\n",
            "\n",
            "ATGCA-TGGTGCG--C--GA\n",
            "||    | ||||   |  ||\n",
            "AT---TT-GTGC-TCCTGGA\n",
            "  Score=10\n",
            "\n",
            "ATGCATGGTGCG--C--GA\n",
            "||  .| ||||   |  ||\n",
            "AT--TT-GTGC-TCCTGGA\n",
            "  Score=10\n",
            "\n",
            "ATGCATGGTGCG--C--GA\n",
            "|| . | ||||   |  ||\n",
            "AT-T-T-GTGC-TCCTGGA\n",
            "  Score=10\n",
            "\n",
            "ATGCATGGTGCG--C--GA\n",
            "||.  | ||||   |  ||\n",
            "ATT--T-GTGC-TCCTGGA\n",
            "  Score=10\n",
            "\n",
            "A-TGCATGGTGCG--C--GA\n",
            "| |   | ||||   |  ||\n",
            "ATT---T-GTGC-TCCTGGA\n",
            "  Score=10\n",
            "\n",
            "ATGCAT-GGTGCG--C--GA\n",
            "||   | | |||   |  ||\n",
            "AT---TTG-TGC-TCCTGGA\n",
            "  Score=10\n",
            "\n",
            "ATGCA-TGGTGCG--C--GA\n",
            "||    || |||   |  ||\n",
            "AT---TTG-TGC-TCCTGGA\n",
            "  Score=10\n",
            "\n",
            "ATGCATGGTGCG--C--GA\n",
            "||  .|| |||   |  ||\n",
            "AT--TTG-TGC-TCCTGGA\n",
            "  Score=10\n",
            "\n",
            "ATGCATGGTGCG--C--GA\n",
            "|| . || |||   |  ||\n",
            "AT-T-TG-TGC-TCCTGGA\n",
            "  Score=10\n",
            "\n",
            "ATGCATGGTGCG--C--GA\n",
            "||.  || |||   |  ||\n",
            "ATT--TG-TGC-TCCTGGA\n",
            "  Score=10\n",
            "\n",
            "A-TGCATGGTGCG--C--GA\n",
            "| |   || |||   |  ||\n",
            "ATT---TG-TGC-TCCTGGA\n",
            "  Score=10\n",
            "\n",
            "ATGCATG-GTGCG-C--GA\n",
            "||   |  ||||. |  ||\n",
            "AT---T-TGTGCTCCTGGA\n",
            "  Score=10\n",
            "\n",
            "ATGCATGGTGCG-C--GA\n",
            "||   |.||||. |  ||\n",
            "AT---TTGTGCTCCTGGA\n",
            "  Score=10\n",
            "\n",
            "ATGCA-TGGTGCG-C--GA\n",
            "||    | ||||. |  ||\n",
            "AT---TT-GTGCTCCTGGA\n",
            "  Score=10\n",
            "\n",
            "ATGCATGGTGCG-C--GA\n",
            "||  .| ||||. |  ||\n",
            "AT--TT-GTGCTCCTGGA\n",
            "  Score=10\n",
            "\n",
            "ATGCATGGTGCG-C--GA\n",
            "|| . | ||||. |  ||\n",
            "AT-T-T-GTGCTCCTGGA\n",
            "  Score=10\n",
            "\n",
            "ATGCATGGTGCG-C--GA\n",
            "||.  | ||||. |  ||\n",
            "ATT--T-GTGCTCCTGGA\n",
            "  Score=10\n",
            "\n",
            "A-TGCATGGTGCG-C--GA\n",
            "| |   | ||||. |  ||\n",
            "ATT---T-GTGCTCCTGGA\n",
            "  Score=10\n",
            "\n",
            "ATGCAT-GGTGCG-C--GA\n",
            "||   | | |||. |  ||\n",
            "AT---TTG-TGCTCCTGGA\n",
            "  Score=10\n",
            "\n",
            "ATGCA-TGGTGCG-C--GA\n",
            "||    || |||. |  ||\n",
            "AT---TTG-TGCTCCTGGA\n",
            "  Score=10\n",
            "\n",
            "ATGCATGGTGCG-C--GA\n",
            "||  .|| |||. |  ||\n",
            "AT--TTG-TGCTCCTGGA\n",
            "  Score=10\n",
            "\n",
            "ATGCATGGTGCG-C--GA\n",
            "|| . || |||. |  ||\n",
            "AT-T-TG-TGCTCCTGGA\n",
            "  Score=10\n",
            "\n",
            "ATGCATGGTGCG-C--GA\n",
            "||.  || |||. |  ||\n",
            "ATT--TG-TGCTCCTGGA\n",
            "  Score=10\n",
            "\n",
            "A-TGCATGGTGCG-C--GA\n",
            "| |   || |||. |  ||\n",
            "ATT---TG-TGCTCCTGGA\n",
            "  Score=10\n",
            "\n",
            "ATGCATG-GTGC-GC--GA\n",
            "||   |  |||| .|  ||\n",
            "AT---T-TGTGCTCCTGGA\n",
            "  Score=10\n",
            "\n",
            "ATGCATGGTGC-GC--GA\n",
            "||   |.|||| .|  ||\n",
            "AT---TTGTGCTCCTGGA\n",
            "  Score=10\n",
            "\n",
            "ATGCA-TGGTGC-GC--GA\n",
            "||    | |||| .|  ||\n",
            "AT---TT-GTGCTCCTGGA\n",
            "  Score=10\n",
            "\n",
            "ATGCATGGTGC-GC--GA\n",
            "||  .| |||| .|  ||\n",
            "AT--TT-GTGCTCCTGGA\n",
            "  Score=10\n",
            "\n",
            "ATGCATGGTGC-GC--GA\n",
            "|| . | |||| .|  ||\n",
            "AT-T-T-GTGCTCCTGGA\n",
            "  Score=10\n",
            "\n",
            "ATGCATGGTGC-GC--GA\n",
            "||.  | |||| .|  ||\n",
            "ATT--T-GTGCTCCTGGA\n",
            "  Score=10\n",
            "\n",
            "A-TGCATGGTGC-GC--GA\n",
            "| |   | |||| .|  ||\n",
            "ATT---T-GTGCTCCTGGA\n",
            "  Score=10\n",
            "\n",
            "ATGCAT-GGTGC-GC--GA\n",
            "||   | | ||| .|  ||\n",
            "AT---TTG-TGCTCCTGGA\n",
            "  Score=10\n",
            "\n",
            "ATGCA-TGGTGC-GC--GA\n",
            "||    || ||| .|  ||\n",
            "AT---TTG-TGCTCCTGGA\n",
            "  Score=10\n",
            "\n",
            "ATGCATGGTGC-GC--GA\n",
            "||  .|| ||| .|  ||\n",
            "AT--TTG-TGCTCCTGGA\n",
            "  Score=10\n",
            "\n",
            "ATGCATGGTGC-GC--GA\n",
            "|| . || ||| .|  ||\n",
            "AT-T-TG-TGCTCCTGGA\n",
            "  Score=10\n",
            "\n",
            "ATGCATGGTGC-GC--GA\n",
            "||.  || ||| .|  ||\n",
            "ATT--TG-TGCTCCTGGA\n",
            "  Score=10\n",
            "\n",
            "A-TGCATGGTGC-GC--GA\n",
            "| |   || ||| .|  ||\n",
            "ATT---TG-TGCTCCTGGA\n",
            "  Score=10\n",
            "\n",
            "ATGCATG-GTG--CGC--GA\n",
            "||   |  |||  | |  ||\n",
            "AT---T-TGTGCTC-CTGGA\n",
            "  Score=10\n",
            "\n",
            "ATGCATGGTG--CGC--GA\n",
            "||   |.|||  | |  ||\n",
            "AT---TTGTGCTC-CTGGA\n",
            "  Score=10\n",
            "\n",
            "ATGCA-TGGTG--CGC--GA\n",
            "||    | |||  | |  ||\n",
            "AT---TT-GTGCTC-CTGGA\n",
            "  Score=10\n",
            "\n",
            "ATGCATGGTG--CGC--GA\n",
            "||  .| |||  | |  ||\n",
            "AT--TT-GTGCTC-CTGGA\n",
            "  Score=10\n",
            "\n",
            "ATGCATGGTG--CGC--GA\n",
            "|| . | |||  | |  ||\n",
            "AT-T-T-GTGCTC-CTGGA\n",
            "  Score=10\n",
            "\n",
            "ATGCATGGTG--CGC--GA\n",
            "||.  | |||  | |  ||\n",
            "ATT--T-GTGCTC-CTGGA\n",
            "  Score=10\n",
            "\n",
            "A-TGCATGGTG--CGC--GA\n",
            "| |   | |||  | |  ||\n",
            "ATT---T-GTGCTC-CTGGA\n",
            "  Score=10\n",
            "\n",
            "ATGCAT-GGTG--CGC--GA\n",
            "||   | | ||  | |  ||\n",
            "AT---TTG-TGCTC-CTGGA\n",
            "  Score=10\n",
            "\n",
            "ATGCA-TGGTG--CGC--GA\n",
            "||    || ||  | |  ||\n",
            "AT---TTG-TGCTC-CTGGA\n",
            "  Score=10\n",
            "\n",
            "ATGCATGGTG--CGC--GA\n",
            "||  .|| ||  | |  ||\n",
            "AT--TTG-TGCTC-CTGGA\n",
            "  Score=10\n",
            "\n",
            "ATGCATGGTG--CGC--GA\n",
            "|| . || ||  | |  ||\n",
            "AT-T-TG-TGCTC-CTGGA\n",
            "  Score=10\n",
            "\n",
            "ATGCATGGTG--CGC--GA\n",
            "||.  || ||  | |  ||\n",
            "ATT--TG-TGCTC-CTGGA\n",
            "  Score=10\n",
            "\n",
            "A-TGCATGGTG--CGC--GA\n",
            "| |   || ||  | |  ||\n",
            "ATT---TG-TGCTC-CTGGA\n",
            "  Score=10\n",
            "\n",
            "ATGCAT-G-G-TGCGC--GA\n",
            "||   | | | | | |  ||\n",
            "AT---TTGTGCT-C-CTGGA\n",
            "  Score=10\n",
            "\n",
            "ATGCA-TG-G-TGCGC--GA\n",
            "||    || | | | |  ||\n",
            "AT---TTGTGCT-C-CTGGA\n",
            "  Score=10\n",
            "\n",
            "ATGCATG-G-TGCGC--GA\n",
            "||  .|| | | | |  ||\n",
            "AT--TTGTGCT-C-CTGGA\n",
            "  Score=10\n",
            "\n",
            "ATGCATG-G-TGCGC--GA\n",
            "|| . || | | | |  ||\n",
            "AT-T-TGTGCT-C-CTGGA\n",
            "  Score=10\n",
            "\n",
            "ATGCATG-G-TGCGC--GA\n",
            "||.  || | | | |  ||\n",
            "ATT--TGTGCT-C-CTGGA\n",
            "  Score=10\n",
            "\n",
            "A-TGCATG-G-TGCGC--GA\n",
            "| |   || | | | |  ||\n",
            "ATT---TGTGCT-C-CTGGA\n",
            "  Score=10\n",
            "\n",
            "AT--GCATGG-TGCGC--GA\n",
            "||  |  | | | | |  ||\n",
            "ATTTG--T-GCT-C-CTGGA\n",
            "  Score=10\n",
            "\n",
            "A-T-GCATGG-TGCGC--GA\n",
            "| | |  | | | | |  ||\n",
            "ATTTG--T-GCT-C-CTGGA\n",
            "  Score=10\n",
            "\n",
            "A--TGCATGG-TGCGC--GA\n",
            "|  ||  | | | | |  ||\n",
            "ATTTG--T-GCT-C-CTGGA\n",
            "  Score=10\n",
            "\n",
            "AT--GCATGG-TGCGC--GA\n",
            "||  |  ||  | | |  ||\n",
            "ATTTG--TG-CT-C-CTGGA\n",
            "  Score=10\n",
            "\n",
            "A-T-GCATGG-TGCGC--GA\n",
            "| | |  ||  | | |  ||\n",
            "ATTTG--TG-CT-C-CTGGA\n",
            "  Score=10\n",
            "\n",
            "A--TGCATGG-TGCGC--GA\n",
            "|  ||  ||  | | |  ||\n",
            "ATTTG--TG-CT-C-CTGGA\n",
            "  Score=10\n",
            "\n",
            "AT--GCATGGTGCGC--GA\n",
            "||  |  ||.| | |  ||\n",
            "ATTTG--TGCT-C-CTGGA\n",
            "  Score=10\n",
            "\n",
            "A-T-GCATGGTGCGC--GA\n",
            "| | |  ||.| | |  ||\n",
            "ATTTG--TGCT-C-CTGGA\n",
            "  Score=10\n",
            "\n",
            "A--TGCATGGTGCGC--GA\n",
            "|  ||  ||.| | |  ||\n",
            "ATTTG--TGCT-C-CTGGA\n",
            "  Score=10\n",
            "\n",
            "ATGCATG-GTGC----GCGA\n",
            "||   |  ||||    | ||\n",
            "AT---T-TGTGCTCCTG-GA\n",
            "  Score=10\n",
            "\n",
            "ATGCATGGTGC----GCGA\n",
            "||   |.||||    | ||\n",
            "AT---TTGTGCTCCTG-GA\n",
            "  Score=10\n",
            "\n",
            "ATGCA-TGGTGC----GCGA\n",
            "||    | ||||    | ||\n",
            "AT---TT-GTGCTCCTG-GA\n",
            "  Score=10\n",
            "\n",
            "ATGCATGGTGC----GCGA\n",
            "||  .| ||||    | ||\n",
            "AT--TT-GTGCTCCTG-GA\n",
            "  Score=10\n",
            "\n",
            "ATGCATGGTGC----GCGA\n",
            "|| . | ||||    | ||\n",
            "AT-T-T-GTGCTCCTG-GA\n",
            "  Score=10\n",
            "\n",
            "ATGCATGGTGC----GCGA\n",
            "||.  | ||||    | ||\n",
            "ATT--T-GTGCTCCTG-GA\n",
            "  Score=10\n",
            "\n",
            "A-TGCATGGTGC----GCGA\n",
            "| |   | ||||    | ||\n",
            "ATT---T-GTGCTCCTG-GA\n",
            "  Score=10\n",
            "\n",
            "ATGCAT-GGTGC----GCGA\n",
            "||   | | |||    | ||\n",
            "AT---TTG-TGCTCCTG-GA\n",
            "  Score=10\n",
            "\n",
            "ATGCA-TGGTGC----GCGA\n",
            "||    || |||    | ||\n",
            "AT---TTG-TGCTCCTG-GA\n",
            "  Score=10\n",
            "\n",
            "ATGCATGGTGC----GCGA\n",
            "||  .|| |||    | ||\n",
            "AT--TTG-TGCTCCTG-GA\n",
            "  Score=10\n",
            "\n",
            "ATGCATGGTGC----GCGA\n",
            "|| . || |||    | ||\n",
            "AT-T-TG-TGCTCCTG-GA\n",
            "  Score=10\n",
            "\n",
            "ATGCATGGTGC----GCGA\n",
            "||.  || |||    | ||\n",
            "ATT--TG-TGCTCCTG-GA\n",
            "  Score=10\n",
            "\n",
            "A-TGCATGGTGC----GCGA\n",
            "| |   || |||    | ||\n",
            "ATT---TG-TGCTCCTG-GA\n",
            "  Score=10\n",
            "\n",
            "ATGCATG-GTG--C--GCGA\n",
            "||   |  |||  |  | ||\n",
            "AT---T-TGTGCTCCTG-GA\n",
            "  Score=10\n",
            "\n",
            "ATGCATGGTG--C--GCGA\n",
            "||   |.|||  |  | ||\n",
            "AT---TTGTGCTCCTG-GA\n",
            "  Score=10\n",
            "\n",
            "ATGCA-TGGTG--C--GCGA\n",
            "||    | |||  |  | ||\n",
            "AT---TT-GTGCTCCTG-GA\n",
            "  Score=10\n",
            "\n",
            "ATGCATGGTG--C--GCGA\n",
            "||  .| |||  |  | ||\n",
            "AT--TT-GTGCTCCTG-GA\n",
            "  Score=10\n",
            "\n",
            "ATGCATGGTG--C--GCGA\n",
            "|| . | |||  |  | ||\n",
            "AT-T-T-GTGCTCCTG-GA\n",
            "  Score=10\n",
            "\n",
            "ATGCATGGTG--C--GCGA\n",
            "||.  | |||  |  | ||\n",
            "ATT--T-GTGCTCCTG-GA\n",
            "  Score=10\n",
            "\n",
            "A-TGCATGGTG--C--GCGA\n",
            "| |   | |||  |  | ||\n",
            "ATT---T-GTGCTCCTG-GA\n",
            "  Score=10\n",
            "\n",
            "ATGCAT-GGTG--C--GCGA\n",
            "||   | | ||  |  | ||\n",
            "AT---TTG-TGCTCCTG-GA\n",
            "  Score=10\n",
            "\n",
            "ATGCA-TGGTG--C--GCGA\n",
            "||    || ||  |  | ||\n",
            "AT---TTG-TGCTCCTG-GA\n",
            "  Score=10\n",
            "\n",
            "ATGCATGGTG--C--GCGA\n",
            "||  .|| ||  |  | ||\n",
            "AT--TTG-TGCTCCTG-GA\n",
            "  Score=10\n",
            "\n",
            "ATGCATGGTG--C--GCGA\n",
            "|| . || ||  |  | ||\n",
            "AT-T-TG-TGCTCCTG-GA\n",
            "  Score=10\n",
            "\n",
            "ATGCATGGTG--C--GCGA\n",
            "||.  || ||  |  | ||\n",
            "ATT--TG-TGCTCCTG-GA\n",
            "  Score=10\n",
            "\n",
            "A-TGCATGGTG--C--GCGA\n",
            "| |   || ||  |  | ||\n",
            "ATT---TG-TGCTCCTG-GA\n",
            "  Score=10\n",
            "\n",
            "ATGCAT-G-G-TGC--GCGA\n",
            "||   | | | | |  | ||\n",
            "AT---TTGTGCT-CCTG-GA\n",
            "  Score=10\n",
            "\n",
            "ATGCA-TG-G-TGC--GCGA\n",
            "||    || | | |  | ||\n",
            "AT---TTGTGCT-CCTG-GA\n",
            "  Score=10\n",
            "\n",
            "ATGCATG-G-TGC--GCGA\n",
            "||  .|| | | |  | ||\n",
            "AT--TTGTGCT-CCTG-GA\n",
            "  Score=10\n",
            "\n",
            "ATGCATG-G-TGC--GCGA\n",
            "|| . || | | |  | ||\n",
            "AT-T-TGTGCT-CCTG-GA\n",
            "  Score=10\n",
            "\n",
            "ATGCATG-G-TGC--GCGA\n",
            "||.  || | | |  | ||\n",
            "ATT--TGTGCT-CCTG-GA\n",
            "  Score=10\n",
            "\n",
            "A-TGCATG-G-TGC--GCGA\n",
            "| |   || | | |  | ||\n",
            "ATT---TGTGCT-CCTG-GA\n",
            "  Score=10\n",
            "\n",
            "AT--GCATGG-TGC--GCGA\n",
            "||  |  | | | |  | ||\n",
            "ATTTG--T-GCT-CCTG-GA\n",
            "  Score=10\n",
            "\n",
            "A-T-GCATGG-TGC--GCGA\n",
            "| | |  | | | |  | ||\n",
            "ATTTG--T-GCT-CCTG-GA\n",
            "  Score=10\n",
            "\n",
            "A--TGCATGG-TGC--GCGA\n",
            "|  ||  | | | |  | ||\n",
            "ATTTG--T-GCT-CCTG-GA\n",
            "  Score=10\n",
            "\n",
            "AT--GCATGG-TGC--GCGA\n",
            "||  |  ||  | |  | ||\n",
            "ATTTG--TG-CT-CCTG-GA\n",
            "  Score=10\n",
            "\n",
            "A-T-GCATGG-TGC--GCGA\n",
            "| | |  ||  | |  | ||\n",
            "ATTTG--TG-CT-CCTG-GA\n",
            "  Score=10\n",
            "\n",
            "A--TGCATGG-TGC--GCGA\n",
            "|  ||  ||  | |  | ||\n",
            "ATTTG--TG-CT-CCTG-GA\n",
            "  Score=10\n",
            "\n",
            "AT--GCATGGTGC--GCGA\n",
            "||  |  ||.| |  | ||\n",
            "ATTTG--TGCT-CCTG-GA\n",
            "  Score=10\n",
            "\n",
            "A-T-GCATGGTGC--GCGA\n",
            "| | |  ||.| |  | ||\n",
            "ATTTG--TGCT-CCTG-GA\n",
            "  Score=10\n",
            "\n",
            "A--TGCATGGTGC--GCGA\n",
            "|  ||  ||.| |  | ||\n",
            "ATTTG--TGCT-CCTG-GA\n",
            "  Score=10\n",
            "\n"
          ]
        }
      ],
      "source": [
        "# View all possible alignment\n",
        "for a in loc_alignments:\n",
        "  print(format_alignment(*a))"
      ]
    },
    {
      "cell_type": "code",
      "execution_count": null,
      "metadata": {
        "id": "MW8XNhLZZrra",
        "colab": {
          "base_uri": "https://localhost:8080/"
        },
        "outputId": "81b43a9b-4a30-467a-de08-9fb6518b3659"
      },
      "outputs": [
        {
          "output_type": "execute_result",
          "data": {
            "text/plain": [
              "10.0"
            ]
          },
          "metadata": {},
          "execution_count": 23
        }
      ],
      "source": [
        "# Get the alignment by only the score\n",
        "alignment2 = pairwise2.align.globalxx(seq1,seq2,one_alignment_only=True, score_only=True)\n",
        "alignment2"
      ]
    },
    {
      "cell_type": "markdown",
      "metadata": {
        "id": "xvz5rYMRZrra"
      },
      "source": [
        "#### Check for similarity or percentage of similarity using Alignment\n",
        "+ fraction of nucleotides that is the same/ total number of nucleotides * 100%\n"
      ]
    },
    {
      "cell_type": "code",
      "execution_count": null,
      "metadata": {
        "id": "34J5HokSZrrb",
        "colab": {
          "base_uri": "https://localhost:8080/"
        },
        "outputId": "9b188a4e-b928-474f-efdf-c857c12a1983"
      },
      "outputs": [
        {
          "output_type": "execute_result",
          "data": {
            "text/plain": [
              "66.66666666666666"
            ]
          },
          "metadata": {},
          "execution_count": 26
        }
      ],
      "source": [
        "# Calculate the global alignment score\n",
        "alignment2/len(seq2)*100"
      ]
    },
    {
      "cell_type": "code",
      "execution_count": null,
      "metadata": {
        "id": "oDG-4cTNZrrb",
        "colab": {
          "base_uri": "https://localhost:8080/"
        },
        "outputId": "84848b55-a095-4bd3-8dbb-e22e240e9c00"
      },
      "outputs": [
        {
          "output_type": "execute_result",
          "data": {
            "text/plain": [
              "10.0"
            ]
          },
          "metadata": {},
          "execution_count": 31
        }
      ],
      "source": [
        "# Get the local alignment by only the score\n",
        "loc_alignment2 = pairwise2.align.localxx(seq1,seq2,one_alignment_only=True,score_only=True)\n",
        "loc_alignment2"
      ]
    },
    {
      "cell_type": "code",
      "source": [
        "loc_alignment2/len(seq1)*100"
      ],
      "metadata": {
        "colab": {
          "base_uri": "https://localhost:8080/"
        },
        "id": "g9lcgyG-mjTc",
        "outputId": "1a12bf92-c51e-43a7-b552-7fdce70d7709"
      },
      "execution_count": null,
      "outputs": [
        {
          "output_type": "execute_result",
          "data": {
            "text/plain": [
              "66.66666666666666"
            ]
          },
          "metadata": {},
          "execution_count": 30
        }
      ]
    },
    {
      "cell_type": "markdown",
      "metadata": {
        "id": "r1pe80qpZrrc"
      },
      "source": [
        "### Find out all the possible global alignments with the maximum similarity score\n",
        "+ Matching characters :2 points,\n",
        "+ Each mismatching character: -1 point\n",
        "+ 0.5 points are deducted when opening a gap,\n",
        "+ 0.1 points are deducted when extending it."
      ]
    },
    {
      "cell_type": "code",
      "execution_count": null,
      "metadata": {
        "id": "BYkNrR0UZrrc"
      },
      "outputs": [],
      "source": [
        "# Perform GLobal alignment with maximum similarity score\n"
      ]
    },
    {
      "cell_type": "code",
      "execution_count": null,
      "metadata": {
        "id": "Vp86oIRWZrrc"
      },
      "outputs": [],
      "source": [
        "# View all possible alignment\n"
      ]
    },
    {
      "cell_type": "code",
      "execution_count": null,
      "metadata": {
        "id": "jyzUW-AwZrrc"
      },
      "outputs": [],
      "source": [
        "# View all alignment score\n"
      ]
    },
    {
      "cell_type": "markdown",
      "metadata": {
        "id": "qJhF7AatZrrd"
      },
      "source": [
        "### Checking for Similarity Between Sequences\n",
        "+ Sequence Alignment\n",
        "    - Dynamic Programming (Global/Local/(needle/water))\n",
        "    - Dotplot\n",
        "    \n",
        "+ Similarity: resemblance between two sequences in comparison\n",
        "    - the minimal number of edit operations (inserts, deletes, and substitutions) in order to transform the one sequence into an exact copy of the other sequence being aligned\n",
        "    - distance\n",
        "+ Identity: the number of charaters that match EXACTLY between two different sequences\n",
        "    + Gaps are not counted\n",
        "    + The measurement is relational to the shorter of the two sequences.\n",
        "    + This has the effect that sequence identity is not transitive, i.e.\n",
        "    + if sequence A=B and B=C then A is not necessarily equal C (in terms of the identity distance measure) :\n",
        "\n",
        "\n",
        " - A: AAGGCTT\n",
        " - B: AAGGC\n",
        " - C:AAGGCAT"
      ]
    },
    {
      "cell_type": "markdown",
      "metadata": {
        "id": "JUcFkdiyZrrd"
      },
      "source": [
        "+ Here identity(A,B)=100% (5 identical nucleotides / min(length(A),length(B))).\n",
        "Identity(B,C)=100%, but identity(A,C)=85% ((6 identical nucleotides / 7)). So 100% identity does not mean two sequences are the same.\n",
        "+ Sequence similarity is first of all a general description of a relationship but nevertheless its more or less common practice to define similarity as an optimal matching problem (for sequence alignments or unless defined otherwise).\n",
        "+ Hereby, the optimal matching algorithm finds the minimal number of edit operations (inserts, deletes, and substitutions) in order to transform the one sequence into an exact copy of the other sequence being aligned (edit distance).\n",
        "+ Using this, the percentage sequence similarity of the examples above are sim(A,B)=60%, sim(B,C)=60%, sim(A,C)=86% (semi-global, sim=1-(edit distance/unaligned length of the shorter sequence)). But there are other ways to define similarity between two objects (e.g. using tertiary strucure of proteins).\n",
        "An then you might start to conclude from similarity to homology, but this was already covered sufficiently\n",
        "+ read more https://www.researchgate.net/post/Homology_similarity_and_identity-can_anyone_help_with_these_terms"
      ]
    },
    {
      "cell_type": "code",
      "execution_count": null,
      "metadata": {
        "id": "1wKp0HNYZrrd"
      },
      "outputs": [],
      "source": [
        "# Import necessary package/ function and Create 3 example sequences\n",
        "from Bio.Seq import Seq"
      ]
    },
    {
      "cell_type": "code",
      "execution_count": null,
      "metadata": {
        "id": "bu0tTnl3Zrre"
      },
      "outputs": [],
      "source": [
        "# Perform Local Alignment and print the scores\n"
      ]
    },
    {
      "cell_type": "code",
      "execution_count": null,
      "metadata": {
        "id": "EZF4Y45KZrrf"
      },
      "outputs": [],
      "source": [
        "# Check the concept : Is 100? similarity score means the two DNA sequences are exact match?\n"
      ]
    },
    {
      "cell_type": "markdown",
      "metadata": {
        "id": "zIuwMA0IZrrf"
      },
      "source": [
        "#### Hamming distance: shows how many places 2 strings differ\n",
        "+ Hamming distance between two strings of equal length is the number of positions at which the corresponding symbols are different.\n",
        "+ In other words, it measures the minimum number of substitutions required to change one string into the other, or the minimum number of errors that could have transformed one string into the othe\n",
        "+ It is used for error detection or error correction\n",
        "+ It is used to quantify the similarity of DNA sequences,\n",
        "+ For checking the edit distance\n",
        " - edit distance is a way of quantifying how dissimilar two strings (e.g., words) are to one another by counting the minimum number of operations required to transform one string into the other.\n",
        " - eg Levenshtein distance\n",
        "\n"
      ]
    },
    {
      "cell_type": "code",
      "execution_count": null,
      "metadata": {
        "id": "IUkYPKwvZrrg"
      },
      "outputs": [],
      "source": [
        "# Create example sequences\n"
      ]
    },
    {
      "cell_type": "code",
      "execution_count": null,
      "metadata": {
        "id": "GggjZ-bBZrrg"
      },
      "outputs": [],
      "source": [
        "# Define Hamming Distance function\n",
        "def hamming_distance(lhs,rhs):\n",
        "  return len([(x,y) for x,y in zip(lhs,rhs) if x != y])"
      ]
    },
    {
      "cell_type": "code",
      "execution_count": null,
      "metadata": {
        "id": "oO2SG07XZrrg",
        "colab": {
          "base_uri": "https://localhost:8080/"
        },
        "outputId": "21309d98-2a24-480b-e2c4-2720f272bac0"
      },
      "outputs": [
        {
          "output_type": "execute_result",
          "data": {
            "text/plain": [
              "7"
            ]
          },
          "metadata": {},
          "execution_count": 34
        }
      ],
      "source": [
        "# Perform Hamming Distance calculation\n",
        "hamming_distance(seq1,seq2)"
      ]
    },
    {
      "cell_type": "markdown",
      "metadata": {
        "id": "vL8Zb07dZrrh"
      },
      "source": [
        "#### Levenshtein Distance\n",
        "\n",
        "+ This method was invented in 1965 by the Russian Mathematician Vladimir Levenshtein (1935-2017).\n",
        "+ The distance value describes the minimal number of deletions, insertions, or substitutions that are required to transform one string (the source) into another (the target).\n",
        "+ Unlike the Hamming distance, the Levenshtein distance works on strings with an unequal length"
      ]
    },
    {
      "cell_type": "code",
      "execution_count": null,
      "metadata": {
        "id": "GnV34nMpZrrh",
        "colab": {
          "base_uri": "https://localhost:8080/"
        },
        "outputId": "b8e727df-b516-49b9-96d4-695fd8bc2ce6"
      },
      "outputs": [
        {
          "output_type": "stream",
          "name": "stdout",
          "text": [
            "Collecting python-Levenshtein\n",
            "  Downloading python_Levenshtein-0.25.1-py3-none-any.whl (9.4 kB)\n",
            "Collecting Levenshtein==0.25.1 (from python-Levenshtein)\n",
            "  Downloading Levenshtein-0.25.1-cp310-cp310-manylinux_2_17_x86_64.manylinux2014_x86_64.whl (177 kB)\n",
            "\u001b[2K     \u001b[90m━━━━━━━━━━━━━━━━━━━━━━━━━━━━━━━━━━━━━━━━\u001b[0m \u001b[32m177.4/177.4 kB\u001b[0m \u001b[31m3.7 MB/s\u001b[0m eta \u001b[36m0:00:00\u001b[0m\n",
            "\u001b[?25hCollecting rapidfuzz<4.0.0,>=3.8.0 (from Levenshtein==0.25.1->python-Levenshtein)\n",
            "  Downloading rapidfuzz-3.9.1-cp310-cp310-manylinux_2_17_x86_64.manylinux2014_x86_64.whl (3.4 MB)\n",
            "\u001b[2K     \u001b[90m━━━━━━━━━━━━━━━━━━━━━━━━━━━━━━━━━━━━━━━━\u001b[0m \u001b[32m3.4/3.4 MB\u001b[0m \u001b[31m11.0 MB/s\u001b[0m eta \u001b[36m0:00:00\u001b[0m\n",
            "\u001b[?25hInstalling collected packages: rapidfuzz, Levenshtein, python-Levenshtein\n",
            "Successfully installed Levenshtein-0.25.1 python-Levenshtein-0.25.1 rapidfuzz-3.9.1\n"
          ]
        }
      ],
      "source": [
        "# Install Levenshtein Distance library\n",
        "!pip install python-Levenshtein\n",
        "from Levenshtein import distance"
      ]
    },
    {
      "cell_type": "code",
      "execution_count": null,
      "metadata": {
        "id": "4pYUA-pMZrri",
        "colab": {
          "base_uri": "https://localhost:8080/"
        },
        "outputId": "54b08304-d23e-49ff-96d2-a1f79b3f82ff"
      },
      "outputs": [
        {
          "output_type": "execute_result",
          "data": {
            "text/plain": [
              "7"
            ]
          },
          "metadata": {},
          "execution_count": 36
        }
      ],
      "source": [
        "# Perform Levenshtein Distance calculation\n",
        "distance(str(seq1),str(seq2))\n"
      ]
    },
    {
      "cell_type": "code",
      "source": [
        "print(\"Hamming Distance \",hamming_distance(seq1,seq2))\n",
        "print(\"Levenshtein Distance \",distance(str(seq1),str(seq2)))"
      ],
      "metadata": {
        "colab": {
          "base_uri": "https://localhost:8080/"
        },
        "id": "6kXCkd-2pFcG",
        "outputId": "c3126368-14c1-4845-d452-bd8def4a55e7"
      },
      "execution_count": null,
      "outputs": [
        {
          "output_type": "stream",
          "name": "stdout",
          "text": [
            "Hamming Distance  7\n",
            "Levenshtein Distance  7\n"
          ]
        }
      ]
    },
    {
      "cell_type": "markdown",
      "metadata": {
        "id": "jIRoeoEHZrri"
      },
      "source": [
        "#### Sequence Alignment using Dotplot"
      ]
    },
    {
      "cell_type": "markdown",
      "metadata": {
        "id": "9ehFpOODZrri"
      },
      "source": [
        "### Dot Plot\n",
        "+ A dot plot is a graphical method that allows the comparison of two biological sequences\n",
        "and identify regions of close similarity between them.\n",
        "+ Simplest method - put a dot wherever\n",
        "sequences are identical\n",
        "+ Dot plots compare two sequences by organizing one sequence on the x-axis, and another on the y-axis, of a plot.\n",
        "+ When the residues of both sequences match at the same location on the plot, a dot is drawn at the corresponding position\n",
        "\n",
        "#### usefulness\n",
        "+ Dot plots can also be used to visually inspect sequences for\n",
        "  - direct or inverted repeats\n",
        "  - regions with low sequence complexity.\n",
        "  - Similar regions\n",
        "  - Repeated sequences\n",
        "  - Sequence rearrangements\n",
        "  - RNA structures\n",
        "  - Gene order\n",
        "\n",
        "+ Link :https://stackoverflow.com/questions/40822400/how-to-create-a-dotplot-of-two-dna-sequence-in-python"
      ]
    },
    {
      "cell_type": "code",
      "execution_count": null,
      "metadata": {
        "id": "YHekyWbrZrri"
      },
      "outputs": [],
      "source": [
        "# Create Dot Plot function\n",
        "def delta(x,y):\n",
        "  return 0 if x == y else 1\n",
        "\n",
        "def M(seq1,seq2,i,j,k):\n",
        "  return sum(delta(x,y) for x,y in zip(seq1[i:i+k],seq2[j:j+k]))\n",
        "\n",
        "def makeMatrix(seq1,seq2,k):\n",
        "  n = len(seq1)\n",
        "  m = len(seq2)\n",
        "  return [[M(seq1,seq2,i,j,k) for j in range(m-k+1)] for i in range(n-k+1)]\n",
        "\n",
        "def plotMatrix(M,t,seq1,seq2,nonblank = chr(0x2540), blank = ' '):\n",
        "  print(' |' + seq2)\n",
        "  print('-'*(2 + len(seq2)))\n",
        "  for label,row in zip(seq1,M):\n",
        "    line = ''.join(nonblank if s < t else blank for s in row)\n",
        "    print(label + '|' + line)\n",
        "\n",
        "def dotplot(seq1,seq2,k=1,t=1):\n",
        "  M = makeMatrix(seq1, seq2, k)\n",
        "  plotMatrix(M, t, seq1, seq2)\n",
        "#experiment with character choice"
      ]
    },
    {
      "cell_type": "code",
      "execution_count": null,
      "metadata": {
        "id": "Go8ZV6S6Zrrj"
      },
      "outputs": [],
      "source": [
        "# Create 2 DNA sequence examples\n"
      ]
    },
    {
      "cell_type": "code",
      "execution_count": null,
      "metadata": {
        "id": "3vedlnj2Zrrj",
        "colab": {
          "base_uri": "https://localhost:8080/"
        },
        "outputId": "eeb2d1e7-c9e0-44a7-cbfb-7c64908b28e3"
      },
      "outputs": [
        {
          "output_type": "stream",
          "name": "stdout",
          "text": [
            " |ATTTGTGCTCCTGGA\n",
            "-----------------\n",
            "A|╀             ╀\n",
            "T| ╀╀╀ ╀  ╀  ╀   \n",
            "G|    ╀ ╀     ╀╀ \n",
            "C|       ╀ ╀╀    \n",
            "A|╀             ╀\n",
            "T| ╀╀╀ ╀  ╀  ╀   \n",
            "G|    ╀ ╀     ╀╀ \n",
            "G|    ╀ ╀     ╀╀ \n",
            "T| ╀╀╀ ╀  ╀  ╀   \n",
            "G|    ╀ ╀     ╀╀ \n",
            "C|       ╀ ╀╀    \n",
            "G|    ╀ ╀     ╀╀ \n",
            "C|       ╀ ╀╀    \n",
            "G|    ╀ ╀     ╀╀ \n",
            "A|╀             ╀\n"
          ]
        }
      ],
      "source": [
        "# Run Dot Plot function\n",
        "dotplot(seq1,seq2)"
      ]
    },
    {
      "cell_type": "code",
      "execution_count": null,
      "metadata": {
        "id": "MUKpqIcZZrrj",
        "colab": {
          "base_uri": "https://localhost:8080/"
        },
        "outputId": "b8a6d9e0-9430-4309-f944-8e882b6b88e9"
      },
      "outputs": [
        {
          "output_type": "stream",
          "name": "stdout",
          "text": [
            " |ATTTGTGCTCCTGGA\n",
            "-----------------\n",
            "A|╀             ╀\n",
            "T| ╀╀╀ ╀  ╀  ╀   \n",
            "T| ╀╀╀ ╀  ╀  ╀   \n",
            "T| ╀╀╀ ╀  ╀  ╀   \n",
            "G|    ╀ ╀     ╀╀ \n",
            "T| ╀╀╀ ╀  ╀  ╀   \n",
            "G|    ╀ ╀     ╀╀ \n",
            "C|       ╀ ╀╀    \n",
            "T| ╀╀╀ ╀  ╀  ╀   \n",
            "C|       ╀ ╀╀    \n",
            "C|       ╀ ╀╀    \n",
            "T| ╀╀╀ ╀  ╀  ╀   \n",
            "G|    ╀ ╀     ╀╀ \n",
            "G|    ╀ ╀     ╀╀ \n",
            "A|╀             ╀\n"
          ]
        }
      ],
      "source": [
        "# Indentical show diagonal\n",
        "dotplot(seq2,seq2)"
      ]
    },
    {
      "cell_type": "code",
      "execution_count": null,
      "metadata": {
        "id": "788PZTM9Zrrk"
      },
      "outputs": [],
      "source": [
        "#Import Numpy & Matplotlib libraries to calculate and plot the result\n",
        "import matplotlib.pyplot as plt\n",
        "import numpy as np"
      ]
    },
    {
      "cell_type": "code",
      "execution_count": null,
      "metadata": {
        "id": "_59o6rbFZrrk",
        "colab": {
          "base_uri": "https://localhost:8080/",
          "height": 430
        },
        "outputId": "c775bc9b-2d02-4c5b-d63c-3fb39aec0a67"
      },
      "outputs": [
        {
          "output_type": "display_data",
          "data": {
            "text/plain": [
              "<Figure size 640x480 with 1 Axes>"
            ],
            "image/png": "[encoded data removed]"
          },
          "metadata": {}
        }
      ],
      "source": [
        "# Create a fancy plot\n",
        "plt.imshow(np.array(makeMatrix(seq1,seq2,1)))\n",
        "xt=plt.xticks(np.arange(len(list(seq1))), list(seq1))\n",
        "yt=plt.yticks(np.arange(len(list(seq1))), list(seq1))\n",
        "plt.show()"
      ]
    },
    {
      "cell_type": "code",
      "execution_count": null,
      "metadata": {
        "id": "v1G58TPwZrrk"
      },
      "outputs": [],
      "source": [
        "# Convert to Function\n",
        "def dotplotx(seq1,seq2):\n",
        "  plt.imshow(np.array(makeMatrix(seq1,seq2,1)))\n",
        "  xt=plt.xticks(np.arange(len(list(seq2))), list(seq2)) #menampilkan semua sequence di seq2 pada sumbu x\n",
        "  yt=plt.yticks(np.arange(len(list(seq1))), list(seq1)) #menampilkan semua seq di seq1 pada sumbu y\n",
        "  plt.show()"
      ]
    },
    {
      "cell_type": "code",
      "execution_count": null,
      "metadata": {
        "id": "PhtWWYUiZrrk",
        "colab": {
          "base_uri": "https://localhost:8080/",
          "height": 430
        },
        "outputId": "e24a9283-3e70-4f05-9ce4-d9c45f6e6673"
      },
      "outputs": [
        {
          "output_type": "display_data",
          "data": {
            "text/plain": [
              "<Figure size 640x480 with 1 Axes>"
            ],
            "image/png": "[encoded data removed]"
          },
          "metadata": {}
        }
      ],
      "source": [
        "# Run the updated Dot Plot function\n",
        "dotplotx(seq1,seq2)"
      ]
    },
    {
      "cell_type": "code",
      "execution_count": null,
      "metadata": {
        "id": "jE2FA1etZrrk"
      },
      "outputs": [],
      "source": [
        "# Create a sample case and Run the updated Dot Plot function\n"
      ]
    },
    {
      "cell_type": "markdown",
      "metadata": {
        "id": "PDeQottoZrrl"
      },
      "source": [
        "## Lab 5 Working with Biological Database\n"
      ]
    },
    {
      "cell_type": "markdown",
      "metadata": {
        "id": "GjNRXAl8uNmE"
      },
      "source": [
        "\n",
        "### Preparing a Genomic Research (OPTIONAL)"
      ]
    },
    {
      "cell_type": "code",
      "execution_count": null,
      "metadata": {
        "id": "cOJ0DtvyZrrm"
      },
      "outputs": [],
      "source": [
        "# Spelling correction\n",
        "from Bio import Entrez\n",
        "Entrez.email = 'learnbiopython@gmail.com'\n",
        "sciNames = ['Bos gaurus']"
      ]
    },
    {
      "cell_type": "code",
      "execution_count": null,
      "metadata": {
        "id": "U5bTjGgWZrrm",
        "colab": {
          "base_uri": "https://localhost:8080/"
        },
        "outputId": "9d720fed-0a29-4823-b961-153c38c8d6a3"
      },
      "outputs": [
        {
          "output_type": "stream",
          "name": "stdout",
          "text": [
            "<class 'Bio.Entrez.Parser.DictionaryElement'>\n",
            "dict_keys(['Database', 'Query', 'CorrectedQuery', 'SpelledQuery'])\n",
            "Database : pmc\n",
            "Query : biopythoon\n",
            "CorrectedQuery : biopython\n",
            "SpelledQuery : ['', 'biopython']\n"
          ]
        }
      ],
      "source": [
        "# nyimpen dari hasil entrez, nama dbnya pmc, query yang mau dicari biopython dan nanti dibenerin\n",
        "record = Entrez.read(Entrez.espell(db='pmc', term='biopythoon'))\n",
        "print(type(record))\n",
        "print(record.keys())\n",
        "for key in record.keys():\n",
        "  print (key, ':', record[key])"
      ]
    },
    {
      "cell_type": "code",
      "execution_count": null,
      "metadata": {
        "id": "bDvGEFLOZrrm",
        "colab": {
          "base_uri": "https://localhost:8080/"
        },
        "outputId": "7eea8d22-9896-483a-a85a-544cc75eb8a7"
      },
      "outputs": [
        {
          "output_type": "stream",
          "name": "stdout",
          "text": [
            "<class 'Bio.Entrez.Parser.DictionaryElement'>\n",
            "dict_keys(['Count', 'RetMax', 'RetStart', 'IdList', 'TranslationSet', 'TranslationStack', 'QueryTranslation'])\n",
            "Count : 3430\n",
            "RetMax : 100\n",
            "RetStart : 0\n",
            "IdList : ['11061638', '11043385', '11042736', '11036621', '11032200', '11030396', '11025191', '11021644', '11021134', '11009406', '11005043', '11003471', '11003385', '10997966', '10996545', '10995822', '10994858', '10993292', '10991401', '10986858', '10980098', '10980028', '10977779', '10972964', '10972820', '10972752', '10970464', '10970458', '10968102', '10962941', '10956323', '10947529', '10945700', '10941042', '10939351', '10939158', '10927650', '10925322', '10925170', '10924467', '10923898', '10920900', '10903887', '10902389', '10899750', '10896983', '10896898', '10891923', '10891560', '10888786', '10886287', '10885011', '10883280', '10882062', '10881836', '10881578', '10877595', '10870462', '10868605', '10867641', '10862712', '10849175', '10848205', '10846092', '10845050', '11062901', '11056021', '11054880', '11054612', '11047891', '11028452', '11040703', '11039983', '11034653', '11033187', '7615850', '11031966', '11031363', '11025265', '11022576', '11021831', '11019937', '11016097', '11010298', '11007208', '11006980', '10999449', '10990426', '10990425', '10988968', '10977968', '10975825', '10975397', '10968724', '10968299', '10966356', '10965241', '10963638', '10952736', '10952624']\n",
            "TranslationSet : []\n",
            "TranslationStack : [{'Term': 'biopython[All Fields]', 'Field': 'All Fields', 'Count': '3454', 'Explode': 'N'}, 'GROUP']\n",
            "QueryTranslation : biopython[All Fields]\n"
          ]
        }
      ],
      "source": [
        "# Research Collection: brp banyak kata biopython dalam db pmc\n",
        "record = Entrez.read(Entrez.esearch(db='pmc', term='biopython', retmax=100))\n",
        "print(type(record))\n",
        "print(record.keys())\n",
        "for key in record.keys():\n",
        "  print (key, ':', record[key])"
      ]
    },
    {
      "cell_type": "code",
      "execution_count": null,
      "metadata": {
        "id": "k88cKwpAZrrm",
        "colab": {
          "base_uri": "https://localhost:8080/"
        },
        "outputId": "b4179b71-431a-409d-eb18-8e2945bee5de"
      },
      "outputs": [
        {
          "output_type": "stream",
          "name": "stdout",
          "text": [
            "['11069410', '11069402', '11069389', '11069381', '11069361', '11069360', '11069350', '11069340', '11069335', '11069327', '11069315', '11069313', '11069311', '11069307', '11069297', '11069290', '11069289', '11069287', '11069278', '11069274', '11069264', '11069245', '11069242', '11069240', '11069232', '11069227', '11069205', '11069203', '11069197', '11069195', '11069193', '11069191', '11069185', '11069175', '11069170', '11069157', '11069151', '11069148', '11069146', '11069132', '11069127', '11069122', '11069120', '11069119', '11069116', '11069114', '11069108', '11069105', '11069073', '11069061', '11069054', '11069052', '11069049', '11069048', '11069025', '11069009', '11069006', '11069000', '11068999', '11068995', '11068993', '11068991', '11068990', '11068985', '11068976', '11068958', '11068957', '11068934', '11068925', '11068922', '11068917', '11068915', '11068913', '11068911', '11068907', '11068893', '11068891', '11068889', '11068885', '11068883', '11068881', '11068879', '11068867', '11068861', '11068853', '11068841', '11068837', '11068833', '11068823', '11068815', '11068812', '11068810', '11068808', '11068806', '11068799', '11068792', '11068786', '11068780', '11068778', '11068776']\n"
          ]
        }
      ],
      "source": [
        "#disimpen ke var biopythonID\n",
        "biopythonID = record['IdList']\n",
        "print(biopythonID)"
      ]
    },
    {
      "cell_type": "code",
      "execution_count": null,
      "metadata": {
        "id": "PimGNfSxZrrm",
        "colab": {
          "base_uri": "https://localhost:8080/"
        },
        "outputId": "95024c4a-f0c6-4656-d37e-9ce8af538d2c"
      },
      "outputs": [
        {
          "output_type": "stream",
          "name": "stdout",
          "text": [
            "Story of 20 Years of Triumph: A Case Report of Two Patients With Stage IV Granulosa Cell Tumor of the Ovary \t Cureus \t 10.7759/cureus.57615\n",
            "Paragangliomas Arising From the Laryngeal Paraganglia: Thyroid and Laryngeal Paragangliomas With Radiology-Pathology Correlation \t Cureus \t 10.7759/cureus.57613\n",
            "A proteome-wide atlas of drug mechanism of action \t Nature biotechnology \t 10.1038/s41587-022-01539-0\n",
            "Network and Experimental Pharmacology on Mechanism of Yixintai Regulates the TMAO/PKC/NF-κB Signaling Pathway in Treating Heart Failure \t Drug Design, Development and Therapy \t 10.2147/DDDT.S448140\n",
            "Significance of NKX2-1 as a biomarker for clinical prognosis, immune infiltration, and drug therapy in lung squamous cell carcinoma \t PeerJ \t 10.7717/peerj.17338\n",
            "Surface-active antibiotic production as a multifunctional adaptation for postfire microorganisms \t The ISME Journal \t 10.1093/ismejo/wrae022\n",
            "Aging and Matrix Viscoelasticity Affect Multiscale Tendon Properties and Tendon Derived Cell Behavior \t Acta biomaterialia \t 10.1016/j.actbio.2022.03.006\n",
            "An isoflavone catabolism gene cluster underlying interkingdom interactions in the soybean rhizosphere \t ISME Communications \t 10.1093/ismeco/ycae052\n",
            "Comparative Analysis of Biomarkers in Type 2 Diabetes Patients With and Without Comorbidities: Insights Into the Role of Hypertension and Cardiovascular Disease \t Biomarker Insights \t 10.1177/11772719231222111\n",
            "The importance of basic and translational research in caring for children with malignant solid tumors in Latin America \t Revista Panamericana de Salud Pública \t 10.26633/RPSP.2024.48\n"
          ]
        }
      ],
      "source": [
        "#nampilin 10 dari 100 data yang tadi disimpen: Judul Paper, Nama Jurnal, DOI\n",
        "for ID in biopythonID[:10]:\n",
        "  summary = Entrez.read(Entrez.esummary(db='pmc', id=ID))\n",
        "  for handle in summary:\n",
        "    print(handle['Title'], '\\t', handle['FullJournalName'], '\\t', handle['DOI'])"
      ]
    },
    {
      "cell_type": "markdown",
      "metadata": {
        "id": "XZTTC5wlZrrn"
      },
      "source": [
        "### Inquiry and Exporting Genomic Data from NCBI"
      ]
    },
    {
      "cell_type": "code",
      "execution_count": null,
      "metadata": {
        "id": "6ycQSI7uZrrn",
        "colab": {
          "base_uri": "https://localhost:8080/"
        },
        "outputId": "8c83bb38-50fa-4336-b6c5-6448d2373c88"
      },
      "outputs": [
        {
          "output_type": "stream",
          "name": "stdout",
          "text": [
            "{'Count': '2', 'RetMax': '2', 'RetStart': '0', 'IdList': ['NM_001032910.1', 'NC_041767.1'], 'TranslationSet': [{'From': 'Macaca mulatta[Organism]', 'To': '\"Macaca mulatta\"[Organism]'}], 'TranslationStack': [{'Term': 'TRIM5[Gene Name]', 'Field': 'Gene Name', 'Count': '708', 'Explode': 'N'}, {'Term': '\"Macaca mulatta\"[Organism]', 'Field': 'Organism', 'Count': '622935', 'Explode': 'Y'}, 'AND', {'Term': 'refSeq[Keyword]', 'Field': 'Keyword', 'Count': '111865996', 'Explode': 'N'}, 'AND'], 'QueryTranslation': 'TRIM5[Gene Name] AND \"Macaca mulatta\"[Organism] AND refSeq[Keyword]'}\n"
          ]
        }
      ],
      "source": [
        "#examples of Homo sapiens Genes Research in NCBI Nucleotide database\n",
        "\n",
        "# Three examples of Homo sapiens Genes\n",
        "# OCA2 : malenosonal transmembrane protein (eye color gene)\n",
        "# idtype = 'acc' means we want to know the Accession Number.\n",
        "\n",
        "# database nucleutide (kalo di DCBI ada di search)\n",
        "record = Entrez.read(Entrez.esearch(db='nucleotide',\n",
        "                                    term='TRIM5[Gene Name] AND Macaca mulatta [Organism] AND refSeq[Keyword]',\n",
        "                                    retmax=100, idtype='acc'))\n",
        "print(record)"
      ]
    },
    {
      "cell_type": "code",
      "execution_count": null,
      "metadata": {
        "id": "5dasGPcmZrrn",
        "colab": {
          "base_uri": "https://localhost:8080/"
        },
        "outputId": "a8b09fce-2829-4acb-866a-4ed029fe04df"
      },
      "outputs": [
        {
          "output_type": "stream",
          "name": "stdout",
          "text": [
            ">NM_001032910.1 Macaca mulatta tripartite motif containing 5 (TRIM5), mRNA\n",
            "\n"
          ]
        }
      ],
      "source": [
        "#examples of Homo Sapiens Genes efetch in NCBI Nucleotide database for mRNA only\n",
        "#NM_ in Accession Number means reference mRNA\n",
        "#NC_ in Accession Number means Genomic Data\n",
        "\n",
        "#ngambil nama dari list buat keterangan dari ID List\n",
        "for ID in record['IdList']:\n",
        "  if 'NM_' in ID:\n",
        "    fetch = Entrez.efetch(db='nucleotide', id=ID, rettype='fasta', retmode='text')\n",
        "    readFetch = fetch.readline()\n",
        "    print(readFetch)"
      ]
    },
    {
      "cell_type": "code",
      "execution_count": null,
      "metadata": {
        "id": "xG-nIM7oZrrn",
        "colab": {
          "base_uri": "https://localhost:8080/"
        },
        "outputId": "a717a115-df3b-44ee-bc80-74d0b054fcac"
      },
      "outputs": [
        {
          "output_type": "stream",
          "name": "stdout",
          "text": [
            "{'Count': '2', 'RetMax': '2', 'RetStart': '0', 'IdList': ['NM_001032910.1', 'NC_041767.1'], 'TranslationSet': [{'From': 'Macaca mulatta[Organism]', 'To': '\"Macaca mulatta\"[Organism]'}], 'TranslationStack': [{'Term': 'TRIM5[Gene Name]', 'Field': 'Gene Name', 'Count': '708', 'Explode': 'N'}, {'Term': '\"Macaca mulatta\"[Organism]', 'Field': 'Organism', 'Count': '622935', 'Explode': 'Y'}, 'AND', {'Term': 'refSeq[Keyword]', 'Field': 'Keyword', 'Count': '111865996', 'Explode': 'N'}, 'AND'], 'QueryTranslation': 'TRIM5[Gene Name] AND \"Macaca mulatta\"[Organism] AND refSeq[Keyword]'}\n",
            "['>NM_001032910.1 Macaca mulatta tripartite motif containing 5 (TRIM5), mRNA\\n']\n",
            "1\n"
          ]
        }
      ],
      "source": [
        "#spill jumlah\n",
        "print(record)\n",
        "counter = 0\n",
        "fetchList = []\n",
        "for ID in record['IdList']:\n",
        "  if 'NM_' in ID:\n",
        "    counter += 1\n",
        "    fetch = Entrez.efetch(db='nucleotide',\n",
        "                          id=ID,\n",
        "                          rettype='fasta',\n",
        "                          retmode='text')\n",
        "    readFetch = fetch.readline()\n",
        "    fetchList.append(readFetch)\n",
        "\n",
        "print(fetchList)\n",
        "print(len(fetchList))"
      ]
    },
    {
      "cell_type": "code",
      "execution_count": null,
      "metadata": {
        "id": "7NUvHHEqZrrn",
        "colab": {
          "base_uri": "https://localhost:8080/"
        },
        "outputId": "452fc1c7-c0d6-4f8e-a721-34c1d600ee0a"
      },
      "outputs": [
        {
          "output_type": "stream",
          "name": "stdout",
          "text": [
            "{'Count': '2', 'RetMax': '2', 'RetStart': '0', 'IdList': ['NM_001032910.1', 'NC_041767.1'], 'TranslationSet': [{'From': 'Macaca mulatta[Organism]', 'To': '\"Macaca mulatta\"[Organism]'}], 'TranslationStack': [{'Term': 'TRIM5[Gene Name]', 'Field': 'Gene Name', 'Count': '708', 'Explode': 'N'}, {'Term': '\"Macaca mulatta\"[Organism]', 'Field': 'Organism', 'Count': '622935', 'Explode': 'Y'}, 'AND', {'Term': 'refSeq[Keyword]', 'Field': 'Keyword', 'Count': '111865996', 'Explode': 'N'}, 'AND'], 'QueryTranslation': 'TRIM5[Gene Name] AND \"Macaca mulatta\"[Organism] AND refSeq[Keyword]'}\n",
            "['>NM_001032910.1 Macaca mulatta tripartite motif containing 5 (TRIM5), mRNA\\nGATGTTGGCCATTACGGCCGGGGTAGGAAAATTCCTTTGCGCAGATCAGGCCCCTGGATTGGTGACTGAA\\nTCCTAACCGTGTCTTTCCTGGCCTGCCTTCACTCTTCTCCCCAGACTCACTACTTCTGCACTGGTGTCTG\\nAAGGTGTATTGAGTGACTTTGTGGAGGGCAGAAGTAGGAAGTCTTTGGGACAAAACTGAATTTACCTTGG\\nGATCTGTGAACAAGACGAACCTCAGCAGCCAGGACAGGCAGGAGCAGTGGAGAAGCTGCTATGGCTTCTG\\nGAATCCTGCTTAATGTAAAGGAGGAGGTGACCTGTCCCATCTGCCTGGAACTCCTGACAGAACCCCTGAG\\nTCTGCACTGCGGCCACAGCTTCTGCCAAGCGTGCATCACTGCGAACCACAAGAAGTCCATGCTATACAAA\\nGAAGGAGAGAGAAGCTGCCCTGTGTGCCGGATCAGTTACCAGCCTGAGAACATACAGCCTAATCGGCATG\\nTAGCCAACATAGTGGAGAAGCTCAGGGAGGTCAAGTTGAGCCCAGAAGAGGGACAGAAGGTTGATCACTG\\nTGCACGCCATGGAGAGAAACTCCTACTCTTCTGTCAGGAGGACAGCAAGGTCATTTGCTGGCTTTGTGAG\\nCGGTCTCAGGAGCACCGTGGTCACCACACTTTCCTCATGGAGGAGGTTGCCCAGGAGTACCATGTGAAGC\\nTCCAGACAGCTCTGGAGATGCTGAGGCAGAAGCAGCAGGAAGCTGAAAAGTTGGAAGCTGACATCAGAGA\\nAGAGAAAGCTTCCTGGAAGATTCAAATAGACTACGACAAAACCAACGTCTCGGCAGATTTTGAGCAACTG\\nAGAGAGATCCTGGACTGGGAGGAGAGCAATGAGCTGCAGAACCTGGAGAAGGAGGAAGAAGACATTCTGA\\nAAAGCCTTACGAAGTCTGAAACGGAGATGGTGCAGCAGACCCAGTACATGAGAGAGCTCATCTCAGAACT\\nGGAGCATCGGTTGCAGGGGTCAATGATGGATCTACTGCAGGGTGTGGATGGCATCATTAAAAGGATTGAG\\nAACATGACCTTGAAGAAGCCAAAAACTTTTCACAAAAATCAAAGGAGAGTGTTTCGAGCTCCTGATCTGA\\nAAGGAATGCTAGACATGTTTAGAGAGCTAACAGATGCCCGACGCTACTGGGTTGATGTGACACTGGCTAC\\nAAACAACATTTCGCATGCTGTCATTGCTGAAGATAAGAGACAAGTGAGCTCTCGGAACCCACAGATAATG\\nTATCAGGCACCAGGGACATTATTTACGTTTCCGTCACTCACGAATTTCAATTATTGTACTGGCGTCCTGG\\nGCTCCCAAAGTATCACATCAGGGAAGCATTACTGGGAGGTAGATGTGTCCAAGAAAAGTGCTTGGATCCT\\nGGGGGTATGTGCTGGCTTCCAATCCGATGCAATGTATAATATTGAACAAAATGAAAATTATCAACCTAAA\\nTATGGCTACTGGGTTATAGGGTTACAGGAAGGAGTTAAATATAGTGTTTTCCAGGATGGTTCCTCACATA\\nCTCCTTTTGCTCCTTTCATTGTGCCCCTCTCTGTGATTATTTGTCCTGATCGTGTTGGAGTTTTCGTAGA\\nCTATGAGGCTTGCACTGTCTCATTCTTCAATATCACAAACCATGGATTTCTCATCTATAAGTTTTCTCAG\\nTGTTCTTTTTCTAAGCCTGTATTTCCATATTTAAATCCCAGAAAATGTACAGTCCCCATGACTCTGTGCT\\nCACCAAGCTCTTGAACCTTCTTACACACTCAGCCCCTTGTGTACAGCACCTCTTGTCCATGTGCATCTCA\\nTACACCTGAACTCAGTTGCATCATTTTAACCATCTTTTCCTTGCTGTCTCTATTCTTTCTATTTGAACGT\\nCCTGCACTCATCAGTGAAATGTGATAATTATCTTGTGCCATATTCTCCCCAATATTTTATTGACATTTGA\\nTAGCAATTGTTTTCATCATTTTCCATACTCCCAAGGAAAACTGACCTATACCTCATAAAAGGAGACCACT\\nATTTAGGTATTACTTCTGCCAAATATTTATCATCCAGTTGCCTCTGACACTGACTAAGAAGATGAAAAAA\\nAGCTTTTCAACAGCCTTTCTATATCATCGTGTGATAGTTGTTCACCAATGAATGAGTCCTTAGTCCTGTG\\nTCAGTTTACCCTTGATGCCCTTATTTGTGAAAGAGTTAAAGAGAAAATATCATAAATGGTATACTCTAAG\\nTGTAGAGGTTTTGTATCTAGAGGATCTGAGTTCAACTCCTGTCTCTCCATGTACTAGCAGTATAACTGTG\\nAATAGCATACTTAAATGGCTGTACTTCTTTTCTTTTCTTTCTTTTTTTTTTTTTGAGATGGAGTTTTGCT\\nCTCATTCCTCAGGCTGGAGTGAAATGGTGCGATCTCGGCTCACTGCAACCTCCGCTTCCCAGATTCAAGC\\nAATTCTCCTACCTCAGCCTCCCAAGTTGCTGGGATTAGAGGGGCCCACCACCACCCCCGGCTAAATTTGT\\nATTTTTACTAGAGACGGGGTTTCCCCATGTTGTGTTGGTTAGGCTCGTCTAAAACTCCTGACCTCAGGTG\\nATCCACCCGCCTCGGCCTGCCAAAGTGCTGGGATTACAGGCATGAGCTACCGCGCCCAGCCTGTGCTTAT\\nTTTCTTAAAATAATTTTTGTATTAAAAACTTCCCATTAAATAAGTCCTAAATGTTTTATCGCATAGTAGG\\nGTGACTAGAGTTAACAATAACATTTTGCATATATTTTGAAGTAGCTAGAAGAGAGGATTTTGAAAGTTCT\\nCAACACGAAGAAATGACACATATTTGAGGTGATGGATATGCTAATTACCCTGGTTTGATTATTACACAAT\\nATATACATATGTCAAAACATCATACTATACCACATAAATATGTACATTTATTATTTGTCAATTAAAAGCA\\nAAATAAAACAAAAAACCTTCATCTAATACTTTGGATCATTGTGAAAAAATAAATTCCTGAAGTATAAAGC\\nATTAAAAAAAAAAAAAAAAAAAAAAAAA\\n\\n']\n",
            "1\n"
          ]
        }
      ],
      "source": [
        "from Bio import Entrez\n",
        "Entrez.email = 'learnbiopython@gmail.com'\n",
        "\n",
        "# HBB : hemoglobin subunit beta\n",
        "# idtype = 'acc' means we want to know the Accession Number.\n",
        "# NM_ in Accession Number means reference mRNA (#NC_ means Genomic Data)\n",
        "# rettype='fasta' can be changed to 'gb' for GenBank files\n",
        "# 'a+' means it will add more fasta data to the saved file, not replace the previous one\n",
        "\n",
        "record = Entrez.read(Entrez.esearch(db='nucleotide',\n",
        "                                    term='TRIM5[Gene Name] AND Macaca mulatta[Organism] AND refSeq[Keyword]',\n",
        "                                    retmax=10, idtype='acc'))\n",
        "print(record)\n",
        "counter = 0\n",
        "fetchList = []\n",
        "for ID in record['IdList']:\n",
        "  if 'NM_' in ID:\n",
        "    counter += 1\n",
        "    fetch = Entrez.efetch(db='nucleotide',\n",
        "                          id=ID,\n",
        "                          rettype='fasta',\n",
        "                          retmode='text')\n",
        "    readFetch = fetch.read()\n",
        "    fetchList.append(readFetch)\n",
        "\n",
        "print(fetchList)\n",
        "print(len(fetchList))\n",
        "# for files in fetchList:\n",
        "#   with open ('HBB-NC.fasta','a+') as savedFile:\n",
        "#     savedFile.write(files)"
      ]
    },
    {
      "cell_type": "code",
      "source": [],
      "metadata": {
        "id": "GYIZ8JHTey_i"
      },
      "execution_count": null,
      "outputs": []
    },
    {
      "cell_type": "code",
      "execution_count": null,
      "metadata": {
        "id": "Fskgj3HnZrro"
      },
      "outputs": [],
      "source": [
        " # Change term='OCA2[Gene Name] AND Homo sapiens [Organism] AND refSeq[Keyword]'"
      ]
    },
    {
      "cell_type": "markdown",
      "metadata": {
        "id": "3dlaOjanZrrq"
      },
      "source": [
        "## Lab 6 Working with Common File Formats\n",
        " + FASTA\n",
        " + GenBank\n",
        " + PDB\n",
        " + etc\n",
        "\n",
        "+ Sample https://www.ncbi.nlm.nih.gov/nuccore/MN908947"
      ]
    },
    {
      "cell_type": "code",
      "execution_count": null,
      "metadata": {
        "id": "pHf34iXjZrrr",
        "colab": {
          "base_uri": "https://localhost:8080/"
        },
        "outputId": "a2043815-a3b4-4231-a7bf-0d91d9d5ddf5"
      },
      "outputs": [
        {
          "output_type": "stream",
          "name": "stdout",
          "text": [
            "Mounted at /content/PraktikumBiologi\n"
          ]
        }
      ],
      "source": [
        "# Reading FASTA file format\n",
        "from Bio import SeqIO\n",
        "from google.colab import drive\n",
        "drive.mount('/content/PraktikumBiologi')"
      ]
    },
    {
      "cell_type": "code",
      "execution_count": null,
      "metadata": {
        "id": "kiwb_EeuZrrr",
        "colab": {
          "base_uri": "https://localhost:8080/"
        },
        "outputId": "245751df-a22c-4230-90cc-1e04d410110b"
      },
      "outputs": [
        {
          "output_type": "stream",
          "name": "stdout",
          "text": [
            "HQ405776.1\n",
            "HQ405776.1 Lumbricina sp. GL-2010 isolate Zhejiang cytochrome c oxidase subunit I (COI) gene, partial cds; mitochondrial\n"
          ]
        }
      ],
      "source": [
        "# Load and print A FASTA file format\n",
        "for record in SeqIO.parse(\"/content/PraktikumBiologi/MyDrive/PraktikumBiologi/sequence.fasta\", \"fasta\"):\n",
        "  print(record.id)\n",
        "  print(record.description)"
      ]
    },
    {
      "cell_type": "code",
      "source": [
        "for record in SeqIO.parse(\"/content/PraktikumBiologi/MyDrive/PraktikumBiologi/sequence.fasta\",\"fasta\"):\n",
        "  print(record)"
      ],
      "metadata": {
        "id": "JhUcsl3qOLPu",
        "colab": {
          "base_uri": "https://localhost:8080/"
        },
        "outputId": "a9ad9551-e48d-464c-f6f1-661631151fe3"
      },
      "execution_count": null,
      "outputs": [
        {
          "output_type": "stream",
          "name": "stdout",
          "text": [
            "ID: HQ405776.1\n",
            "Name: HQ405776.1\n",
            "Description: HQ405776.1 Lumbricina sp. GL-2010 isolate Zhejiang cytochrome c oxidase subunit I (COI) gene, partial cds; mitochondrial\n",
            "Number of features: 0\n",
            "Seq('ATAAAGATATTGGAACCCTATACTTCATTCTAGGAATTTGAGCCGGAATAATTG...GTC')\n"
          ]
        }
      ]
    },
    {
      "cell_type": "code",
      "execution_count": null,
      "metadata": {
        "id": "zhRWSqgsZrrr"
      },
      "outputs": [],
      "source": [
        "# Reading the sequence in FASTA file format\n",
        "dna_record = SeqIO.read(\"/content/PraktikumBiologi/MyDrive/PraktikumBiologi/sequence.fasta\",\"fasta\")"
      ]
    },
    {
      "cell_type": "code",
      "source": [
        "dna_seq = dna_record.seq"
      ],
      "metadata": {
        "id": "nxcDxVi7OiEw"
      },
      "execution_count": null,
      "outputs": []
    },
    {
      "cell_type": "code",
      "source": [
        "dna_seq"
      ],
      "metadata": {
        "id": "CQIhSbSzOjcy",
        "colab": {
          "base_uri": "https://localhost:8080/"
        },
        "outputId": "751de465-892e-4e71-d067-3f946cd531f6"
      },
      "execution_count": null,
      "outputs": [
        {
          "output_type": "execute_result",
          "data": {
            "text/plain": [
              "Seq('ATAAAGATATTGGAACCCTATACTTCATTCTAGGAATTTGAGCCGGAATAATTG...GTC')"
            ]
          },
          "metadata": {},
          "execution_count": 30
        }
      ]
    },
    {
      "cell_type": "code",
      "execution_count": null,
      "metadata": {
        "id": "2HuLU7f-Zrrs",
        "colab": {
          "base_uri": "https://localhost:8080/"
        },
        "outputId": "f0ec1c37-9abe-42bf-f735-36318d451873"
      },
      "outputs": [
        {
          "output_type": "stream",
          "name": "stdout",
          "text": [
            "ID: HQ405776.1\n",
            "Name: HQ405776\n",
            "Description: Lumbricina sp. GL-2010 isolate Zhejiang cytochrome c oxidase subunit I (COI) gene, partial cds; mitochondrial\n",
            "Number of features: 3\n",
            "/molecule_type=DNA\n",
            "/topology=linear\n",
            "/data_file_division=INV\n",
            "/date=25-JUL-2016\n",
            "/accessions=['HQ405776']\n",
            "/sequence_version=1\n",
            "/keywords=['']\n",
            "/source=mitochondrion Lumbricina sp. GL-2010\n",
            "/organism=Lumbricina sp. GL-2010\n",
            "/taxonomy=['Eukaryota', 'Metazoa', 'Spiralia', 'Lophotrochozoa', 'Annelida', 'Clitellata', 'Oligochaeta', 'Crassiclitellata', 'Lumbricina']\n",
            "/references=[Reference(title='Chinese herbal medicine earthworm', ...), Reference(title='Direct Submission', ...)]\n",
            "Seq('ATAAAGATATTGGAACCCTATACTTCATTCTAGGAATTTGAGCCGGAATAATTG...GTC')\n"
          ]
        }
      ],
      "source": [
        "# Read and Load a GenBank File format\n",
        "for record in SeqIO.parse(\"/content/PraktikumBiologi/MyDrive/PraktikumBiologi/sequence.gb\",\"genbank\"):\n",
        "  print(record)"
      ]
    },
    {
      "cell_type": "code",
      "execution_count": null,
      "metadata": {
        "id": "qcUhKaf0Zrrs"
      },
      "outputs": [],
      "source": [
        "# Reading the sequence in GenBank format\n",
        "gb_dna_record = SeqIO.read(\"/content/PraktikumBiologi/MyDrive/PraktikumBiologi/sequence.gb\",\"gb\")"
      ]
    },
    {
      "cell_type": "code",
      "source": [
        "dna_seq2 = gb_dna_record.seq\n",
        "dna_seq2"
      ],
      "metadata": {
        "colab": {
          "base_uri": "https://localhost:8080/"
        },
        "id": "4s5qm0L9sYYs",
        "outputId": "0aa1b6ee-ae60-466b-dab1-ef4380bf59e1"
      },
      "execution_count": null,
      "outputs": [
        {
          "output_type": "execute_result",
          "data": {
            "text/plain": [
              "Seq('ATAAAGATATTGGAACCCTATACTTCATTCTAGGAATTTGAGCCGGAATAATTG...GTC')"
            ]
          },
          "metadata": {},
          "execution_count": 38
        }
      ]
    },
    {
      "cell_type": "code",
      "execution_count": null,
      "metadata": {
        "id": "D00CjP6mZrrs"
      },
      "outputs": [],
      "source": [
        "### Writing Data (OPTIONAL)\n",
        "from Bio import SeqIO\n",
        "\n",
        "record_dict = SeqIO.to_dict(SeqIO.parse('/content/PraktikumBiologi/MyDrive/PraktikumBiologi/sequence.fasta','fasta'))\n",
        "\n",
        "with open('/content/PraktikumBiologi/MyDrive/PraktikumBiologi/sequence.fasta','w') as handle:\n",
        "  SeqIO.write(record_dict.values(), handle, 'fasta')"
      ]
    },
    {
      "cell_type": "markdown",
      "metadata": {
        "id": "BbLQKa4GLX2Y"
      },
      "source": [
        "### Protein Explanatory Data Analysis (Optional)\n",
        "\n",
        "This in a summary and practical example from what we have done in the previous part\n",
        "\n",
        "1.   Read a .fasta DNA sequence file\n",
        "2.   do Transcriptiaon and Translation\n",
        "3.   do basic Explanatory Data Analysis"
      ]
    },
    {
      "cell_type": "code",
      "execution_count": null,
      "metadata": {
        "id": "lacpSOb3EWi4"
      },
      "outputs": [],
      "source": [
        "# Reading our fasta file\n",
        "from Bio.Seq import Seq\n",
        "from Bio import SeqIO\n",
        "seq_test = SeqIO.read(\"/content/PraktikumBiologi/MyDrive/PraktikumBiologi/sequence.fasta\",\"fasta\")\n",
        "dna_seq = seq_test.seq"
      ]
    },
    {
      "cell_type": "code",
      "execution_count": null,
      "metadata": {
        "id": "Z5PuRx8HHrO7",
        "colab": {
          "base_uri": "https://localhost:8080/"
        },
        "outputId": "81cd8970-4c8d-48dc-cd1e-c62407dfa4ce"
      },
      "outputs": [
        {
          "output_type": "execute_result",
          "data": {
            "text/plain": [
              "Seq('IKILEPYTSF*EFEPE*LEPE*DFLFVLN*DNLDPSLEEISYTTQL*QHTHF**...FLV')"
            ]
          },
          "metadata": {},
          "execution_count": 40
        }
      ],
      "source": [
        "# Transcription\n",
        "# DNA to mRNA = Writing the msg\n",
        "protein_test = dna_seq.transcribe().translate()\n",
        "protein_test"
      ]
    },
    {
      "cell_type": "code",
      "execution_count": null,
      "metadata": {
        "id": "9NJzWjv-MoCX",
        "colab": {
          "base_uri": "https://localhost:8080/"
        },
        "outputId": "3e43dab7-6806-4c47-cbd7-4c2ea252293e"
      },
      "outputs": [
        {
          "output_type": "execute_result",
          "data": {
            "text/plain": [
              "['IKILEPYTSF',\n",
              " 'EFEPE',\n",
              " 'LEPE',\n",
              " 'DFLFVLN',\n",
              " 'DNLDPSLEEISYTTQL',\n",
              " 'QHTHF',\n",
              " '',\n",
              " 'FSF',\n",
              " '',\n",
              " 'CQYLLVGLETDCSHLY',\n",
              " 'EPPT',\n",
              " 'HSHV',\n",
              " 'IT',\n",
              " 'DFDFCHHP',\n",
              " 'FY',\n",
              " '',\n",
              " 'GLRLLKREPVPDGQFTPL',\n",
              " 'QET',\n",
              " 'HMRAPL',\n",
              " 'TLQFSHYI',\n",
              " 'RVPHQF',\n",
              " 'VPLTLSLQ',\n",
              " 'LTCDDRGYA',\n",
              " 'NEFHYLFEP',\n",
              " '',\n",
              " 'LL',\n",
              " 'YFYYCRFPY',\n",
              " 'PVLLLYY',\n",
              " 'QTEI',\n",
              " 'IHPSLTPLEVATQFYINIYSDFLV']"
            ]
          },
          "metadata": {},
          "execution_count": 43
        }
      ],
      "source": [
        "# Longest Seq AA before a stop codon\n",
        "protein_test_clean = protein_test.split(\"*\")\n",
        "protein_test_clean = [ str(i) for i in protein_test_clean]\n",
        "protein_test_clean"
      ]
    },
    {
      "cell_type": "code",
      "execution_count": null,
      "metadata": {
        "id": "yT67hDKaLX2a",
        "colab": {
          "base_uri": "https://localhost:8080/",
          "height": 990
        },
        "outputId": "56b81225-db2e-4a11-ef4f-5b6c40dd38d2"
      },
      "outputs": [
        {
          "output_type": "execute_result",
          "data": {
            "text/plain": [
              "                 amino_acids\n",
              "0                 IKILEPYTSF\n",
              "1                      EFEPE\n",
              "2                       LEPE\n",
              "3                    DFLFVLN\n",
              "4           DNLDPSLEEISYTTQL\n",
              "5                      QHTHF\n",
              "6                           \n",
              "7                        FSF\n",
              "8                           \n",
              "9           CQYLLVGLETDCSHLY\n",
              "10                      EPPT\n",
              "11                      HSHV\n",
              "12                        IT\n",
              "13                  DFDFCHHP\n",
              "14                        FY\n",
              "15                          \n",
              "16        GLRLLKREPVPDGQFTPL\n",
              "17                       QET\n",
              "18                    HMRAPL\n",
              "19                  TLQFSHYI\n",
              "20                    RVPHQF\n",
              "21                  VPLTLSLQ\n",
              "22                 LTCDDRGYA\n",
              "23                 NEFHYLFEP\n",
              "24                          \n",
              "25                        LL\n",
              "26                 YFYYCRFPY\n",
              "27                   PVLLLYY\n",
              "28                      QTEI\n",
              "29  IHPSLTPLEVATQFYINIYSDFLV"
            ],
            "text/html": [
              "\n",
              "  <div id=\"df-0ea1d753-863a-4337-8dc9-8081be7faecc\" class=\"colab-df-container\">\n",
              "    <div>\n",
              "<style scoped>\n",
              "    .dataframe tbody tr th:only-of-type {\n",
              "        vertical-align: middle;\n",
              "    }\n",
              "\n",
              "    .dataframe tbody tr th {\n",
              "        vertical-align: top;\n",
              "    }\n",
              "\n",
              "    .dataframe thead th {\n",
              "        text-align: right;\n",
              "    }\n",
              "</style>\n",
              "<table border=\"1\" class=\"dataframe\">\n",
              "  <thead>\n",
              "    <tr style=\"text-align: right;\">\n",
              "      <th></th>\n",
              "      <th>amino_acids</th>\n",
              "    </tr>\n",
              "  </thead>\n",
              "  <tbody>\n",
              "    <tr>\n",
              "      <th>0</th>\n",
              "      <td>IKILEPYTSF</td>\n",
              "    </tr>\n",
              "    <tr>\n",
              "      <th>1</th>\n",
              "      <td>EFEPE</td>\n",
              "    </tr>\n",
              "    <tr>\n",
              "      <th>2</th>\n",
              "      <td>LEPE</td>\n",
              "    </tr>\n",
              "    <tr>\n",
              "      <th>3</th>\n",
              "      <td>DFLFVLN</td>\n",
              "    </tr>\n",
              "    <tr>\n",
              "      <th>4</th>\n",
              "      <td>DNLDPSLEEISYTTQL</td>\n",
              "    </tr>\n",
              "    <tr>\n",
              "      <th>5</th>\n",
              "      <td>QHTHF</td>\n",
              "    </tr>\n",
              "    <tr>\n",
              "      <th>6</th>\n",
              "      <td></td>\n",
              "    </tr>\n",
              "    <tr>\n",
              "      <th>7</th>\n",
              "      <td>FSF</td>\n",
              "    </tr>\n",
              "    <tr>\n",
              "      <th>8</th>\n",
              "      <td></td>\n",
              "    </tr>\n",
              "    <tr>\n",
              "      <th>9</th>\n",
              "      <td>CQYLLVGLETDCSHLY</td>\n",
              "    </tr>\n",
              "    <tr>\n",
              "      <th>10</th>\n",
              "      <td>EPPT</td>\n",
              "    </tr>\n",
              "    <tr>\n",
              "      <th>11</th>\n",
              "      <td>HSHV</td>\n",
              "    </tr>\n",
              "    <tr>\n",
              "      <th>12</th>\n",
              "      <td>IT</td>\n",
              "    </tr>\n",
              "    <tr>\n",
              "      <th>13</th>\n",
              "      <td>DFDFCHHP</td>\n",
              "    </tr>\n",
              "    <tr>\n",
              "      <th>14</th>\n",
              "      <td>FY</td>\n",
              "    </tr>\n",
              "    <tr>\n",
              "      <th>15</th>\n",
              "      <td></td>\n",
              "    </tr>\n",
              "    <tr>\n",
              "      <th>16</th>\n",
              "      <td>GLRLLKREPVPDGQFTPL</td>\n",
              "    </tr>\n",
              "    <tr>\n",
              "      <th>17</th>\n",
              "      <td>QET</td>\n",
              "    </tr>\n",
              "    <tr>\n",
              "      <th>18</th>\n",
              "      <td>HMRAPL</td>\n",
              "    </tr>\n",
              "    <tr>\n",
              "      <th>19</th>\n",
              "      <td>TLQFSHYI</td>\n",
              "    </tr>\n",
              "    <tr>\n",
              "      <th>20</th>\n",
              "      <td>RVPHQF</td>\n",
              "    </tr>\n",
              "    <tr>\n",
              "      <th>21</th>\n",
              "      <td>VPLTLSLQ</td>\n",
              "    </tr>\n",
              "    <tr>\n",
              "      <th>22</th>\n",
              "      <td>LTCDDRGYA</td>\n",
              "    </tr>\n",
              "    <tr>\n",
              "      <th>23</th>\n",
              "      <td>NEFHYLFEP</td>\n",
              "    </tr>\n",
              "    <tr>\n",
              "      <th>24</th>\n",
              "      <td></td>\n",
              "    </tr>\n",
              "    <tr>\n",
              "      <th>25</th>\n",
              "      <td>LL</td>\n",
              "    </tr>\n",
              "    <tr>\n",
              "      <th>26</th>\n",
              "      <td>YFYYCRFPY</td>\n",
              "    </tr>\n",
              "    <tr>\n",
              "      <th>27</th>\n",
              "      <td>PVLLLYY</td>\n",
              "    </tr>\n",
              "    <tr>\n",
              "      <th>28</th>\n",
              "      <td>QTEI</td>\n",
              "    </tr>\n",
              "    <tr>\n",
              "      <th>29</th>\n",
              "      <td>IHPSLTPLEVATQFYINIYSDFLV</td>\n",
              "    </tr>\n",
              "  </tbody>\n",
              "</table>\n",
              "</div>\n",
              "    <div class=\"colab-df-buttons\">\n",
              "\n",
              "  <div class=\"colab-df-container\">\n",
              "    <button class=\"colab-df-convert\" onclick=\"convertToInteractive('df-0ea1d753-863a-4337-8dc9-8081be7faecc')\"\n",
              "            title=\"Convert this dataframe to an interactive table.\"\n",
              "            style=\"display:none;\">\n",
              "\n",
              "  <svg xmlns=\"http://www.w3.org/2000/svg\" height=\"24px\" viewBox=\"0 -960 960 960\">\n",
              "    <path d=\"M120-120v-720h720v720H120Zm60-500h600v-160H180v160Zm220 220h160v-160H400v160Zm0 220h160v-160H400v160ZM180-400h160v-160H180v160Zm440 0h160v-160H620v160ZM180-180h160v-160H180v160Zm440 0h160v-160H620v160Z\"/>\n",
              "  </svg>\n",
              "    </button>\n",
              "\n",
              "  <style>\n",
              "    .colab-df-container {\n",
              "      display:flex;\n",
              "      gap: 12px;\n",
              "    }\n",
              "\n",
              "    .colab-df-convert {\n",
              "      background-color: #E8F0FE;\n",
              "      border: none;\n",
              "      border-radius: 50%;\n",
              "      cursor: pointer;\n",
              "      display: none;\n",
              "      fill: #1967D2;\n",
              "      height: 32px;\n",
              "      padding: 0 0 0 0;\n",
              "      width: 32px;\n",
              "    }\n",
              "\n",
              "    .colab-df-convert:hover {\n",
              "      background-color: #E2EBFA;\n",
              "      box-shadow: 0px 1px 2px rgba(60, 64, 67, 0.3), 0px 1px 3px 1px rgba(60, 64, 67, 0.15);\n",
              "      fill: #174EA6;\n",
              "    }\n",
              "\n",
              "    .colab-df-buttons div {\n",
              "      margin-bottom: 4px;\n",
              "    }\n",
              "\n",
              "    [theme=dark] .colab-df-convert {\n",
              "      background-color: #3B4455;\n",
              "      fill: #D2E3FC;\n",
              "    }\n",
              "\n",
              "    [theme=dark] .colab-df-convert:hover {\n",
              "      background-color: #434B5C;\n",
              "      box-shadow: 0px 1px 3px 1px rgba(0, 0, 0, 0.15);\n",
              "      filter: drop-shadow(0px 1px 2px rgba(0, 0, 0, 0.3));\n",
              "      fill: #FFFFFF;\n",
              "    }\n",
              "  </style>\n",
              "\n",
              "    <script>\n",
              "      const buttonEl =\n",
              "        document.querySelector('#df-0ea1d753-863a-4337-8dc9-8081be7faecc button.colab-df-convert');\n",
              "      buttonEl.style.display =\n",
              "        google.colab.kernel.accessAllowed ? 'block' : 'none';\n",
              "\n",
              "      async function convertToInteractive(key) {\n",
              "        const element = document.querySelector('#df-0ea1d753-863a-4337-8dc9-8081be7faecc');\n",
              "        const dataTable =\n",
              "          await google.colab.kernel.invokeFunction('convertToInteractive',\n",
              "                                                    [key], {});\n",
              "        if (!dataTable) return;\n",
              "\n",
              "        const docLinkHtml = 'Like what you see? Visit the ' +\n",
              "          '<a target=\"_blank\" href=https://colab.research.google.com/notebooks/data_table.ipynb>data table notebook</a>'\n",
              "          + ' to learn more about interactive tables.';\n",
              "        element.innerHTML = '';\n",
              "        dataTable['output_type'] = 'display_data';\n",
              "        await google.colab.output.renderOutput(dataTable, element);\n",
              "        const docLink = document.createElement('div');\n",
              "        docLink.innerHTML = docLinkHtml;\n",
              "        element.appendChild(docLink);\n",
              "      }\n",
              "    </script>\n",
              "  </div>\n",
              "\n",
              "\n",
              "<div id=\"df-ebf3f914-e30b-4d8c-b8bc-e520f9acf56c\">\n",
              "  <button class=\"colab-df-quickchart\" onclick=\"quickchart('df-ebf3f914-e30b-4d8c-b8bc-e520f9acf56c')\"\n",
              "            title=\"Suggest charts\"\n",
              "            style=\"display:none;\">\n",
              "\n",
              "<svg xmlns=\"http://www.w3.org/2000/svg\" height=\"24px\"viewBox=\"0 0 24 24\"\n",
              "     width=\"24px\">\n",
              "    <g>\n",
              "        <path d=\"M19 3H5c-1.1 0-2 .9-2 2v14c0 1.1.9 2 2 2h14c1.1 0 2-.9 2-2V5c0-1.1-.9-2-2-2zM9 17H7v-7h2v7zm4 0h-2V7h2v10zm4 0h-2v-4h2v4z\"/>\n",
              "    </g>\n",
              "</svg>\n",
              "  </button>\n",
              "\n",
              "<style>\n",
              "  .colab-df-quickchart {\n",
              "      --bg-color: #E8F0FE;\n",
              "      --fill-color: #1967D2;\n",
              "      --hover-bg-color: #E2EBFA;\n",
              "      --hover-fill-color: #174EA6;\n",
              "      --disabled-fill-color: #AAA;\n",
              "      --disabled-bg-color: #DDD;\n",
              "  }\n",
              "\n",
              "  [theme=dark] .colab-df-quickchart {\n",
              "      --bg-color: #3B4455;\n",
              "      --fill-color: #D2E3FC;\n",
              "      --hover-bg-color: #434B5C;\n",
              "      --hover-fill-color: #FFFFFF;\n",
              "      --disabled-bg-color: #3B4455;\n",
              "      --disabled-fill-color: #666;\n",
              "  }\n",
              "\n",
              "  .colab-df-quickchart {\n",
              "    background-color: var(--bg-color);\n",
              "    border: none;\n",
              "    border-radius: 50%;\n",
              "    cursor: pointer;\n",
              "    display: none;\n",
              "    fill: var(--fill-color);\n",
              "    height: 32px;\n",
              "    padding: 0;\n",
              "    width: 32px;\n",
              "  }\n",
              "\n",
              "  .colab-df-quickchart:hover {\n",
              "    background-color: var(--hover-bg-color);\n",
              "    box-shadow: 0 1px 2px rgba(60, 64, 67, 0.3), 0 1px 3px 1px rgba(60, 64, 67, 0.15);\n",
              "    fill: var(--button-hover-fill-color);\n",
              "  }\n",
              "\n",
              "  .colab-df-quickchart-complete:disabled,\n",
              "  .colab-df-quickchart-complete:disabled:hover {\n",
              "    background-color: var(--disabled-bg-color);\n",
              "    fill: var(--disabled-fill-color);\n",
              "    box-shadow: none;\n",
              "  }\n",
              "\n",
              "  .colab-df-spinner {\n",
              "    border: 2px solid var(--fill-color);\n",
              "    border-color: transparent;\n",
              "    border-bottom-color: var(--fill-color);\n",
              "    animation:\n",
              "      spin 1s steps(1) infinite;\n",
              "  }\n",
              "\n",
              "  @keyframes spin {\n",
              "    0% {\n",
              "      border-color: transparent;\n",
              "      border-bottom-color: var(--fill-color);\n",
              "      border-left-color: var(--fill-color);\n",
              "    }\n",
              "    20% {\n",
              "      border-color: transparent;\n",
              "      border-left-color: var(--fill-color);\n",
              "      border-top-color: var(--fill-color);\n",
              "    }\n",
              "    30% {\n",
              "      border-color: transparent;\n",
              "      border-left-color: var(--fill-color);\n",
              "      border-top-color: var(--fill-color);\n",
              "      border-right-color: var(--fill-color);\n",
              "    }\n",
              "    40% {\n",
              "      border-color: transparent;\n",
              "      border-right-color: var(--fill-color);\n",
              "      border-top-color: var(--fill-color);\n",
              "    }\n",
              "    60% {\n",
              "      border-color: transparent;\n",
              "      border-right-color: var(--fill-color);\n",
              "    }\n",
              "    80% {\n",
              "      border-color: transparent;\n",
              "      border-right-color: var(--fill-color);\n",
              "      border-bottom-color: var(--fill-color);\n",
              "    }\n",
              "    90% {\n",
              "      border-color: transparent;\n",
              "      border-bottom-color: var(--fill-color);\n",
              "    }\n",
              "  }\n",
              "</style>\n",
              "\n",
              "  <script>\n",
              "    async function quickchart(key) {\n",
              "      const quickchartButtonEl =\n",
              "        document.querySelector('#' + key + ' button');\n",
              "      quickchartButtonEl.disabled = true;  // To prevent multiple clicks.\n",
              "      quickchartButtonEl.classList.add('colab-df-spinner');\n",
              "      try {\n",
              "        const charts = await google.colab.kernel.invokeFunction(\n",
              "            'suggestCharts', [key], {});\n",
              "      } catch (error) {\n",
              "        console.error('Error during call to suggestCharts:', error);\n",
              "      }\n",
              "      quickchartButtonEl.classList.remove('colab-df-spinner');\n",
              "      quickchartButtonEl.classList.add('colab-df-quickchart-complete');\n",
              "    }\n",
              "    (() => {\n",
              "      let quickchartButtonEl =\n",
              "        document.querySelector('#df-ebf3f914-e30b-4d8c-b8bc-e520f9acf56c button');\n",
              "      quickchartButtonEl.style.display =\n",
              "        google.colab.kernel.accessAllowed ? 'block' : 'none';\n",
              "    })();\n",
              "  </script>\n",
              "</div>\n",
              "    </div>\n",
              "  </div>\n"
            ],
            "application/vnd.google.colaboratory.intrinsic+json": {
              "type": "dataframe",
              "variable_name": "df",
              "summary": "{\n  \"name\": \"df\",\n  \"rows\": 30,\n  \"fields\": [\n    {\n      \"column\": \"amino_acids\",\n      \"properties\": {\n        \"dtype\": \"string\",\n        \"num_unique_values\": 27,\n        \"samples\": [\n          \"CQYLLVGLETDCSHLY\",\n          \"FY\",\n          \"EPPT\"\n        ],\n        \"semantic_type\": \"\",\n        \"description\": \"\"\n      }\n    }\n  ]\n}"
            }
          },
          "metadata": {},
          "execution_count": 45
        }
      ],
      "source": [
        "# Explanatory Data Analysis using Pandas\n",
        "import pandas as pd\n",
        "df = pd.DataFrame({\"amino_acids\":protein_test_clean})\n",
        "df"
      ]
    },
    {
      "cell_type": "code",
      "source": [
        "df['count'] = df['amino_acids'].str.len()"
      ],
      "metadata": {
        "id": "djOifUnHP0RX"
      },
      "execution_count": null,
      "outputs": []
    },
    {
      "cell_type": "code",
      "source": [
        "df.head()"
      ],
      "metadata": {
        "id": "40T8748EP9Qw",
        "colab": {
          "base_uri": "https://localhost:8080/",
          "height": 206
        },
        "outputId": "2808483e-519d-4376-e171-94d048664b71"
      },
      "execution_count": null,
      "outputs": [
        {
          "output_type": "execute_result",
          "data": {
            "text/plain": [
              "        amino_acids  count\n",
              "0        IKILEPYTSF     10\n",
              "1             EFEPE      5\n",
              "2              LEPE      4\n",
              "3           DFLFVLN      7\n",
              "4  DNLDPSLEEISYTTQL     16"
            ],
            "text/html": [
              "\n",
              "  <div id=\"df-6bdd7367-a8eb-4c18-a601-606cb9ff3b86\" class=\"colab-df-container\">\n",
              "    <div>\n",
              "<style scoped>\n",
              "    .dataframe tbody tr th:only-of-type {\n",
              "        vertical-align: middle;\n",
              "    }\n",
              "\n",
              "    .dataframe tbody tr th {\n",
              "        vertical-align: top;\n",
              "    }\n",
              "\n",
              "    .dataframe thead th {\n",
              "        text-align: right;\n",
              "    }\n",
              "</style>\n",
              "<table border=\"1\" class=\"dataframe\">\n",
              "  <thead>\n",
              "    <tr style=\"text-align: right;\">\n",
              "      <th></th>\n",
              "      <th>amino_acids</th>\n",
              "      <th>count</th>\n",
              "    </tr>\n",
              "  </thead>\n",
              "  <tbody>\n",
              "    <tr>\n",
              "      <th>0</th>\n",
              "      <td>IKILEPYTSF</td>\n",
              "      <td>10</td>\n",
              "    </tr>\n",
              "    <tr>\n",
              "      <th>1</th>\n",
              "      <td>EFEPE</td>\n",
              "      <td>5</td>\n",
              "    </tr>\n",
              "    <tr>\n",
              "      <th>2</th>\n",
              "      <td>LEPE</td>\n",
              "      <td>4</td>\n",
              "    </tr>\n",
              "    <tr>\n",
              "      <th>3</th>\n",
              "      <td>DFLFVLN</td>\n",
              "      <td>7</td>\n",
              "    </tr>\n",
              "    <tr>\n",
              "      <th>4</th>\n",
              "      <td>DNLDPSLEEISYTTQL</td>\n",
              "      <td>16</td>\n",
              "    </tr>\n",
              "  </tbody>\n",
              "</table>\n",
              "</div>\n",
              "    <div class=\"colab-df-buttons\">\n",
              "\n",
              "  <div class=\"colab-df-container\">\n",
              "    <button class=\"colab-df-convert\" onclick=\"convertToInteractive('df-6bdd7367-a8eb-4c18-a601-606cb9ff3b86')\"\n",
              "            title=\"Convert this dataframe to an interactive table.\"\n",
              "            style=\"display:none;\">\n",
              "\n",
              "  <svg xmlns=\"http://www.w3.org/2000/svg\" height=\"24px\" viewBox=\"0 -960 960 960\">\n",
              "    <path d=\"M120-120v-720h720v720H120Zm60-500h600v-160H180v160Zm220 220h160v-160H400v160Zm0 220h160v-160H400v160ZM180-400h160v-160H180v160Zm440 0h160v-160H620v160ZM180-180h160v-160H180v160Zm440 0h160v-160H620v160Z\"/>\n",
              "  </svg>\n",
              "    </button>\n",
              "\n",
              "  <style>\n",
              "    .colab-df-container {\n",
              "      display:flex;\n",
              "      gap: 12px;\n",
              "    }\n",
              "\n",
              "    .colab-df-convert {\n",
              "      background-color: #E8F0FE;\n",
              "      border: none;\n",
              "      border-radius: 50%;\n",
              "      cursor: pointer;\n",
              "      display: none;\n",
              "      fill: #1967D2;\n",
              "      height: 32px;\n",
              "      padding: 0 0 0 0;\n",
              "      width: 32px;\n",
              "    }\n",
              "\n",
              "    .colab-df-convert:hover {\n",
              "      background-color: #E2EBFA;\n",
              "      box-shadow: 0px 1px 2px rgba(60, 64, 67, 0.3), 0px 1px 3px 1px rgba(60, 64, 67, 0.15);\n",
              "      fill: #174EA6;\n",
              "    }\n",
              "\n",
              "    .colab-df-buttons div {\n",
              "      margin-bottom: 4px;\n",
              "    }\n",
              "\n",
              "    [theme=dark] .colab-df-convert {\n",
              "      background-color: #3B4455;\n",
              "      fill: #D2E3FC;\n",
              "    }\n",
              "\n",
              "    [theme=dark] .colab-df-convert:hover {\n",
              "      background-color: #434B5C;\n",
              "      box-shadow: 0px 1px 3px 1px rgba(0, 0, 0, 0.15);\n",
              "      filter: drop-shadow(0px 1px 2px rgba(0, 0, 0, 0.3));\n",
              "      fill: #FFFFFF;\n",
              "    }\n",
              "  </style>\n",
              "\n",
              "    <script>\n",
              "      const buttonEl =\n",
              "        document.querySelector('#df-6bdd7367-a8eb-4c18-a601-606cb9ff3b86 button.colab-df-convert');\n",
              "      buttonEl.style.display =\n",
              "        google.colab.kernel.accessAllowed ? 'block' : 'none';\n",
              "\n",
              "      async function convertToInteractive(key) {\n",
              "        const element = document.querySelector('#df-6bdd7367-a8eb-4c18-a601-606cb9ff3b86');\n",
              "        const dataTable =\n",
              "          await google.colab.kernel.invokeFunction('convertToInteractive',\n",
              "                                                    [key], {});\n",
              "        if (!dataTable) return;\n",
              "\n",
              "        const docLinkHtml = 'Like what you see? Visit the ' +\n",
              "          '<a target=\"_blank\" href=https://colab.research.google.com/notebooks/data_table.ipynb>data table notebook</a>'\n",
              "          + ' to learn more about interactive tables.';\n",
              "        element.innerHTML = '';\n",
              "        dataTable['output_type'] = 'display_data';\n",
              "        await google.colab.output.renderOutput(dataTable, element);\n",
              "        const docLink = document.createElement('div');\n",
              "        docLink.innerHTML = docLinkHtml;\n",
              "        element.appendChild(docLink);\n",
              "      }\n",
              "    </script>\n",
              "  </div>\n",
              "\n",
              "\n",
              "<div id=\"df-644caaf7-5817-4980-8c95-a54be36995b1\">\n",
              "  <button class=\"colab-df-quickchart\" onclick=\"quickchart('df-644caaf7-5817-4980-8c95-a54be36995b1')\"\n",
              "            title=\"Suggest charts\"\n",
              "            style=\"display:none;\">\n",
              "\n",
              "<svg xmlns=\"http://www.w3.org/2000/svg\" height=\"24px\"viewBox=\"0 0 24 24\"\n",
              "     width=\"24px\">\n",
              "    <g>\n",
              "        <path d=\"M19 3H5c-1.1 0-2 .9-2 2v14c0 1.1.9 2 2 2h14c1.1 0 2-.9 2-2V5c0-1.1-.9-2-2-2zM9 17H7v-7h2v7zm4 0h-2V7h2v10zm4 0h-2v-4h2v4z\"/>\n",
              "    </g>\n",
              "</svg>\n",
              "  </button>\n",
              "\n",
              "<style>\n",
              "  .colab-df-quickchart {\n",
              "      --bg-color: #E8F0FE;\n",
              "      --fill-color: #1967D2;\n",
              "      --hover-bg-color: #E2EBFA;\n",
              "      --hover-fill-color: #174EA6;\n",
              "      --disabled-fill-color: #AAA;\n",
              "      --disabled-bg-color: #DDD;\n",
              "  }\n",
              "\n",
              "  [theme=dark] .colab-df-quickchart {\n",
              "      --bg-color: #3B4455;\n",
              "      --fill-color: #D2E3FC;\n",
              "      --hover-bg-color: #434B5C;\n",
              "      --hover-fill-color: #FFFFFF;\n",
              "      --disabled-bg-color: #3B4455;\n",
              "      --disabled-fill-color: #666;\n",
              "  }\n",
              "\n",
              "  .colab-df-quickchart {\n",
              "    background-color: var(--bg-color);\n",
              "    border: none;\n",
              "    border-radius: 50%;\n",
              "    cursor: pointer;\n",
              "    display: none;\n",
              "    fill: var(--fill-color);\n",
              "    height: 32px;\n",
              "    padding: 0;\n",
              "    width: 32px;\n",
              "  }\n",
              "\n",
              "  .colab-df-quickchart:hover {\n",
              "    background-color: var(--hover-bg-color);\n",
              "    box-shadow: 0 1px 2px rgba(60, 64, 67, 0.3), 0 1px 3px 1px rgba(60, 64, 67, 0.15);\n",
              "    fill: var(--button-hover-fill-color);\n",
              "  }\n",
              "\n",
              "  .colab-df-quickchart-complete:disabled,\n",
              "  .colab-df-quickchart-complete:disabled:hover {\n",
              "    background-color: var(--disabled-bg-color);\n",
              "    fill: var(--disabled-fill-color);\n",
              "    box-shadow: none;\n",
              "  }\n",
              "\n",
              "  .colab-df-spinner {\n",
              "    border: 2px solid var(--fill-color);\n",
              "    border-color: transparent;\n",
              "    border-bottom-color: var(--fill-color);\n",
              "    animation:\n",
              "      spin 1s steps(1) infinite;\n",
              "  }\n",
              "\n",
              "  @keyframes spin {\n",
              "    0% {\n",
              "      border-color: transparent;\n",
              "      border-bottom-color: var(--fill-color);\n",
              "      border-left-color: var(--fill-color);\n",
              "    }\n",
              "    20% {\n",
              "      border-color: transparent;\n",
              "      border-left-color: var(--fill-color);\n",
              "      border-top-color: var(--fill-color);\n",
              "    }\n",
              "    30% {\n",
              "      border-color: transparent;\n",
              "      border-left-color: var(--fill-color);\n",
              "      border-top-color: var(--fill-color);\n",
              "      border-right-color: var(--fill-color);\n",
              "    }\n",
              "    40% {\n",
              "      border-color: transparent;\n",
              "      border-right-color: var(--fill-color);\n",
              "      border-top-color: var(--fill-color);\n",
              "    }\n",
              "    60% {\n",
              "      border-color: transparent;\n",
              "      border-right-color: var(--fill-color);\n",
              "    }\n",
              "    80% {\n",
              "      border-color: transparent;\n",
              "      border-right-color: var(--fill-color);\n",
              "      border-bottom-color: var(--fill-color);\n",
              "    }\n",
              "    90% {\n",
              "      border-color: transparent;\n",
              "      border-bottom-color: var(--fill-color);\n",
              "    }\n",
              "  }\n",
              "</style>\n",
              "\n",
              "  <script>\n",
              "    async function quickchart(key) {\n",
              "      const quickchartButtonEl =\n",
              "        document.querySelector('#' + key + ' button');\n",
              "      quickchartButtonEl.disabled = true;  // To prevent multiple clicks.\n",
              "      quickchartButtonEl.classList.add('colab-df-spinner');\n",
              "      try {\n",
              "        const charts = await google.colab.kernel.invokeFunction(\n",
              "            'suggestCharts', [key], {});\n",
              "      } catch (error) {\n",
              "        console.error('Error during call to suggestCharts:', error);\n",
              "      }\n",
              "      quickchartButtonEl.classList.remove('colab-df-spinner');\n",
              "      quickchartButtonEl.classList.add('colab-df-quickchart-complete');\n",
              "    }\n",
              "    (() => {\n",
              "      let quickchartButtonEl =\n",
              "        document.querySelector('#df-644caaf7-5817-4980-8c95-a54be36995b1 button');\n",
              "      quickchartButtonEl.style.display =\n",
              "        google.colab.kernel.accessAllowed ? 'block' : 'none';\n",
              "    })();\n",
              "  </script>\n",
              "</div>\n",
              "    </div>\n",
              "  </div>\n"
            ],
            "application/vnd.google.colaboratory.intrinsic+json": {
              "type": "dataframe",
              "variable_name": "df",
              "summary": "{\n  \"name\": \"df\",\n  \"rows\": 30,\n  \"fields\": [\n    {\n      \"column\": \"amino_acids\",\n      \"properties\": {\n        \"dtype\": \"string\",\n        \"num_unique_values\": 27,\n        \"samples\": [\n          \"CQYLLVGLETDCSHLY\",\n          \"FY\",\n          \"EPPT\"\n        ],\n        \"semantic_type\": \"\",\n        \"description\": \"\"\n      }\n    },\n    {\n      \"column\": \"count\",\n      \"properties\": {\n        \"dtype\": \"number\",\n        \"std\": 5,\n        \"min\": 0,\n        \"max\": 24,\n        \"num_unique_values\": 13,\n        \"samples\": [\n          9,\n          18,\n          10\n        ],\n        \"semantic_type\": \"\",\n        \"description\": \"\"\n      }\n    }\n  ]\n}"
            }
          },
          "metadata": {},
          "execution_count": 47
        }
      ]
    },
    {
      "cell_type": "code",
      "source": [
        "df.nlargest(10,'count') # 10 terbesar"
      ],
      "metadata": {
        "id": "i3AF_gBwQAA0",
        "colab": {
          "base_uri": "https://localhost:8080/",
          "height": 363
        },
        "outputId": "5ee975f4-b2e7-4453-dcf8-6639a76b68fd"
      },
      "execution_count": null,
      "outputs": [
        {
          "output_type": "execute_result",
          "data": {
            "text/plain": [
              "                 amino_acids  count\n",
              "29  IHPSLTPLEVATQFYINIYSDFLV     24\n",
              "16        GLRLLKREPVPDGQFTPL     18\n",
              "4           DNLDPSLEEISYTTQL     16\n",
              "9           CQYLLVGLETDCSHLY     16\n",
              "0                 IKILEPYTSF     10\n",
              "22                 LTCDDRGYA      9\n",
              "23                 NEFHYLFEP      9\n",
              "26                 YFYYCRFPY      9\n",
              "13                  DFDFCHHP      8\n",
              "19                  TLQFSHYI      8"
            ],
            "text/html": [
              "\n",
              "  <div id=\"df-4512032c-bc18-46a4-991b-200e40912742\" class=\"colab-df-container\">\n",
              "    <div>\n",
              "<style scoped>\n",
              "    .dataframe tbody tr th:only-of-type {\n",
              "        vertical-align: middle;\n",
              "    }\n",
              "\n",
              "    .dataframe tbody tr th {\n",
              "        vertical-align: top;\n",
              "    }\n",
              "\n",
              "    .dataframe thead th {\n",
              "        text-align: right;\n",
              "    }\n",
              "</style>\n",
              "<table border=\"1\" class=\"dataframe\">\n",
              "  <thead>\n",
              "    <tr style=\"text-align: right;\">\n",
              "      <th></th>\n",
              "      <th>amino_acids</th>\n",
              "      <th>count</th>\n",
              "    </tr>\n",
              "  </thead>\n",
              "  <tbody>\n",
              "    <tr>\n",
              "      <th>29</th>\n",
              "      <td>IHPSLTPLEVATQFYINIYSDFLV</td>\n",
              "      <td>24</td>\n",
              "    </tr>\n",
              "    <tr>\n",
              "      <th>16</th>\n",
              "      <td>GLRLLKREPVPDGQFTPL</td>\n",
              "      <td>18</td>\n",
              "    </tr>\n",
              "    <tr>\n",
              "      <th>4</th>\n",
              "      <td>DNLDPSLEEISYTTQL</td>\n",
              "      <td>16</td>\n",
              "    </tr>\n",
              "    <tr>\n",
              "      <th>9</th>\n",
              "      <td>CQYLLVGLETDCSHLY</td>\n",
              "      <td>16</td>\n",
              "    </tr>\n",
              "    <tr>\n",
              "      <th>0</th>\n",
              "      <td>IKILEPYTSF</td>\n",
              "      <td>10</td>\n",
              "    </tr>\n",
              "    <tr>\n",
              "      <th>22</th>\n",
              "      <td>LTCDDRGYA</td>\n",
              "      <td>9</td>\n",
              "    </tr>\n",
              "    <tr>\n",
              "      <th>23</th>\n",
              "      <td>NEFHYLFEP</td>\n",
              "      <td>9</td>\n",
              "    </tr>\n",
              "    <tr>\n",
              "      <th>26</th>\n",
              "      <td>YFYYCRFPY</td>\n",
              "      <td>9</td>\n",
              "    </tr>\n",
              "    <tr>\n",
              "      <th>13</th>\n",
              "      <td>DFDFCHHP</td>\n",
              "      <td>8</td>\n",
              "    </tr>\n",
              "    <tr>\n",
              "      <th>19</th>\n",
              "      <td>TLQFSHYI</td>\n",
              "      <td>8</td>\n",
              "    </tr>\n",
              "  </tbody>\n",
              "</table>\n",
              "</div>\n",
              "    <div class=\"colab-df-buttons\">\n",
              "\n",
              "  <div class=\"colab-df-container\">\n",
              "    <button class=\"colab-df-convert\" onclick=\"convertToInteractive('df-4512032c-bc18-46a4-991b-200e40912742')\"\n",
              "            title=\"Convert this dataframe to an interactive table.\"\n",
              "            style=\"display:none;\">\n",
              "\n",
              "  <svg xmlns=\"http://www.w3.org/2000/svg\" height=\"24px\" viewBox=\"0 -960 960 960\">\n",
              "    <path d=\"M120-120v-720h720v720H120Zm60-500h600v-160H180v160Zm220 220h160v-160H400v160Zm0 220h160v-160H400v160ZM180-400h160v-160H180v160Zm440 0h160v-160H620v160ZM180-180h160v-160H180v160Zm440 0h160v-160H620v160Z\"/>\n",
              "  </svg>\n",
              "    </button>\n",
              "\n",
              "  <style>\n",
              "    .colab-df-container {\n",
              "      display:flex;\n",
              "      gap: 12px;\n",
              "    }\n",
              "\n",
              "    .colab-df-convert {\n",
              "      background-color: #E8F0FE;\n",
              "      border: none;\n",
              "      border-radius: 50%;\n",
              "      cursor: pointer;\n",
              "      display: none;\n",
              "      fill: #1967D2;\n",
              "      height: 32px;\n",
              "      padding: 0 0 0 0;\n",
              "      width: 32px;\n",
              "    }\n",
              "\n",
              "    .colab-df-convert:hover {\n",
              "      background-color: #E2EBFA;\n",
              "      box-shadow: 0px 1px 2px rgba(60, 64, 67, 0.3), 0px 1px 3px 1px rgba(60, 64, 67, 0.15);\n",
              "      fill: #174EA6;\n",
              "    }\n",
              "\n",
              "    .colab-df-buttons div {\n",
              "      margin-bottom: 4px;\n",
              "    }\n",
              "\n",
              "    [theme=dark] .colab-df-convert {\n",
              "      background-color: #3B4455;\n",
              "      fill: #D2E3FC;\n",
              "    }\n",
              "\n",
              "    [theme=dark] .colab-df-convert:hover {\n",
              "      background-color: #434B5C;\n",
              "      box-shadow: 0px 1px 3px 1px rgba(0, 0, 0, 0.15);\n",
              "      filter: drop-shadow(0px 1px 2px rgba(0, 0, 0, 0.3));\n",
              "      fill: #FFFFFF;\n",
              "    }\n",
              "  </style>\n",
              "\n",
              "    <script>\n",
              "      const buttonEl =\n",
              "        document.querySelector('#df-4512032c-bc18-46a4-991b-200e40912742 button.colab-df-convert');\n",
              "      buttonEl.style.display =\n",
              "        google.colab.kernel.accessAllowed ? 'block' : 'none';\n",
              "\n",
              "      async function convertToInteractive(key) {\n",
              "        const element = document.querySelector('#df-4512032c-bc18-46a4-991b-200e40912742');\n",
              "        const dataTable =\n",
              "          await google.colab.kernel.invokeFunction('convertToInteractive',\n",
              "                                                    [key], {});\n",
              "        if (!dataTable) return;\n",
              "\n",
              "        const docLinkHtml = 'Like what you see? Visit the ' +\n",
              "          '<a target=\"_blank\" href=https://colab.research.google.com/notebooks/data_table.ipynb>data table notebook</a>'\n",
              "          + ' to learn more about interactive tables.';\n",
              "        element.innerHTML = '';\n",
              "        dataTable['output_type'] = 'display_data';\n",
              "        await google.colab.output.renderOutput(dataTable, element);\n",
              "        const docLink = document.createElement('div');\n",
              "        docLink.innerHTML = docLinkHtml;\n",
              "        element.appendChild(docLink);\n",
              "      }\n",
              "    </script>\n",
              "  </div>\n",
              "\n",
              "\n",
              "<div id=\"df-add5b27d-cdb2-4ac0-a458-09b77e9d22ca\">\n",
              "  <button class=\"colab-df-quickchart\" onclick=\"quickchart('df-add5b27d-cdb2-4ac0-a458-09b77e9d22ca')\"\n",
              "            title=\"Suggest charts\"\n",
              "            style=\"display:none;\">\n",
              "\n",
              "<svg xmlns=\"http://www.w3.org/2000/svg\" height=\"24px\"viewBox=\"0 0 24 24\"\n",
              "     width=\"24px\">\n",
              "    <g>\n",
              "        <path d=\"M19 3H5c-1.1 0-2 .9-2 2v14c0 1.1.9 2 2 2h14c1.1 0 2-.9 2-2V5c0-1.1-.9-2-2-2zM9 17H7v-7h2v7zm4 0h-2V7h2v10zm4 0h-2v-4h2v4z\"/>\n",
              "    </g>\n",
              "</svg>\n",
              "  </button>\n",
              "\n",
              "<style>\n",
              "  .colab-df-quickchart {\n",
              "      --bg-color: #E8F0FE;\n",
              "      --fill-color: #1967D2;\n",
              "      --hover-bg-color: #E2EBFA;\n",
              "      --hover-fill-color: #174EA6;\n",
              "      --disabled-fill-color: #AAA;\n",
              "      --disabled-bg-color: #DDD;\n",
              "  }\n",
              "\n",
              "  [theme=dark] .colab-df-quickchart {\n",
              "      --bg-color: #3B4455;\n",
              "      --fill-color: #D2E3FC;\n",
              "      --hover-bg-color: #434B5C;\n",
              "      --hover-fill-color: #FFFFFF;\n",
              "      --disabled-bg-color: #3B4455;\n",
              "      --disabled-fill-color: #666;\n",
              "  }\n",
              "\n",
              "  .colab-df-quickchart {\n",
              "    background-color: var(--bg-color);\n",
              "    border: none;\n",
              "    border-radius: 50%;\n",
              "    cursor: pointer;\n",
              "    display: none;\n",
              "    fill: var(--fill-color);\n",
              "    height: 32px;\n",
              "    padding: 0;\n",
              "    width: 32px;\n",
              "  }\n",
              "\n",
              "  .colab-df-quickchart:hover {\n",
              "    background-color: var(--hover-bg-color);\n",
              "    box-shadow: 0 1px 2px rgba(60, 64, 67, 0.3), 0 1px 3px 1px rgba(60, 64, 67, 0.15);\n",
              "    fill: var(--button-hover-fill-color);\n",
              "  }\n",
              "\n",
              "  .colab-df-quickchart-complete:disabled,\n",
              "  .colab-df-quickchart-complete:disabled:hover {\n",
              "    background-color: var(--disabled-bg-color);\n",
              "    fill: var(--disabled-fill-color);\n",
              "    box-shadow: none;\n",
              "  }\n",
              "\n",
              "  .colab-df-spinner {\n",
              "    border: 2px solid var(--fill-color);\n",
              "    border-color: transparent;\n",
              "    border-bottom-color: var(--fill-color);\n",
              "    animation:\n",
              "      spin 1s steps(1) infinite;\n",
              "  }\n",
              "\n",
              "  @keyframes spin {\n",
              "    0% {\n",
              "      border-color: transparent;\n",
              "      border-bottom-color: var(--fill-color);\n",
              "      border-left-color: var(--fill-color);\n",
              "    }\n",
              "    20% {\n",
              "      border-color: transparent;\n",
              "      border-left-color: var(--fill-color);\n",
              "      border-top-color: var(--fill-color);\n",
              "    }\n",
              "    30% {\n",
              "      border-color: transparent;\n",
              "      border-left-color: var(--fill-color);\n",
              "      border-top-color: var(--fill-color);\n",
              "      border-right-color: var(--fill-color);\n",
              "    }\n",
              "    40% {\n",
              "      border-color: transparent;\n",
              "      border-right-color: var(--fill-color);\n",
              "      border-top-color: var(--fill-color);\n",
              "    }\n",
              "    60% {\n",
              "      border-color: transparent;\n",
              "      border-right-color: var(--fill-color);\n",
              "    }\n",
              "    80% {\n",
              "      border-color: transparent;\n",
              "      border-right-color: var(--fill-color);\n",
              "      border-bottom-color: var(--fill-color);\n",
              "    }\n",
              "    90% {\n",
              "      border-color: transparent;\n",
              "      border-bottom-color: var(--fill-color);\n",
              "    }\n",
              "  }\n",
              "</style>\n",
              "\n",
              "  <script>\n",
              "    async function quickchart(key) {\n",
              "      const quickchartButtonEl =\n",
              "        document.querySelector('#' + key + ' button');\n",
              "      quickchartButtonEl.disabled = true;  // To prevent multiple clicks.\n",
              "      quickchartButtonEl.classList.add('colab-df-spinner');\n",
              "      try {\n",
              "        const charts = await google.colab.kernel.invokeFunction(\n",
              "            'suggestCharts', [key], {});\n",
              "      } catch (error) {\n",
              "        console.error('Error during call to suggestCharts:', error);\n",
              "      }\n",
              "      quickchartButtonEl.classList.remove('colab-df-spinner');\n",
              "      quickchartButtonEl.classList.add('colab-df-quickchart-complete');\n",
              "    }\n",
              "    (() => {\n",
              "      let quickchartButtonEl =\n",
              "        document.querySelector('#df-add5b27d-cdb2-4ac0-a458-09b77e9d22ca button');\n",
              "      quickchartButtonEl.style.display =\n",
              "        google.colab.kernel.accessAllowed ? 'block' : 'none';\n",
              "    })();\n",
              "  </script>\n",
              "</div>\n",
              "    </div>\n",
              "  </div>\n"
            ],
            "application/vnd.google.colaboratory.intrinsic+json": {
              "type": "dataframe",
              "summary": "{\n  \"name\": \"df\",\n  \"rows\": 10,\n  \"fields\": [\n    {\n      \"column\": \"amino_acids\",\n      \"properties\": {\n        \"dtype\": \"string\",\n        \"num_unique_values\": 10,\n        \"samples\": [\n          \"DFDFCHHP\",\n          \"GLRLLKREPVPDGQFTPL\",\n          \"LTCDDRGYA\"\n        ],\n        \"semantic_type\": \"\",\n        \"description\": \"\"\n      }\n    },\n    {\n      \"column\": \"count\",\n      \"properties\": {\n        \"dtype\": \"number\",\n        \"std\": 5,\n        \"min\": 8,\n        \"max\": 24,\n        \"num_unique_values\": 6,\n        \"samples\": [\n          24,\n          18,\n          8\n        ],\n        \"semantic_type\": \"\",\n        \"description\": \"\"\n      }\n    }\n  ]\n}"
            }
          },
          "metadata": {},
          "execution_count": 48
        }
      ]
    },
    {
      "cell_type": "markdown",
      "metadata": {
        "id": "OXZniGTOZrrs"
      },
      "source": [
        "## EXAM QUESTION : Sequence Analysis and Protein Synthesis of Covid-19\n",
        "![](covid19.png)\n",
        "![](https://drive.google.com/uc?export=view&id=13x8b147yDMYWL-jKowfsSLE3J2FcTEOk)\n",
        "\n",
        "### TASK PPTI\n",
        "+ Explain how to obtain the Covid-19 Sequence from Biological Database (20%)\n",
        "+ Read and the Biological Data and Explain the information (FASTA) (20%)\n",
        "+ Conduct Sequence Analysis (20%)\n",
        "+ Conduct Protein Synthesis & Protein Structure Analysis (20%)\n",
        "+ Write Scientific Practicum Report (20%)\n",
        "+ Run Basic Data Science Analysis (Extra Score 10%!)\n",
        "\n",
        "### TASK Regular\n",
        "+ Explain how to obtain the Covid-19 Sequence from Biological Database (20%)\n",
        "+ Read and the Biological Data and Explain the information (FASTA) (20%)\n",
        "+ Conduct Sequence Analysis (20%)\n",
        "+ Conduct Protein Synthesis (20%)\n",
        "+ Write Scientific Practicum Report (20%)\n",
        "+ Run Basic Data Science Analysis (Extra Score 10%!)"
      ]
    },
    {
      "cell_type": "code",
      "execution_count": null,
      "metadata": {
        "id": "QV52AzAGZrrs"
      },
      "outputs": [],
      "source": [
        "# Id MT385497.1\n",
        "# https://www.ncbi.nlm.nih.gov/nuccore/MT385497.1?report=fasta&log$=seqview\n",
        "\n",
        "!pip install biopython\n",
        "from Bio import SeqIO\n",
        "\n",
        "# Reading our fasta file\n",
        "covid_record = SeqIO.read(\"covid_sequence_MT385497.fasta\",\"fasta\")"
      ]
    },
    {
      "cell_type": "markdown",
      "metadata": {
        "id": "yjCBA4r5Zrr1"
      },
      "source": [
        "## Last update 30/09/2022\n",
        "Fabian S Pramudya, Ph.D  \n",
        "fabian.pramudya@binus.edu\n",
        "\n",
        "(+852)60373436"
      ]
    },
    {
      "cell_type": "code",
      "execution_count": null,
      "metadata": {
        "id": "iFmyNizrZrr1"
      },
      "outputs": [],
      "source": []
    }
  ],
  "metadata": {
    "colab": {
      "provenance": []
    },
    "kernelspec": {
      "display_name": "Python 3",
      "language": "python",
      "name": "python3"
    },
    "language_info": {
      "codemirror_mode": {
        "name": "ipython",
        "version": 3
      },
      "file_extension": ".py",
      "mimetype": "text/x-python",
      "name": "python",
      "nbconvert_exporter": "python",
      "pygments_lexer": "ipython3",
      "version": "3.7.4"
    },
    "toc": {
      "base_numbering": 1,
      "nav_menu": {},
      "number_sections": true,
      "sideBar": true,
      "skip_h1_title": false,
      "title_cell": "Table of Contents",
      "title_sidebar": "Contents",
      "toc_cell": false,
      "toc_position": {},
      "toc_section_display": true,
      "toc_window_display": false
    }
  },
  "nbformat": 4,
  "nbformat_minor": 0
}